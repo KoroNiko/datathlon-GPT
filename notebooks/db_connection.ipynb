{
 "cells": [
  {
   "cell_type": "code",
   "execution_count": null,
   "metadata": {},
   "outputs": [],
   "source": [
    "import ast\n",
    "import os\n",
    "import pandas as pd\n",
    "from app import datathlonDB, db, server\n",
    "from sqlalchemy import select, and_\n",
    "from utils import database\n",
    "\n",
    "from environment.settings import config \n",
    "\n",
    "dataset_dir = config['DATASET_DIR']"
   ]
  },
  {
   "cell_type": "code",
   "execution_count": 85,
   "metadata": {},
   "outputs": [],
   "source": [
    "with server.app_context():\n",
    "    query = select(database.Category)\n",
    "    # print(db.engine.connect())\n",
    "    df = pd.read_sql_query(sql=query, con=db.engine.connect())"
   ]
  },
  {
   "cell_type": "code",
   "execution_count": 99,
   "metadata": {},
   "outputs": [
    {
     "data": {
      "text/html": [
       "<div>\n",
       "<style scoped>\n",
       "    .dataframe tbody tr th:only-of-type {\n",
       "        vertical-align: middle;\n",
       "    }\n",
       "\n",
       "    .dataframe tbody tr th {\n",
       "        vertical-align: top;\n",
       "    }\n",
       "\n",
       "    .dataframe thead th {\n",
       "        text-align: right;\n",
       "    }\n",
       "</style>\n",
       "<table border=\"1\" class=\"dataframe\">\n",
       "  <thead>\n",
       "    <tr style=\"text-align: right;\">\n",
       "      <th></th>\n",
       "      <th>artist_id</th>\n",
       "      <th>name</th>\n",
       "      <th>start_date</th>\n",
       "      <th>end_date</th>\n",
       "      <th>category_id</th>\n",
       "      <th>picture_url</th>\n",
       "    </tr>\n",
       "  </thead>\n",
       "  <tbody>\n",
       "    <tr>\n",
       "      <th>0</th>\n",
       "      <td>0</td>\n",
       "      <td>Vincent Van Gogh</td>\n",
       "      <td>1853-03-30</td>\n",
       "      <td>1890-07-29</td>\n",
       "      <td>1</td>\n",
       "      <td>https://kuleuven-datathon-2023.s3.eu-central-1...</td>\n",
       "    </tr>\n",
       "    <tr>\n",
       "      <th>1</th>\n",
       "      <td>0</td>\n",
       "      <td>Vincent Van Gogh</td>\n",
       "      <td>1853-03-30</td>\n",
       "      <td>1890-07-29</td>\n",
       "      <td>1</td>\n",
       "      <td>https://kuleuven-datathon-2023.s3.eu-central-1...</td>\n",
       "    </tr>\n",
       "    <tr>\n",
       "      <th>2</th>\n",
       "      <td>0</td>\n",
       "      <td>Vincent Van Gogh</td>\n",
       "      <td>1853-03-30</td>\n",
       "      <td>1890-07-29</td>\n",
       "      <td>1</td>\n",
       "      <td>https://kuleuven-datathon-2023.s3.eu-central-1...</td>\n",
       "    </tr>\n",
       "    <tr>\n",
       "      <th>3</th>\n",
       "      <td>0</td>\n",
       "      <td>Vincent Van Gogh</td>\n",
       "      <td>1853-03-30</td>\n",
       "      <td>1890-07-29</td>\n",
       "      <td>1</td>\n",
       "      <td>https://kuleuven-datathon-2023.s3.eu-central-1...</td>\n",
       "    </tr>\n",
       "    <tr>\n",
       "      <th>4</th>\n",
       "      <td>0</td>\n",
       "      <td>Vincent Van Gogh</td>\n",
       "      <td>1853-03-30</td>\n",
       "      <td>1890-07-29</td>\n",
       "      <td>1</td>\n",
       "      <td>https://kuleuven-datathon-2023.s3.eu-central-1...</td>\n",
       "    </tr>\n",
       "    <tr>\n",
       "      <th>...</th>\n",
       "      <td>...</td>\n",
       "      <td>...</td>\n",
       "      <td>...</td>\n",
       "      <td>...</td>\n",
       "      <td>...</td>\n",
       "      <td>...</td>\n",
       "    </tr>\n",
       "    <tr>\n",
       "      <th>10512</th>\n",
       "      <td>615</td>\n",
       "      <td>Otto van Veen</td>\n",
       "      <td>NaN</td>\n",
       "      <td>1629-05-06</td>\n",
       "      <td>1</td>\n",
       "      <td>https://kuleuven-datathon-2023.s3.eu-central-1...</td>\n",
       "    </tr>\n",
       "    <tr>\n",
       "      <th>10513</th>\n",
       "      <td>615</td>\n",
       "      <td>Otto van Veen</td>\n",
       "      <td>NaN</td>\n",
       "      <td>1629-05-06</td>\n",
       "      <td>1</td>\n",
       "      <td>https://kuleuven-datathon-2023.s3.eu-central-1...</td>\n",
       "    </tr>\n",
       "    <tr>\n",
       "      <th>10514</th>\n",
       "      <td>615</td>\n",
       "      <td>Otto van Veen</td>\n",
       "      <td>NaN</td>\n",
       "      <td>1629-05-06</td>\n",
       "      <td>1</td>\n",
       "      <td>https://kuleuven-datathon-2023.s3.eu-central-1...</td>\n",
       "    </tr>\n",
       "    <tr>\n",
       "      <th>10515</th>\n",
       "      <td>615</td>\n",
       "      <td>Otto van Veen</td>\n",
       "      <td>NaN</td>\n",
       "      <td>1629-05-06</td>\n",
       "      <td>1</td>\n",
       "      <td>https://kuleuven-datathon-2023.s3.eu-central-1...</td>\n",
       "    </tr>\n",
       "    <tr>\n",
       "      <th>10516</th>\n",
       "      <td>615</td>\n",
       "      <td>Otto van Veen</td>\n",
       "      <td>NaN</td>\n",
       "      <td>1629-05-06</td>\n",
       "      <td>1</td>\n",
       "      <td>https://kuleuven-datathon-2023.s3.eu-central-1...</td>\n",
       "    </tr>\n",
       "  </tbody>\n",
       "</table>\n",
       "<p>10517 rows × 6 columns</p>\n",
       "</div>"
      ],
      "text/plain": [
       "       artist_id              name  start_date    end_date  category_id  \\\n",
       "0              0  Vincent Van Gogh  1853-03-30  1890-07-29            1   \n",
       "1              0  Vincent Van Gogh  1853-03-30  1890-07-29            1   \n",
       "2              0  Vincent Van Gogh  1853-03-30  1890-07-29            1   \n",
       "3              0  Vincent Van Gogh  1853-03-30  1890-07-29            1   \n",
       "4              0  Vincent Van Gogh  1853-03-30  1890-07-29            1   \n",
       "...          ...               ...         ...         ...          ...   \n",
       "10512        615     Otto van Veen         NaN  1629-05-06            1   \n",
       "10513        615     Otto van Veen         NaN  1629-05-06            1   \n",
       "10514        615     Otto van Veen         NaN  1629-05-06            1   \n",
       "10515        615     Otto van Veen         NaN  1629-05-06            1   \n",
       "10516        615     Otto van Veen         NaN  1629-05-06            1   \n",
       "\n",
       "                                             picture_url  \n",
       "0      https://kuleuven-datathon-2023.s3.eu-central-1...  \n",
       "1      https://kuleuven-datathon-2023.s3.eu-central-1...  \n",
       "2      https://kuleuven-datathon-2023.s3.eu-central-1...  \n",
       "3      https://kuleuven-datathon-2023.s3.eu-central-1...  \n",
       "4      https://kuleuven-datathon-2023.s3.eu-central-1...  \n",
       "...                                                  ...  \n",
       "10512  https://kuleuven-datathon-2023.s3.eu-central-1...  \n",
       "10513  https://kuleuven-datathon-2023.s3.eu-central-1...  \n",
       "10514  https://kuleuven-datathon-2023.s3.eu-central-1...  \n",
       "10515  https://kuleuven-datathon-2023.s3.eu-central-1...  \n",
       "10516  https://kuleuven-datathon-2023.s3.eu-central-1...  \n",
       "\n",
       "[10517 rows x 6 columns]"
      ]
     },
     "execution_count": 99,
     "metadata": {},
     "output_type": "execute_result"
    }
   ],
   "source": [
    "# pd.read_csv(dataset_dir+'movement_subcategory.csv', index_col=0)\n",
    "pd.read_csv(dataset_dir+'artist_subcategory.csv', index_col=0)"
   ]
  },
  {
   "cell_type": "code",
   "execution_count": null,
   "metadata": {},
   "outputs": [],
   "source": [
    "Academy = pd.read_csv(dataset_dir+'Academy.csv')\n",
    "Apprenticeship = pd.read_csv(dataset_dir+'Apprenticeship.csv')\n",
    "Artist = pd.read_csv(dataset_dir+'Artist.csv')\n",
    "ArtistEducation = pd.read_csv(dataset_dir+'ArtistEducation.csv')\n",
    "ArtistMovement = pd.read_csv(dataset_dir+'ArtistMovements.csv')\n",
    "ArtistPictures = pd.read_csv(dataset_dir+'ArtistPicture.csv')\n",
    "ArtistSpecialization = pd.read_csv(dataset_dir+'ArtistSpecializations.csv')\n",
    "Artwork = pd.read_csv(dataset_dir+'Artwork.csv')\n",
    "Generated = pd.read_csv(dataset_dir+'Generated.csv')\n",
    "Medium = pd.read_csv(dataset_dir+'Medium.csv')\n",
    "Movement = pd.read_csv(dataset_dir+'Movement.csv')\n",
    "Place = pd.read_csv(dataset_dir+'Places.csv')\n",
    "Recommendation = pd.read_csv(dataset_dir+'Recommendation.csv')\n",
    "Specialization = pd.read_csv(dataset_dir+'specialization.csv')"
   ]
  },
  {
   "cell_type": "code",
   "execution_count": null,
   "metadata": {},
   "outputs": [],
   "source": [
    "print(f'#Artworks: {len(Artwork)}')\n",
    "print(f'#Artists: {len(Artist)}')\n",
    "print(Artwork.columns)\n",
    "print(Artist.columns)"
   ]
  },
  {
   "attachments": {},
   "cell_type": "markdown",
   "metadata": {},
   "source": [
    "Prepare the subcategory data for each artist"
   ]
  },
  {
   "cell_type": "code",
   "execution_count": null,
   "metadata": {},
   "outputs": [],
   "source": [
    "artist_category_id = 1\n",
    "\n",
    "Artist.birthdate = Artist.birthdate.str.strip(' ')\n",
    "Artist.deathdate.str.strip(' ')\n",
    "\n",
    "df = pd.DataFrame(columns=['color_id', 'category_id', 'name', 'start_date', 'end_date', 'picture_url', 'caption'])\n",
    "df.name = Artist.name\n",
    "df.category_id = artist_category_id\n",
    "df.start_date = Artist.birthdate\n",
    "df.end_date = Artist.deathdate\n",
    "df.picture_url = Artist.url\n",
    "df.caption = Artist.summary\n",
    "# ! Waiting for color_id\n",
    "# df"
   ]
  },
  {
   "attachments": {},
   "cell_type": "markdown",
   "metadata": {},
   "source": [
    "prepare the subcategory data for each country"
   ]
  },
  {
   "cell_type": "code",
   "execution_count": null,
   "metadata": {},
   "outputs": [],
   "source": [
    "pd.read_csv(dataset_dir+'place_artwork.csv', index_col=0)"
   ]
  },
  {
   "attachments": {},
   "cell_type": "markdown",
   "metadata": {},
   "source": [
    "prepare the subcategory data for each movement"
   ]
  },
  {
   "cell_type": "code",
   "execution_count": null,
   "metadata": {},
   "outputs": [],
   "source": []
  },
  {
   "attachments": {},
   "cell_type": "markdown",
   "metadata": {},
   "source": [
    "prepare the subcategory data for each century"
   ]
  },
  {
   "attachments": {},
   "cell_type": "markdown",
   "metadata": {},
   "source": [
    "Prepare the Artwork data"
   ]
  },
  {
   "cell_type": "code",
   "execution_count": null,
   "metadata": {},
   "outputs": [],
   "source": [
    "Colors = pd.read_csv(dataset_dir+'Colors.csv')\n",
    "art_colors = Artwork.merge(Colors, left_on='id', right_on='id')[['id', 'artist', 'cluster_counts', 'rgb_colors']]\n",
    "# art_colors"
   ]
  },
  {
   "attachments": {},
   "cell_type": "markdown",
   "metadata": {},
   "source": [
    "Data for the Events table"
   ]
  },
  {
   "cell_type": "code",
   "execution_count": null,
   "metadata": {},
   "outputs": [],
   "source": [
    "# df = pd.read_csv(dataset_dir+'events.csv')\n",
    "# df = df.reset_index().rename(columns={'index': 'id'})\n",
    "# df.to_csv(dataset_dir+'events.csv')"
   ]
  },
  {
   "attachments": {},
   "cell_type": "markdown",
   "metadata": {},
   "source": [
    "Data for the Colors table"
   ]
  },
  {
   "cell_type": "code",
   "execution_count": null,
   "metadata": {},
   "outputs": [],
   "source": [
    "# df = pd.read_csv(dataset_dir+'Colors.csv', index_col='id')\n",
    "\n",
    "artwork_color_list = []\n",
    "for filename in sorted(os.listdir(dataset_dir+'palletes')):\n",
    "    df = pd.read_csv(dataset_dir+'palletes/'+filename, index_col=0)\n",
    "    artwork_color_list.append(df)\n",
    "    \n",
    "df = pd.concat(artwork_color_list, ignore_index=True)\n",
    "# df.to_csv(dataset_dir+'Colors30.csv')"
   ]
  },
  {
   "cell_type": "code",
   "execution_count": null,
   "metadata": {},
   "outputs": [],
   "source": [
    "pd.read_csv(dataset_dir+'Colors30.csv', index_col=0).head(20).to_csv(dataset_dir+'Colors30_test.csv')"
   ]
  },
  {
   "cell_type": "code",
   "execution_count": null,
   "metadata": {},
   "outputs": [],
   "source": [
    "print(Artwork[Artwork.artist == 1].url.iloc[1])"
   ]
  }
 ],
 "metadata": {
  "kernelspec": {
   "display_name": ".venv_datathlon",
   "language": "python",
   "name": "python3"
  },
  "language_info": {
   "codemirror_mode": {
    "name": "ipython",
    "version": 3
   },
   "file_extension": ".py",
   "mimetype": "text/x-python",
   "name": "python",
   "nbconvert_exporter": "python",
   "pygments_lexer": "ipython3",
   "version": "3.10.6"
  },
  "orig_nbformat": 4,
  "vscode": {
   "interpreter": {
    "hash": "02e2d7ca0a70b00640d87c69d13c74971494e5463d67573890529749ab9dd4f5"
   }
  }
 },
 "nbformat": 4,
 "nbformat_minor": 2
}
