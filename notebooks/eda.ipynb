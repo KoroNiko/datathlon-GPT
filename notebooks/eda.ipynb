{
 "cells": [
  {
   "cell_type": "code",
   "execution_count": 1,
   "metadata": {},
   "outputs": [],
   "source": [
    "import folium\n",
    "import numpy as np\n",
    "import pandas as pd\n",
    "import os\n",
    "import plotly.graph_objects as go\n",
    "import plotly.express as px\n",
    "\n",
    "from sqlalchemy import select, text, and_, or_\n",
    "from sqlalchemy.sql import Select\n",
    "\n",
    "\n",
    "from environment.settings import config\n",
    "\n",
    "dataset_dir = config['DATASET_DIR']\n",
    "database_dir = config['DATABASE_DIR']\n",
    "\n",
    "from utils import connections\n",
    "from utils import database"
   ]
  },
  {
   "cell_type": "code",
   "execution_count": 4,
   "metadata": {},
   "outputs": [],
   "source": [
    "query = select(database.Artist)\n",
    "\n",
    "with connections.session_db() as con:\n",
    "    df = pd.read_sql_query(sql=query, con=con.connection())"
   ]
  },
  {
   "cell_type": "code",
   "execution_count": 5,
   "metadata": {},
   "outputs": [
    {
     "data": {
      "text/html": [
       "<div>\n",
       "<style scoped>\n",
       "    .dataframe tbody tr th:only-of-type {\n",
       "        vertical-align: middle;\n",
       "    }\n",
       "\n",
       "    .dataframe tbody tr th {\n",
       "        vertical-align: top;\n",
       "    }\n",
       "\n",
       "    .dataframe thead th {\n",
       "        text-align: right;\n",
       "    }\n",
       "</style>\n",
       "<table border=\"1\" class=\"dataframe\">\n",
       "  <thead>\n",
       "    <tr style=\"text-align: right;\">\n",
       "      <th></th>\n",
       "      <th>id</th>\n",
       "      <th>name</th>\n",
       "      <th>url</th>\n",
       "      <th>summary</th>\n",
       "      <th>birthdate</th>\n",
       "      <th>deathdate</th>\n",
       "      <th>cause_of_death</th>\n",
       "    </tr>\n",
       "  </thead>\n",
       "  <tbody>\n",
       "    <tr>\n",
       "      <th>0</th>\n",
       "      <td>1</td>\n",
       "      <td>SomeArtist</td>\n",
       "      <td>https://www.google.com</td>\n",
       "      <td>Cool person</td>\n",
       "      <td>1900-01-01</td>\n",
       "      <td>2021-01-01</td>\n",
       "      <td>Death</td>\n",
       "    </tr>\n",
       "  </tbody>\n",
       "</table>\n",
       "</div>"
      ],
      "text/plain": [
       "   id        name                     url      summary  birthdate  deathdate  \\\n",
       "0   1  SomeArtist  https://www.google.com  Cool person 1900-01-01 2021-01-01   \n",
       "\n",
       "  cause_of_death  \n",
       "0          Death  "
      ]
     },
     "execution_count": 5,
     "metadata": {},
     "output_type": "execute_result"
    }
   ],
   "source": [
    "df"
   ]
  },
  {
   "cell_type": "code",
   "execution_count": null,
   "metadata": {},
   "outputs": [],
   "source": [
    "Academy = pd.read_csv(dataset_dir+'Academy.csv')\n",
    "Apprenticeship = pd.read_csv(dataset_dir+'Apprenticeship.csv')\n",
    "Artist = pd.read_csv(dataset_dir+'Artist.csv')\n",
    "ArtistEducation = pd.read_csv(dataset_dir+'ArtistEducation.csv')\n",
    "ArtistMovement = pd.read_csv(dataset_dir+'ArtistMovements.csv')\n",
    "ArtistPictures = pd.read_csv(dataset_dir+'ArtistPicture.csv')\n",
    "ArtistSpecialization = pd.read_csv(dataset_dir+'ArtistSpecializations.csv')\n",
    "Artwork = pd.read_csv(dataset_dir+'Artwork.csv')\n",
    "Generated = pd.read_csv(dataset_dir+'Generated.csv')\n",
    "Medium = pd.read_csv(dataset_dir+'Medium.csv')\n",
    "Movement = pd.read_csv(dataset_dir+'Movement.csv')\n",
    "Place = pd.read_csv(dataset_dir+'Places.csv')\n",
    "Recommendation = pd.read_csv(dataset_dir+'Recommendation.csv')\n",
    "Specialization = pd.read_csv(dataset_dir+'specialization.csv')\n",
    "\n",
    "\n"
   ]
  },
  {
   "cell_type": "code",
   "execution_count": null,
   "metadata": {},
   "outputs": [],
   "source": [
    "col = 'birthdate'\n",
    "a = Artist[col].isna().any()\n",
    "b = Artist[col].dtype\n",
    "print(a)\n",
    "print(b)\n",
    "Artist"
   ]
  },
  {
   "cell_type": "code",
   "execution_count": null,
   "metadata": {},
   "outputs": [],
   "source": [
    "os.listdir('./')"
   ]
  },
  {
   "cell_type": "code",
   "execution_count": null,
   "metadata": {},
   "outputs": [],
   "source": [
    "os.listdir(dataset_dir)"
   ]
  },
  {
   "cell_type": "code",
   "execution_count": null,
   "metadata": {},
   "outputs": [],
   "source": []
  }
 ],
 "metadata": {
  "kernelspec": {
   "display_name": ".venv_datathlon",
   "language": "python",
   "name": "python3"
  },
  "language_info": {
   "codemirror_mode": {
    "name": "ipython",
    "version": 3
   },
   "file_extension": ".py",
   "mimetype": "text/x-python",
   "name": "python",
   "nbconvert_exporter": "python",
   "pygments_lexer": "ipython3",
   "version": "3.10.6"
  },
  "orig_nbformat": 4,
  "vscode": {
   "interpreter": {
    "hash": "02e2d7ca0a70b00640d87c69d13c74971494e5463d67573890529749ab9dd4f5"
   }
  }
 },
 "nbformat": 4,
 "nbformat_minor": 2
}
