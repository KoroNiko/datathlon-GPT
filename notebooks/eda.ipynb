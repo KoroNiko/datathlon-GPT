{
 "cells": [
  {
   "cell_type": "code",
   "execution_count": 12,
   "metadata": {},
   "outputs": [],
   "source": [
    "import numpy as np\n",
    "import pandas as pd\n",
    "import os\n",
    "import plotly.graph_objects as go\n",
    "import plotly.express as px\n",
    "\n",
    "from environment.settings import config\n",
    "\n",
    "dataset_dir = config['DATASET_DIR']"
   ]
  },
  {
   "cell_type": "code",
   "execution_count": 14,
   "metadata": {},
   "outputs": [
    {
     "data": {
      "text/plain": [
       "['Data model.png',\n",
       " 'ArtistEducation.csv',\n",
       " 'Academy.csv',\n",
       " 'Graphical databases.ipynb',\n",
       " 'specialization.csv',\n",
       " 'Artist.csv',\n",
       " 'graph_database_schema.png',\n",
       " 'ArtistSpecializations.csv',\n",
       " 'Recommendation.csv',\n",
       " 'Medium.csv',\n",
       " 'Artwork.csv',\n",
       " 'Movement.csv',\n",
       " 'ArtistPicture.csv',\n",
       " 'Data Information.ipynb',\n",
       " 'Places.csv',\n",
       " 'Generated.csv',\n",
       " 'README.txt',\n",
       " 'Apprenticeship.csv',\n",
       " 'ArtistMovements.csv']"
      ]
     },
     "execution_count": 14,
     "metadata": {},
     "output_type": "execute_result"
    }
   ],
   "source": [
    "os.listdir(dataset_dir)"
   ]
  },
  {
   "cell_type": "code",
   "execution_count": null,
   "metadata": {},
   "outputs": [],
   "source": []
  }
 ],
 "metadata": {
  "kernelspec": {
   "display_name": "Python 3",
   "language": "python",
   "name": "python3"
  },
  "language_info": {
   "codemirror_mode": {
    "name": "ipython",
    "version": 3
   },
   "file_extension": ".py",
   "mimetype": "text/x-python",
   "name": "python",
   "nbconvert_exporter": "python",
   "pygments_lexer": "ipython3",
   "version": "3.10.6"
  },
  "orig_nbformat": 4,
  "vscode": {
   "interpreter": {
    "hash": "916dbcbb3f70747c44a77c7bcd40155683ae19c65e1c03b4aa3499c5328201f1"
   }
  }
 },
 "nbformat": 4,
 "nbformat_minor": 2
}
