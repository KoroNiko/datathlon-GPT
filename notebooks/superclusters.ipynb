{
 "cells": [
  {
   "cell_type": "code",
   "execution_count": 1,
   "metadata": {},
   "outputs": [],
   "source": [
    "import ast\n",
    "import numpy as np\n",
    "import pandas as pd\n",
    "import plotly.graph_objects as go\n",
    "\n",
    "from collections import Counter \n",
    "from environment.settings import config\n",
    "from numpy import matlib\n",
    "from sklearn.cluster import KMeans\n",
    "from sqlalchemy import select, text, and_, or_\n",
    "from sqlalchemy.sql import Select\n",
    "from typing import Tuple\n",
    "from utils import connections\n",
    "from utils import database\n",
    "\n",
    "database_dir = config['DATABASE_DIR']\n",
    "dataset_dir = config['DATASET_DIR']\n",
    "\n",
    "NUM_COLORS = 10\n",
    "\n",
    "kmeans_model = KMeans(n_clusters=NUM_COLORS, n_init='auto')"
   ]
  },
  {
   "attachments": {},
   "cell_type": "markdown",
   "metadata": {},
   "source": [
    "Functions"
   ]
  },
  {
   "cell_type": "code",
   "execution_count": 2,
   "metadata": {},
   "outputs": [],
   "source": [
    "def rgb2hex(rgb: np.ndarray):\n",
    "    ''' Converts an N X 3 numpy array of RGB values into a list of hex strings'''\n",
    "    hex_list = list(map(lambda x: '#%02x%02x%02x' % tuple(x), rgb))\n",
    "    return hex_list\n",
    "\n",
    "def extract_colors(model: KMeans, img: np.ndarray) -> Tuple[np.ndarray, Counter, np.ndarray]:\n",
    "    ''' Extract the X most common colors from an image with a KMeans model '''       \n",
    "    cluster_labels = model.fit_predict(img)\n",
    "    return cluster_labels.astype(np.uint8), Counter(cluster_labels), model.cluster_centers_.astype(np.uint8)"
   ]
  },
  {
   "attachments": {},
   "cell_type": "markdown",
   "metadata": {},
   "source": [
    "We need to group the artworks by:\n",
    "- Artist\n",
    "- Movement\n",
    "- Century\n",
    "- Country"
   ]
  },
  {
   "cell_type": "code",
   "execution_count": 3,
   "metadata": {},
   "outputs": [],
   "source": [
    "# Artist = pd.read_csv(dataset_dir+'Artist.csv')\n",
    "# ArtistMovement = pd.read_csv(dataset_dir+'ArtistMovements.csv')\n",
    "# Artwork = pd.read_csv(dataset_dir+'Artwork.csv')\n",
    "# Movement = pd.read_csv(dataset_dir+'Movement.csv')\n",
    "# ? Read Stratos' file\n",
    "df = pd.read_csv(dataset_dir+'movement_artist_artwork.csv', index_col=0)\n",
    "df.dropna(subset=['artwork_id'], inplace=True)\n",
    "df.artist_id = df.artist_id.astype(int)\n",
    "df.artwork_id = df.artwork_id.astype(int)"
   ]
  },
  {
   "attachments": {},
   "cell_type": "markdown",
   "metadata": {},
   "source": [
    "Cluster by artist"
   ]
  },
  {
   "cell_type": "code",
   "execution_count": 17,
   "metadata": {},
   "outputs": [],
   "source": [
    "# dictionary to hold the cluster counts and rgb colors for each artist \n",
    "artist_colors_dict = {\n",
    "    'artist_id': [],\n",
    "    'cluster_counts': [],\n",
    "    'rgb_colors': []\n",
    "}\n",
    "# Iterate over all artists\n",
    "for artist in df.artist_id.unique():\n",
    "    artworks = df[df.artist_id == artist].artwork_id.to_list()\n",
    "    query = select(database.Colors)\\\n",
    "            .filter(database.Colors.id.in_(artworks))\n",
    "    \n",
    "    with connections.session_db() as con:\n",
    "        df_colors = pd.read_sql_query(sql=query, con=con.connection())\n",
    "        df_colors.rgb_colors = df_colors.rgb_colors.apply(lambda x: ast.literal_eval(x))\n",
    "        df_colors.cluster_counts = df_colors.cluster_counts.apply(lambda x: ast.literal_eval(x))\n",
    "    \n",
    "    # ? Check that the artist has artworks\n",
    "    if df_colors.empty:\n",
    "        print(artist, artworks)\n",
    "    \n",
    "    # ? Iterate over each artist's artworks\n",
    "    color_percentage_list = []\n",
    "    for i, row in df_colors.iterrows():\n",
    "        cluster_counts, rgb_colors = row.cluster_counts, row.rgb_colors\n",
    "        \n",
    "        labels = rgb2hex(rgb_colors)\n",
    "        values = list(map(lambda x: x[1], sorted(cluster_counts.items())))\n",
    "        # make sure that the percentages add up to 100\n",
    "        percentages = list(map(lambda x: x / sum(values) * 100, values))\n",
    "        # cumulative sum of the percentages\n",
    "        cum_percentages = np.cumsum(percentages).round(0)\n",
    "        # shift the percentages right by 1 and make the first element 0 (from 100)\n",
    "        rolled_cp = np.roll(cum_percentages, 1)\n",
    "        rolled_cp[0] = 0\n",
    "        # substract the shifted percentages from the cumulative percentages\n",
    "        # the result is the size of percentage of each color\n",
    "        # we do this to ensure that percentages always add up to 100\n",
    "        percentages = (cum_percentages - rolled_cp).astype(int)\n",
    "        # get a 100 * 3 array of the colors\n",
    "        color_percentages = [matlib.repmat(a=color, m=percentage, n=1) for color, percentage in zip(rgb_colors, percentages)] \n",
    "        color_percentage_list.append(np.vstack(color_percentages))\n",
    "        \n",
    "    artist_colors = np.vstack(color_percentage_list)\n",
    "    _, cluster_counts, rgb_colors = extract_colors(kmeans_model, artist_colors)\n",
    "    \n",
    "    # ? Append the results to the dictionary\n",
    "    artist_colors_dict['artist_id'].append(artist)\n",
    "    artist_colors_dict['cluster_counts'].append(cluster_counts)\n",
    "    artist_colors_dict['rgb_colors'].append(rgb_colors)\n",
    "    break"
   ]
  },
  {
   "cell_type": "code",
   "execution_count": 31,
   "metadata": {},
   "outputs": [],
   "source": [
    "df_cluster = pd.DataFrame(artist_colors_dict)\n",
    "df_cluster.cluster_counts = df_cluster.cluster_counts.astype(str).str.lstrip('Counter(').str.rstrip(')')\n",
    "df_cluster.rgb_colors = df_cluster.rgb_colors.apply(lambda x: str([list(a) for a in x]))[0]"
   ]
  }
 ],
 "metadata": {
  "kernelspec": {
   "display_name": ".venv_datathlon",
   "language": "python",
   "name": "python3"
  },
  "language_info": {
   "codemirror_mode": {
    "name": "ipython",
    "version": 3
   },
   "file_extension": ".py",
   "mimetype": "text/x-python",
   "name": "python",
   "nbconvert_exporter": "python",
   "pygments_lexer": "ipython3",
   "version": "3.10.6"
  },
  "orig_nbformat": 4,
  "vscode": {
   "interpreter": {
    "hash": "02e2d7ca0a70b00640d87c69d13c74971494e5463d67573890529749ab9dd4f5"
   }
  }
 },
 "nbformat": 4,
 "nbformat_minor": 2
}
