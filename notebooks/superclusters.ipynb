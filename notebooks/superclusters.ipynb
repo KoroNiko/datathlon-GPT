{
 "cells": [
  {
   "cell_type": "code",
   "execution_count": 1,
   "metadata": {},
   "outputs": [],
   "source": [
    "# !pip install SQLAlchemy\n",
    "import ast\n",
    "import numpy as np\n",
    "import pandas as pd\n",
    "import plotly.graph_objects as go\n",
    "\n",
    "from collections import Counter \n",
    "# from environment.settings import config\n",
    "from numpy import matlib\n",
    "from sklearn.cluster import KMeans\n",
    "from sqlalchemy import select, text, and_, or_\n",
    "from sqlalchemy.sql import Select\n",
    "from typing import Tuple\n",
    "from utils import connections\n",
    "from utils import database\n",
    "\n",
    "from tqdm.notebook import tqdm\n",
    "from copy import deepcopy\n",
    "import warnings\n",
    "\n",
    "# database_dir = config['DATABASE_DIR']\n",
    "# dataset_dir = config['DATASET_DIR']\n",
    "\n",
    "dataset_dir = '../data/'\n",
    "\n",
    "NUM_COLORS = 30\n",
    "\n",
    "# kmeans_model = KMeans(n_clusters=NUM_COLORS, n_init='auto')"
   ]
  },
  {
   "cell_type": "markdown",
   "metadata": {},
   "source": [
    "Functions"
   ]
  },
  {
   "cell_type": "code",
   "execution_count": 2,
   "metadata": {},
   "outputs": [],
   "source": [
    "def rgb2hex(rgb: np.ndarray):\n",
    "    ''' Converts an N X 3 numpy array of RGB values into a list of hex strings'''\n",
    "    hex_list = list(map(lambda x: '#%02x%02x%02x' % tuple(x), rgb))\n",
    "    return hex_list\n",
    "\n",
    "def extract_colors(model: KMeans, img: np.ndarray) -> Tuple[np.ndarray, Counter, np.ndarray]:\n",
    "    ''' Extract the X most common colors from an image with a KMeans model '''       \n",
    "    cluster_labels = model.fit_predict(img)\n",
    "    return cluster_labels.astype(np.uint8), Counter(cluster_labels), model.cluster_centers_.astype(np.uint8)"
   ]
  },
  {
   "cell_type": "markdown",
   "metadata": {},
   "source": [
    "We need to group the artworks by:\n",
    "- Artist\n",
    "- Movement\n",
    "- Century\n",
    "- Country"
   ]
  },
  {
   "cell_type": "code",
   "execution_count": 3,
   "metadata": {},
   "outputs": [],
   "source": [
    "# Artist = pd.read_csv(dataset_dir+'Artist.csv')\n",
    "# ArtistMovement = pd.read_csv(dataset_dir+'ArtistMovements.csv')\n",
    "# Artwork = pd.read_csv(dataset_dir+'Artwork.csv')\n",
    "# Movement = pd.read_csv(dataset_dir+'Movement.csv')\n",
    "# ? Read Stratos' file\n",
    "movement_artist_artwork = pd.read_csv(dataset_dir+'movement_artist_artwork.csv', index_col=0)\n",
    "movement_artist_artwork.dropna(subset=['artwork_id'], inplace=True)\n",
    "movement_artist_artwork.artist_id = movement_artist_artwork.artist_id.astype(int)\n",
    "movement_artist_artwork.artwork_id = movement_artist_artwork.artwork_id.astype(int)\n",
    "\n",
    "artwork_century = pd.read_csv(dataset_dir+'artwork_century.csv', index_col=0)\n",
    "artwork_century.dropna(subset=['century'], inplace=True)\n",
    "artwork_century.century = artwork_century.century.astype(int)\n",
    "artwork_century.artwork_id = artwork_century.artwork_id.astype(int)\n",
    "\n",
    "place_artwork = pd.read_csv(dataset_dir+'place_artwork.csv', index_col=0)\n",
    "place_artwork.dropna(subset=['place_id','artwork_id'], inplace=True)\n",
    "place_artwork.place_id = place_artwork.place_id.astype(int)\n",
    "place_artwork.artwork_id = place_artwork.artwork_id.astype(int)"
   ]
  },
  {
   "cell_type": "code",
   "execution_count": 4,
   "metadata": {},
   "outputs": [
    {
     "data": {
      "text/html": [
       "<div>\n",
       "<style scoped>\n",
       "    .dataframe tbody tr th:only-of-type {\n",
       "        vertical-align: middle;\n",
       "    }\n",
       "\n",
       "    .dataframe tbody tr th {\n",
       "        vertical-align: top;\n",
       "    }\n",
       "\n",
       "    .dataframe thead th {\n",
       "        text-align: right;\n",
       "    }\n",
       "</style>\n",
       "<table border=\"1\" class=\"dataframe\">\n",
       "  <thead>\n",
       "    <tr style=\"text-align: right;\">\n",
       "      <th></th>\n",
       "      <th>artist_id</th>\n",
       "      <th>artwork_id</th>\n",
       "      <th>artist_name</th>\n",
       "      <th>painting_name</th>\n",
       "      <th>movement_id</th>\n",
       "      <th>name</th>\n",
       "    </tr>\n",
       "  </thead>\n",
       "  <tbody>\n",
       "    <tr>\n",
       "      <th>0</th>\n",
       "      <td>0</td>\n",
       "      <td>0</td>\n",
       "      <td>Vincent Van Gogh</td>\n",
       "      <td>Cafe Terrace on the Place du Forum</td>\n",
       "      <td>43.0</td>\n",
       "      <td>Post-Impressionism</td>\n",
       "    </tr>\n",
       "    <tr>\n",
       "      <th>1</th>\n",
       "      <td>0</td>\n",
       "      <td>1</td>\n",
       "      <td>Vincent Van Gogh</td>\n",
       "      <td>Starry Night</td>\n",
       "      <td>43.0</td>\n",
       "      <td>Post-Impressionism</td>\n",
       "    </tr>\n",
       "    <tr>\n",
       "      <th>2</th>\n",
       "      <td>0</td>\n",
       "      <td>2</td>\n",
       "      <td>Vincent Van Gogh</td>\n",
       "      <td>A Digger</td>\n",
       "      <td>43.0</td>\n",
       "      <td>Post-Impressionism</td>\n",
       "    </tr>\n",
       "    <tr>\n",
       "      <th>3</th>\n",
       "      <td>0</td>\n",
       "      <td>3</td>\n",
       "      <td>Vincent Van Gogh</td>\n",
       "      <td>A Group of Cottages</td>\n",
       "      <td>43.0</td>\n",
       "      <td>Post-Impressionism</td>\n",
       "    </tr>\n",
       "    <tr>\n",
       "      <th>4</th>\n",
       "      <td>0</td>\n",
       "      <td>4</td>\n",
       "      <td>Vincent Van Gogh</td>\n",
       "      <td>A Pair of Shoes</td>\n",
       "      <td>43.0</td>\n",
       "      <td>Post-Impressionism</td>\n",
       "    </tr>\n",
       "    <tr>\n",
       "      <th>...</th>\n",
       "      <td>...</td>\n",
       "      <td>...</td>\n",
       "      <td>...</td>\n",
       "      <td>...</td>\n",
       "      <td>...</td>\n",
       "      <td>...</td>\n",
       "    </tr>\n",
       "    <tr>\n",
       "      <th>11929</th>\n",
       "      <td>615</td>\n",
       "      <td>10515</td>\n",
       "      <td>Otto van Veen</td>\n",
       "      <td>Distribution of Herring and White Bread during...</td>\n",
       "      <td>NaN</td>\n",
       "      <td>NaN</td>\n",
       "    </tr>\n",
       "    <tr>\n",
       "      <th>11930</th>\n",
       "      <td>615</td>\n",
       "      <td>10516</td>\n",
       "      <td>Otto van Veen</td>\n",
       "      <td>The Artist Painting, Surrounded by his Family</td>\n",
       "      <td>NaN</td>\n",
       "      <td>NaN</td>\n",
       "    </tr>\n",
       "    <tr>\n",
       "      <th>11931</th>\n",
       "      <td>615</td>\n",
       "      <td>10517</td>\n",
       "      <td>Otto van Veen</td>\n",
       "      <td>Hercules seated at the foot of a tree in a lan...</td>\n",
       "      <td>NaN</td>\n",
       "      <td>NaN</td>\n",
       "    </tr>\n",
       "    <tr>\n",
       "      <th>11932</th>\n",
       "      <td>615</td>\n",
       "      <td>10518</td>\n",
       "      <td>Otto van Veen</td>\n",
       "      <td>St. Matthew Bringing Back To Life The Son Of T...</td>\n",
       "      <td>NaN</td>\n",
       "      <td>NaN</td>\n",
       "    </tr>\n",
       "    <tr>\n",
       "      <th>11933</th>\n",
       "      <td>615</td>\n",
       "      <td>10519</td>\n",
       "      <td>Otto van Veen</td>\n",
       "      <td>The Four Fathers Of The Church</td>\n",
       "      <td>NaN</td>\n",
       "      <td>NaN</td>\n",
       "    </tr>\n",
       "  </tbody>\n",
       "</table>\n",
       "<p>11926 rows × 6 columns</p>\n",
       "</div>"
      ],
      "text/plain": [
       "       artist_id  artwork_id       artist_name  \\\n",
       "0              0           0  Vincent Van Gogh   \n",
       "1              0           1  Vincent Van Gogh   \n",
       "2              0           2  Vincent Van Gogh   \n",
       "3              0           3  Vincent Van Gogh   \n",
       "4              0           4  Vincent Van Gogh   \n",
       "...          ...         ...               ...   \n",
       "11929        615       10515     Otto van Veen   \n",
       "11930        615       10516     Otto van Veen   \n",
       "11931        615       10517     Otto van Veen   \n",
       "11932        615       10518     Otto van Veen   \n",
       "11933        615       10519     Otto van Veen   \n",
       "\n",
       "                                           painting_name  movement_id  \\\n",
       "0                     Cafe Terrace on the Place du Forum         43.0   \n",
       "1                                           Starry Night         43.0   \n",
       "2                                               A Digger         43.0   \n",
       "3                                    A Group of Cottages         43.0   \n",
       "4                                        A Pair of Shoes         43.0   \n",
       "...                                                  ...          ...   \n",
       "11929  Distribution of Herring and White Bread during...          NaN   \n",
       "11930      The Artist Painting, Surrounded by his Family          NaN   \n",
       "11931  Hercules seated at the foot of a tree in a lan...          NaN   \n",
       "11932  St. Matthew Bringing Back To Life The Son Of T...          NaN   \n",
       "11933                     The Four Fathers Of The Church          NaN   \n",
       "\n",
       "                     name  \n",
       "0      Post-Impressionism  \n",
       "1      Post-Impressionism  \n",
       "2      Post-Impressionism  \n",
       "3      Post-Impressionism  \n",
       "4      Post-Impressionism  \n",
       "...                   ...  \n",
       "11929                 NaN  \n",
       "11930                 NaN  \n",
       "11931                 NaN  \n",
       "11932                 NaN  \n",
       "11933                 NaN  \n",
       "\n",
       "[11926 rows x 6 columns]"
      ]
     },
     "execution_count": 4,
     "metadata": {},
     "output_type": "execute_result"
    }
   ],
   "source": [
    "movement_artist_artwork"
   ]
  },
  {
   "cell_type": "markdown",
   "metadata": {},
   "source": [
    "Cluster by artist"
   ]
  },
  {
   "cell_type": "code",
   "execution_count": 5,
   "metadata": {},
   "outputs": [
    {
     "data": {
      "application/vnd.jupyter.widget-view+json": {
       "model_id": "740d2cac509842b9886ed044ef33a4c1",
       "version_major": 2,
       "version_minor": 0
      },
      "text/plain": [
       "  0%|          | 0/4 [00:00<?, ?it/s]"
      ]
     },
     "metadata": {},
     "output_type": "display_data"
    },
    {
     "data": {
      "application/vnd.jupyter.widget-view+json": {
       "model_id": "2ee3dd852e6840bdb40c4f3b6814f452",
       "version_major": 2,
       "version_minor": 0
      },
      "text/plain": [
       "artist:   0%|          | 0/610 [00:00<?, ?it/s]"
      ]
     },
     "metadata": {},
     "output_type": "display_data"
    },
    {
     "name": "stdout",
     "output_type": "stream",
     "text": [
      "warning at id 116\n",
      "Number of distinct clusters (27) found smaller than n_clusters (30). Possibly due to duplicate points in X.\n",
      "warning at id 169\n",
      "Number of distinct clusters (29) found smaller than n_clusters (30). Possibly due to duplicate points in X.\n",
      "warning at id 177\n",
      "Number of distinct clusters (29) found smaller than n_clusters (30). Possibly due to duplicate points in X.\n",
      "warning at id 194\n",
      "Number of distinct clusters (26) found smaller than n_clusters (30). Possibly due to duplicate points in X.\n",
      "warning at id 211\n",
      "Number of distinct clusters (28) found smaller than n_clusters (30). Possibly due to duplicate points in X.\n",
      "warning at id 280\n",
      "Number of distinct clusters (29) found smaller than n_clusters (30). Possibly due to duplicate points in X.\n",
      "warning at id 313\n",
      "Number of distinct clusters (27) found smaller than n_clusters (30). Possibly due to duplicate points in X.\n",
      "warning at id 342\n",
      "Number of distinct clusters (25) found smaller than n_clusters (30). Possibly due to duplicate points in X.\n",
      "warning at id 366\n",
      "Number of distinct clusters (29) found smaller than n_clusters (30). Possibly due to duplicate points in X.\n",
      "warning at id 377\n",
      "Number of distinct clusters (28) found smaller than n_clusters (30). Possibly due to duplicate points in X.\n",
      "warning at id 420\n",
      "Number of distinct clusters (29) found smaller than n_clusters (30). Possibly due to duplicate points in X.\n",
      "warning at id 428\n",
      "Number of distinct clusters (27) found smaller than n_clusters (30). Possibly due to duplicate points in X.\n",
      "warning at id 510\n",
      "Number of distinct clusters (28) found smaller than n_clusters (30). Possibly due to duplicate points in X.\n",
      "warning at id 522\n",
      "Number of distinct clusters (23) found smaller than n_clusters (30). Possibly due to duplicate points in X.\n",
      "warning at id 548\n",
      "Number of distinct clusters (29) found smaller than n_clusters (30). Possibly due to duplicate points in X.\n",
      "warning at id 570\n",
      "Number of distinct clusters (29) found smaller than n_clusters (30). Possibly due to duplicate points in X.\n",
      "warning at id 577\n",
      "Number of distinct clusters (28) found smaller than n_clusters (30). Possibly due to duplicate points in X.\n",
      "warning at id 579\n",
      "Number of distinct clusters (29) found smaller than n_clusters (30). Possibly due to duplicate points in X.\n",
      "warning at id 592\n",
      "Number of distinct clusters (29) found smaller than n_clusters (30). Possibly due to duplicate points in X.\n"
     ]
    },
    {
     "data": {
      "application/vnd.jupyter.widget-view+json": {
       "model_id": "e129904a91e247ae81915944b5095738",
       "version_major": 2,
       "version_minor": 0
      },
      "text/plain": [
       "movement:   0%|          | 0/54 [00:00<?, ?it/s]"
      ]
     },
     "metadata": {},
     "output_type": "display_data"
    },
    {
     "data": {
      "application/vnd.jupyter.widget-view+json": {
       "model_id": "f343f31c7cc1426995d807872ecfd398",
       "version_major": 2,
       "version_minor": 0
      },
      "text/plain": [
       "century:   0%|          | 0/7 [00:00<?, ?it/s]"
      ]
     },
     "metadata": {},
     "output_type": "display_data"
    },
    {
     "data": {
      "application/vnd.jupyter.widget-view+json": {
       "model_id": "0708a2fdfa7c4118af7f33710aada828",
       "version_major": 2,
       "version_minor": 0
      },
      "text/plain": [
       "country:   0%|          | 0/145 [00:00<?, ?it/s]"
      ]
     },
     "metadata": {},
     "output_type": "display_data"
    },
    {
     "name": "stdout",
     "output_type": "stream",
     "text": [
      "warning at id 283\n",
      "Number of distinct clusters (28) found smaller than n_clusters (30). Possibly due to duplicate points in X.\n",
      "warning at id 315\n",
      "Number of distinct clusters (29) found smaller than n_clusters (30). Possibly due to duplicate points in X.\n",
      "warning at id 203\n",
      "Number of distinct clusters (29) found smaller than n_clusters (30). Possibly due to duplicate points in X.\n"
     ]
    }
   ],
   "source": [
    "warnings.filterwarnings(\"error\")\n",
    "# dictionary to hold the cluster counts and rgb colors for each artist \n",
    "superclusters_per_category={\n",
    "    'artist':{},\n",
    "    'movement':{},\n",
    "    'century':{},\n",
    "    'country':{}\n",
    "}\n",
    "\n",
    "tmp= {\n",
    "    'id': [],\n",
    "    'cluster_counts': [],\n",
    "    'rgb_colors': [],\n",
    "    'name':[]\n",
    "}\n",
    "\n",
    "dataframes={\n",
    "    'artist':movement_artist_artwork.drop(['name'], axis=1)\n",
    "            .rename(columns={\"artist_id\": \"id\", \"artist_name\":\"name\"}),\n",
    "    'movement':movement_artist_artwork.rename(columns={\"movement_id\": \"id\"}).dropna(subset=['id']),\n",
    "    'century':artwork_century.rename(columns={\"century\": \"id\"}).assign(name=artwork_century['century']),\n",
    "    'country':place_artwork.rename(columns={\"place_id\": \"id\", \"place_name\":\"name\"})\n",
    "}\n",
    "\n",
    "# superclusters_per_category['century']['century']=superclusters_per_category['century'].pop('id')\n",
    "# superclusters_per_category['country']['country']=superclusters_per_category['country'].pop('id')\n",
    "\n",
    "for key, value in tqdm(superclusters_per_category.items()):\n",
    "    superclusters_per_category[key]=deepcopy(tmp)\n",
    "    # Iterate over all artists\n",
    "    for ids in tqdm(dataframes[key]['id'].unique(),desc=key):\n",
    "        artworks = dataframes[key][dataframes[key]['id'] == ids]['artwork_id'].to_list()\n",
    "        query = select(database.Colors).filter(database.Colors.id.in_(artworks))\n",
    "\n",
    "        with connections.session_db() as con:\n",
    "            df_colors = pd.read_sql_query(sql=query, con=con.connection())\n",
    "            df_colors.rgb_colors = df_colors.rgb_colors.apply(lambda x: ast.literal_eval(x))\n",
    "            df_colors.cluster_counts = df_colors.cluster_counts.apply(lambda x: ast.literal_eval(x))\n",
    "\n",
    "        # ? Check that the category has artworks\n",
    "        if df_colors.empty:\n",
    "            print(key)\n",
    "            print(ids, artworks)\n",
    "            continue\n",
    "\n",
    "        # ? Iterate over each artist's artworks\n",
    "        color_percentage_list = []\n",
    "        for i, row in df_colors.iterrows():\n",
    "            cluster_counts, rgb_colors = row.cluster_counts, row.rgb_colors\n",
    "\n",
    "            labels = rgb2hex(rgb_colors)\n",
    "            values = list(map(lambda x: x[1], sorted(cluster_counts.items())))\n",
    "            # make sure that the percentages add up to 100\n",
    "            percentages = list(map(lambda x: x / sum(values) * 100, values))\n",
    "            # cumulative sum of the percentages\n",
    "            cum_percentages = np.cumsum(percentages).round(0)\n",
    "            # shift the percentages right by 1 and make the first element 0 (from 100)\n",
    "            rolled_cp = np.roll(cum_percentages, 1)\n",
    "            rolled_cp[0] = 0\n",
    "            # substract the shifted percentages from the cumulative percentages\n",
    "            # the result is the size of percentage of each color\n",
    "            # we do this to ensure that percentages always add up to 100\n",
    "            percentages = (cum_percentages - rolled_cp).astype(int)\n",
    "            # get a 100 * 3 array of the colors\n",
    "            color_percentages = [matlib.repmat(a=color, m=percentage, n=1) for color, percentage in zip(rgb_colors, percentages)] \n",
    "            color_percentage_list.append(np.vstack(color_percentages))\n",
    "\n",
    "        category_colors = np.vstack(color_percentage_list)\n",
    "        try:\n",
    "            _, cluster_counts, rgb_colors = extract_colors(KMeans(n_clusters=NUM_COLORS, n_init='auto'), category_colors)\n",
    "        except Warning as e:\n",
    "            print('warning at id',ids)\n",
    "            print(e)\n",
    "\n",
    "        # ? Append the results to the dictionary\n",
    "        superclusters_per_category[key]['id'].append(ids)\n",
    "        superclusters_per_category[key]['cluster_counts'].append(cluster_counts)\n",
    "        superclusters_per_category[key]['rgb_colors'].append(rgb_colors)\n",
    "        superclusters_per_category[key]['name'].append(dataframes[key][dataframes[key]['id'] == ids]['name'].to_list()[0])\n",
    "    \n",
    "warnings.resetwarnings()"
   ]
  },
  {
   "cell_type": "code",
   "execution_count": 6,
   "metadata": {},
   "outputs": [],
   "source": [
    "from IPython.display import display\n",
    "\n",
    "for key, value in superclusters_per_category.items():\n",
    "    df = pd.DataFrame(value)  \n",
    "    df.cluster_counts = df.cluster_counts.astype(str).str.lstrip('Counter(').str.rstrip(')')\n",
    "    df.rgb_colors = df.rgb_colors.apply(lambda x: str([list(a) for a in x]))\n",
    "    df.to_csv('./'+key+'_supercluster.csv')"
   ]
  },
  {
   "cell_type": "code",
   "execution_count": null,
   "metadata": {},
   "outputs": [],
   "source": []
  }
 ],
 "metadata": {
  "kernelspec": {
   "display_name": "Python 3 (ipykernel)",
   "language": "python",
   "name": "python3"
  },
  "language_info": {
   "codemirror_mode": {
    "name": "ipython",
    "version": 3
   },
   "file_extension": ".py",
   "mimetype": "text/x-python",
   "name": "python",
   "nbconvert_exporter": "python",
   "pygments_lexer": "ipython3",
   "version": "3.10.6"
  },
  "vscode": {
   "interpreter": {
    "hash": "02e2d7ca0a70b00640d87c69d13c74971494e5463d67573890529749ab9dd4f5"
   }
  }
 },
 "nbformat": 4,
 "nbformat_minor": 2
}
