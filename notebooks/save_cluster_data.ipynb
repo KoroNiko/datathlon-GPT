{
 "cells": [
  {
   "cell_type": "code",
   "execution_count": 1,
   "metadata": {},
   "outputs": [],
   "source": [
    "import io\n",
    "import matplotlib.pyplot as plt \n",
    "import numpy as np \n",
    "import pandas as pd\n",
    "import plotly.graph_objects as go\n",
    "import requests\n",
    "\n",
    "from collections import Counter \n",
    "from environment.settings import config\n",
    "from numpy import matlib\n",
    "from numba import njit\n",
    "from PIL import Image\n",
    "from plotly.subplots import make_subplots\n",
    "from sklearn.cluster import KMeans \n",
    "from tqdm import tqdm\n",
    "from typing import Tuple\n",
    "\n",
    "dataset_dir = config['DATASET_DIR']\n",
    "database_dir = config['DATABASE_DIR']\n",
    "\n",
    "# Number of colors to be extracted\n",
    "NUM_COLORS = 10"
   ]
  },
  {
   "cell_type": "code",
   "execution_count": 26,
   "metadata": {},
   "outputs": [],
   "source": [
    "Artwork = pd.read_csv(dataset_dir+'Artwork.csv')\n",
    "Artist = pd.read_csv(dataset_dir+'Artist.csv')\n",
    "df_temp = Artwork.reset_index().rename(columns={'index':'artwork_id'})"
   ]
  },
  {
   "cell_type": "code",
   "execution_count": 35,
   "metadata": {},
   "outputs": [],
   "source": [
    "df1 = pd.read_pickle(f'{dataset_dir}/cluster_data_small.pkl')\n",
    "df2 = pd.read_pickle(f'{dataset_dir}/cluster_data_small2.pkl')\n",
    "\n",
    "df = pd.concat([df1, df2], ignore_index=True)\n",
    "# df['id'] = df.merge(df_temp, left_on='id', right_on='artwork_id').id_y\n",
    "# df.cluster_counts = df.cluster_counts.astype(str).str.lstrip('Counter(').str.rstrip(')')\n",
    "# df.rgb_colors = df.rgb_colors.apply(lambda x: str([list(a) for a in x]))[0]\n",
    "# df.to_csv(f'{dataset_dir}/cluster_data_artworks.csv', index=False)"
   ]
  },
  {
   "cell_type": "code",
   "execution_count": null,
   "metadata": {},
   "outputs": [],
   "source": [
    "def url2array(url: str):\n",
    "    ''' Gets a URL and returns an image as a numpy array '''\n",
    "    response = requests.get(url)\n",
    "    img = Image.open(io.BytesIO(response.content))\n",
    "    if img.mode != 'RGB':\n",
    "        img = img.convert('RGB')\n",
    "    return np.array(img)\n",
    "\n",
    "@njit\n",
    "def reshape_image(img):\n",
    "    ''' Reshapes an image to MxNx3 as input for the KMeans model '''\n",
    "    if len(img.shape) == 3:\n",
    "        img2d = img.reshape((img.shape[0]*img.shape[1], 3))\n",
    "    else:\n",
    "        img2d = np.stack((img, img, img), axis=2).reshape(img.shape[0]*img.shape[1], 3)\n",
    "    \n",
    "    return img2d\n",
    "\n",
    "def extract_colors(model, img):\n",
    "    ''' Extract the X most common colors from an image with a KMeans model '''       \n",
    "    cluster_labels = model.fit_predict(img)\n",
    "    return cluster_labels.astype(np.uint8), Counter(cluster_labels), model.cluster_centers_.astype(np.uint8)"
   ]
  },
  {
   "cell_type": "code",
   "execution_count": null,
   "metadata": {},
   "outputs": [],
   "source": [
    "Artwork = pd.read_csv(dataset_dir+'Artwork.csv')\n",
    "kmeans_model = KMeans(n_clusters=NUM_COLORS, n_init='auto')\n",
    "\n",
    "# data_dict = {'id': [], 'cluster_labels': [], \n",
    "#              'cluster_counts': [], 'rgb_colors': []}\n",
    "\n",
    "data_dict = {'id': [], 'cluster_counts': [], 'rgb_colors': []}\n",
    "urls = Artwork.image_url\n",
    "for i, url in tqdm(enumerate(urls[6056:])):\n",
    "    img = url2array(url)\n",
    "    img2d = reshape_image(img)\n",
    "    cluster_labels, cluster_counts, rgb_colors = extract_colors(kmeans_model, img2d)\n",
    "    # ? Add data to the dictionary\n",
    "    data_dict['id'].append(i+6056)\n",
    "    # data_dict['cluster_labels'].append(cluster_labels)\n",
    "    data_dict['cluster_counts'].append(cluster_counts)\n",
    "    data_dict['rgb_colors'].append(rgb_colors)"
   ]
  },
  {
   "cell_type": "code",
   "execution_count": null,
   "metadata": {},
   "outputs": [],
   "source": [
    "pd.DataFrame(data_dict).to_pickle(dataset_dir+'cluster_data.pkl')"
   ]
  },
  {
   "cell_type": "code",
   "execution_count": null,
   "metadata": {},
   "outputs": [],
   "source": [
    "df = pd.DataFrame(data_dict)\n",
    "df[['id', 'cluster_counts', 'rgb_colors']].to_pickle(dataset_dir+'cluster_data_small2.pkl')"
   ]
  }
 ],
 "metadata": {
  "kernelspec": {
   "display_name": ".venv_datathlon",
   "language": "python",
   "name": "python3"
  },
  "language_info": {
   "codemirror_mode": {
    "name": "ipython",
    "version": 3
   },
   "file_extension": ".py",
   "mimetype": "text/x-python",
   "name": "python",
   "nbconvert_exporter": "python",
   "pygments_lexer": "ipython3",
   "version": "3.10.6"
  },
  "orig_nbformat": 4,
  "vscode": {
   "interpreter": {
    "hash": "02e2d7ca0a70b00640d87c69d13c74971494e5463d67573890529749ab9dd4f5"
   }
  }
 },
 "nbformat": 4,
 "nbformat_minor": 2
}
