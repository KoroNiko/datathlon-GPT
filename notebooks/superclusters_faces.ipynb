{
 "cells": [
  {
   "cell_type": "code",
   "execution_count": 1,
   "metadata": {},
   "outputs": [],
   "source": [
    "import ast\n",
    "import numpy as np\n",
    "import pandas as pd\n",
    "import plotly.graph_objects as go\n",
    "\n",
    "from collections import Counter \n",
    "# from environment.settings import config\n",
    "from numpy import matlib\n",
    "from sklearn.cluster import KMeans\n",
    "from sqlalchemy import select, text, and_, or_\n",
    "from sqlalchemy.sql import Select\n",
    "from typing import Tuple\n",
    "from utils import connections\n",
    "from utils import database\n",
    "import pickle\n",
    "\n",
    "# database_dir = config['DATABASE_DIR']\n",
    "# dataset_dir = config['DATASET_DIR']\n",
    "dataset_dir = '../data/'\n",
    "\n",
    "NUM_COLORS = 10\n",
    "\n",
    "kmeans_model = KMeans(n_clusters=NUM_COLORS, n_init='auto')"
   ]
  },
  {
   "cell_type": "markdown",
   "metadata": {},
   "source": [
    "Functions"
   ]
  },
  {
   "cell_type": "code",
   "execution_count": 2,
   "metadata": {},
   "outputs": [],
   "source": [
    "def rgb2hex(rgb: np.ndarray):\n",
    "    ''' Converts an N X 3 numpy array of RGB values into a list of hex strings'''\n",
    "    hex_list = list(map(lambda x: '#%02x%02x%02x' % tuple(x), rgb))\n",
    "    return hex_list\n",
    "\n",
    "def extract_colors(model: KMeans, img: np.ndarray) -> Tuple[np.ndarray, Counter, np.ndarray]:\n",
    "    ''' Extract the X most common colors from an image with a KMeans model '''       \n",
    "    cluster_labels = model.fit_predict(img)\n",
    "    return cluster_labels.astype(np.uint8), Counter(cluster_labels), model.cluster_centers_.astype(np.uint8)"
   ]
  },
  {
   "cell_type": "markdown",
   "metadata": {},
   "source": [
    "We need to group the artworks by:\n",
    "- Artist\n",
    "- Movement\n",
    "- Century\n",
    "- Country"
   ]
  },
  {
   "cell_type": "code",
   "execution_count": 3,
   "metadata": {},
   "outputs": [],
   "source": [
    "# Artist = pd.read_csv(dataset_dir+'Artist.csv')\n",
    "# ArtistMovement = pd.read_csv(dataset_dir+'ArtistMovements.csv')\n",
    "# Artwork = pd.read_csv(dataset_dir+'Artwork.csv')\n",
    "# Movement = pd.read_csv(dataset_dir+'Movement.csv')\n",
    "# ? Read Stratos' file\n",
    "with open(dataset_dir+'img_pallets_faces.pkl', 'rb') as handle:\n",
    "    faces_pallete = pickle.load(handle)"
   ]
  },
  {
   "cell_type": "markdown",
   "metadata": {},
   "source": [
    "Cluster by artist"
   ]
  },
  {
   "cell_type": "code",
   "execution_count": 4,
   "metadata": {},
   "outputs": [],
   "source": [
    "color_percentage_list = []\n",
    "for item in faces_pallete:\n",
    "    cluster_counts, rgb_colors = item['cluster_counts'], item['rgb_colors']\n",
    "\n",
    "    labels = rgb2hex(rgb_colors)\n",
    "    values = list(map(lambda x: x[1], sorted(cluster_counts.items())))\n",
    "    # make sure that the percentages add up to 100\n",
    "    percentages = list(map(lambda x: x / sum(values) * 100, values))\n",
    "    # cumulative sum of the percentages\n",
    "    cum_percentages = np.cumsum(percentages).round(0)\n",
    "    # shift the percentages right by 1 and make the first element 0 (from 100)\n",
    "    rolled_cp = np.roll(cum_percentages, 1)\n",
    "    rolled_cp[0] = 0\n",
    "    # substract the shifted percentages from the cumulative percentages\n",
    "    # the result is the size of percentage of each color\n",
    "    # we do this to ensure that percentages always add up to 100\n",
    "    percentages = (cum_percentages - rolled_cp).astype(int)\n",
    "    # get a 100 * 3 array of the colors\n",
    "    color_percentages = [matlib.repmat(a=color, m=percentage, n=1) for color, percentage in zip(rgb_colors, percentages)] \n",
    "    color_percentage_list.append(np.vstack(color_percentages))\n",
    "\n",
    "artist_colors = np.vstack(color_percentage_list)\n",
    "_, cluster_counts, rgb_colors = extract_colors(kmeans_model, artist_colors)"
   ]
  },
  {
   "cell_type": "code",
   "execution_count": 5,
   "metadata": {},
   "outputs": [],
   "source": [
    "df = pd.DataFrame({'cluster_counts':[cluster_counts], 'rgb_colors':[rgb_colors]})\n",
    "df.cluster_counts = df.cluster_counts.astype(str).str.lstrip('Counter(').str.rstrip(')')\n",
    "df.rgb_colors = df.rgb_colors.apply(lambda x: str([list(a) for a in x]))\n",
    "df.to_csv(dataset_dir+'faces_supercluster.csv')"
   ]
  },
  {
   "cell_type": "code",
   "execution_count": null,
   "metadata": {},
   "outputs": [],
   "source": []
  }
 ],
 "metadata": {
  "kernelspec": {
   "display_name": "Python 3 (ipykernel)",
   "language": "python",
   "name": "python3"
  },
  "language_info": {
   "codemirror_mode": {
    "name": "ipython",
    "version": 3
   },
   "file_extension": ".py",
   "mimetype": "text/x-python",
   "name": "python",
   "nbconvert_exporter": "python",
   "pygments_lexer": "ipython3",
   "version": "3.10.6"
  },
  "vscode": {
   "interpreter": {
    "hash": "02e2d7ca0a70b00640d87c69d13c74971494e5463d67573890529749ab9dd4f5"
   }
  }
 },
 "nbformat": 4,
 "nbformat_minor": 2
}
