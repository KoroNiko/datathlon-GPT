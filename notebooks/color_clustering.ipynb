{
 "cells": [
  {
   "cell_type": "code",
   "execution_count": null,
   "metadata": {},
   "outputs": [],
   "source": [
    "import io\n",
    "import matplotlib.pyplot as plt \n",
    "import numpy as np \n",
    "import pandas as pd\n",
    "import plotly.graph_objects as go\n",
    "import requests\n",
    "\n",
    "from collections import Counter \n",
    "from environment.settings import config\n",
    "from numpy import matlib\n",
    "from PIL import Image\n",
    "from plotly.subplots import make_subplots\n",
    "from sklearn.cluster import KMeans \n",
    "from typing import Tuple\n",
    "\n",
    "dataset_dir = config['DATASET_DIR']\n",
    "database_dir = config['DATABASE_DIR']\n",
    "\n",
    "# Number of colors to be extracted\n",
    "NUM_COLORS = 10"
   ]
  },
  {
   "attachments": {},
   "cell_type": "markdown",
   "metadata": {},
   "source": [
    "Convenience functions"
   ]
  },
  {
   "cell_type": "code",
   "execution_count": 2,
   "metadata": {},
   "outputs": [
    {
     "data": {
      "text/plain": [
       "'10px 10px 10px 10px'"
      ]
     },
     "execution_count": 2,
     "metadata": {},
     "output_type": "execute_result"
    }
   ],
   "source": [
    "('10px ' * 4).rstrip()"
   ]
  },
  {
   "cell_type": "code",
   "execution_count": null,
   "metadata": {},
   "outputs": [],
   "source": [
    "def hex2rgb(hex: str) -> Tuple[int, int, int]:\n",
    "    \"\"\"Converts a hex color to rgb\"\"\"\n",
    "    hex = hex.lstrip('#')\n",
    "    return tuple(int(hex[i:i+2], 16) for i in (0, 2, 4))"
   ]
  },
  {
   "cell_type": "code",
   "execution_count": null,
   "metadata": {},
   "outputs": [],
   "source": [
    "def rgb2hex(rgb: np.ndarray):\n",
    "    ''' Converts an N X 3 numpy array of RGB values into a list of hex strings'''\n",
    "    hex_list = list(map(lambda x: '#%02x%02x%02x' % tuple(x), rgb))\n",
    "    return hex_list\n",
    "\n",
    "def url2img(url: str):\n",
    "    ''' Gets a URL and returns a PIL image '''\n",
    "    response = requests.get(url)\n",
    "    img = Image.open(io.BytesIO(response.content))\n",
    "    if img.mode != 'RGB':\n",
    "        img = img.convert('RGB')\n",
    "    return img\n",
    "\n",
    "def url2array(url: str):\n",
    "    ''' Gets a URL and returns an image as a numpy array '''\n",
    "    response = requests.get(url)\n",
    "    img = Image.open(io.BytesIO(response.content))\n",
    "    return np.array(img)\n",
    "\n",
    "def reshape_image(img: np.ndarray) -> np.ndarray:\n",
    "    ''' Reshapes an image to MxNx3 as input for the KMeans model '''\n",
    "    if len(img.shape) == 3:\n",
    "        img2d = img.reshape((img.shape[0]*img.shape[1], 3))\n",
    "    else:\n",
    "        img2d = np.stack((img, img, img), axis=2).reshape(img.shape[0]*img.shape[1], 3)\n",
    "    \n",
    "    return img2d\n",
    "\n",
    "def extract_colors(model: KMeans, img: np.ndarray) -> Tuple[np.ndarray, Counter, np.ndarray]:\n",
    "    ''' Extract the X most common colors from an image with a KMeans model '''       \n",
    "    cluster_labels = model.fit_predict(img)\n",
    "    return cluster_labels.astype(np.uint8), Counter(cluster_labels), model.cluster_centers_.astype(np.uint8)"
   ]
  },
  {
   "attachments": {},
   "cell_type": "markdown",
   "metadata": {},
   "source": [
    "Read the data"
   ]
  },
  {
   "cell_type": "code",
   "execution_count": null,
   "metadata": {},
   "outputs": [],
   "source": [
    "Artwork = pd.read_csv(dataset_dir+'Artwork.csv')\n",
    "Artist = pd.read_csv(dataset_dir+'Artist.csv')\n",
    "url = Artwork.image_url[123]\n",
    "img = url2array(url)\n",
    "# An example of an artist's images (Monet)\n",
    "image_list = Artwork[Artwork.artist == 0].image_url.apply(url2array).reset_index(drop=True)"
   ]
  },
  {
   "attachments": {},
   "cell_type": "markdown",
   "metadata": {},
   "source": [
    "Clustering"
   ]
  },
  {
   "cell_type": "code",
   "execution_count": null,
   "metadata": {},
   "outputs": [],
   "source": [
    "kmeans_model = KMeans(n_clusters=NUM_COLORS, n_init='auto')\n",
    "# url = Artwork.image_url[35]\n",
    "img = image_list[20]\n",
    "\n",
    "img2d = reshape_image(img)\n",
    "cluster_labels, cluster_counts, rgb_colors = extract_colors(kmeans_model, img2d)\n",
    "img_quant = np.reshape(rgb_colors[cluster_labels], (img.shape[0], img.shape[1], 3))"
   ]
  },
  {
   "cell_type": "code",
   "execution_count": null,
   "metadata": {},
   "outputs": [],
   "source": []
  },
  {
   "attachments": {},
   "cell_type": "markdown",
   "metadata": {},
   "source": [
    "\"Super\" Clustering"
   ]
  },
  {
   "cell_type": "code",
   "execution_count": null,
   "metadata": {},
   "outputs": [],
   "source": [
    "color_percentage_list = []\n",
    "for img in image_list:\n",
    "    img2d = reshape_image(img)\n",
    "    cluster_labels, cluster_counts, rgb_colors = extract_colors(kmeans_model, img2d)\n",
    "    \n",
    "    labels = rgb2hex(rgb_colors)\n",
    "    values = values = list(map(lambda x: x[1], sorted(cluster_counts.items())))\n",
    "    \n",
    "    # make sure that the percentages add up to 100\n",
    "    percentages = list(map(lambda x: x / sum(values) * 100, values))\n",
    "    # cumulative sum of the percentages\n",
    "    cum_percentages = np.cumsum(percentages).round(0)\n",
    "    # shift the percentages right by 1 and make the first element 0 (from 100)\n",
    "    rolled_cp = np.roll(cum_percentages, 1)\n",
    "    rolled_cp[0] = 0\n",
    "    # substract the shifted percentages from the cumulative percentages\n",
    "    # the result is the size of percentage of each color\n",
    "    # we do this to ensure that percentages always add up to 100\n",
    "    percentages = (cum_percentages - rolled_cp).astype(int)\n",
    "    # get a 100 * 3 \n",
    "    color_percentages = [matlib.repmat(a=color, m=percentage, n=1) for color, percentage in zip(rgb_colors, percentages)] \n",
    "    color_percentage_list.append(np.vstack(color_percentages))\n",
    "\n",
    "artist_colors = np.vstack(color_percentage_list)\n",
    "cluster_labels, cluster_counts, rgb_colors = extract_colors(kmeans_model, artist_colors)"
   ]
  },
  {
   "cell_type": "code",
   "execution_count": null,
   "metadata": {},
   "outputs": [],
   "source": [
    "values"
   ]
  },
  {
   "cell_type": "code",
   "execution_count": null,
   "metadata": {},
   "outputs": [],
   "source": [
    "fig = go.Figure()\n",
    "\n",
    "labels = rgb2hex(rgb_colors)\n",
    "values = list(map(lambda x: x[1], sorted(cluster_counts.items())))\n",
    "\n",
    "pie = go.Pie(labels=labels, values=values, hole=.2, marker=dict(colors=labels))\n",
    "fig.add_trace(pie)\n",
    "fig.show()\n",
    "# plt.imshow(img)"
   ]
  },
  {
   "cell_type": "code",
   "execution_count": null,
   "metadata": {},
   "outputs": [],
   "source": [
    "fig = make_subplots(rows=1, cols=2, subplot_titles=['Original (Top) & Clustered Image (Bottom)', f'{NUM_COLORS} Most Common Colors'],\n",
    "                    specs=[[{'type': 'xy'}, {'type': 'domain'}]], column_widths=[0.8, 0.2])\n",
    "\n",
    "# Stack the images together to display them\n",
    "stacked_images = np.vstack((img, img_quant))\n",
    "\n",
    "# Extract the hex values from the RGB colors\n",
    "labels = rgb2hex(rgb_colors)\n",
    "# Get the number of occurences for each color\n",
    "values = list(map(lambda x: x[1], sorted(cluster_counts.items())))\n",
    "# Pie chart with the colors\n",
    "pie = go.Pie(labels=labels, values=values, hole=.2, marker=dict(colors=labels))\n",
    "\n",
    "fig.add_trace(go.Image(z=stacked_images), row=1, col=1)\n",
    "fig.add_trace(pie, row=1, col=2)\n",
    "\n",
    "fig.update_layout(width=1024, height=1280)"
   ]
  }
 ],
 "metadata": {
  "kernelspec": {
   "display_name": ".venv_datathlon",
   "language": "python",
   "name": "python3"
  },
  "language_info": {
   "codemirror_mode": {
    "name": "ipython",
    "version": 3
   },
   "file_extension": ".py",
   "mimetype": "text/x-python",
   "name": "python",
   "nbconvert_exporter": "python",
   "pygments_lexer": "ipython3",
   "version": "3.10.6"
  },
  "orig_nbformat": 4,
  "vscode": {
   "interpreter": {
    "hash": "02e2d7ca0a70b00640d87c69d13c74971494e5463d67573890529749ab9dd4f5"
   }
  }
 },
 "nbformat": 4,
 "nbformat_minor": 2
}
