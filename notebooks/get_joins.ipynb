{
 "cells": [
  {
   "cell_type": "code",
   "execution_count": 1,
   "metadata": {},
   "outputs": [],
   "source": [
    "# !pip install folium\n",
    "# !pip install python-dotenv\n",
    "import folium\n",
    "import numpy as np\n",
    "import pandas as pd\n",
    "import os\n",
    "import plotly.graph_objects as go\n",
    "import plotly.express as px\n",
    "\n",
    "\n",
    "import sys\n",
    "sys.path.append(\"/home/stratos/Documents/datathlon-GPT-main\")\n",
    "# from environment.settings import config\n",
    "\n",
    "# dataset_dir = config['DATASET_DIR']\n",
    "dataset_dir='../data/'\n",
    "# database_dir = config['DATABASE_DIR']"
   ]
  },
  {
   "cell_type": "code",
   "execution_count": 80,
   "metadata": {},
   "outputs": [],
   "source": [
    "Academy = pd.read_csv(dataset_dir+'Academy.csv')\n",
    "Apprenticeship = pd.read_csv(dataset_dir+'Apprenticeship.csv')\n",
    "Artist = pd.read_csv(dataset_dir+'Artist.csv')\n",
    "ArtistEducation = pd.read_csv(dataset_dir+'ArtistEducation.csv')\n",
    "ArtistMovement = pd.read_csv(dataset_dir+'ArtistMovements.csv')\n",
    "ArtistPictures = pd.read_csv(dataset_dir+'ArtistPicture.csv')\n",
    "ArtistSpecialization = pd.read_csv(dataset_dir+'ArtistSpecializations.csv')\n",
    "Artwork = pd.read_csv(dataset_dir+'Artwork.csv')\n",
    "Generated = pd.read_csv(dataset_dir+'Generated.csv')\n",
    "Medium = pd.read_csv(dataset_dir+'Medium.csv')\n",
    "Movement = pd.read_csv(dataset_dir+'Movement.csv')\n",
    "Place = pd.read_csv(dataset_dir+'Places.csv')\n",
    "Recommendation = pd.read_csv(dataset_dir+'Recommendation.csv')\n",
    "Specialization = pd.read_csv(dataset_dir+'specialization.csv')\n",
    "\n",
    "artworks_date = pd.read_csv(dataset_dir+'artworks_date.csv')\n"
   ]
  },
  {
   "cell_type": "code",
   "execution_count": 107,
   "metadata": {},
   "outputs": [
    {
     "data": {
      "text/plain": [
       "6675    https://kuleuven-datathon-2023.s3.eu-central-1...\n",
       "Name: image_url, dtype: object"
      ]
     },
     "execution_count": 107,
     "metadata": {},
     "output_type": "execute_result"
    }
   ],
   "source": [
    "Artwork.loc[Artwork['id']==6677]['image_url']"
   ]
  },
  {
   "cell_type": "markdown",
   "metadata": {},
   "source": [
    "place_artwork"
   ]
  },
  {
   "cell_type": "code",
   "execution_count": 102,
   "metadata": {},
   "outputs": [
    {
     "data": {
      "text/html": [
       "<div>\n",
       "<style scoped>\n",
       "    .dataframe tbody tr th:only-of-type {\n",
       "        vertical-align: middle;\n",
       "    }\n",
       "\n",
       "    .dataframe tbody tr th {\n",
       "        vertical-align: top;\n",
       "    }\n",
       "\n",
       "    .dataframe thead th {\n",
       "        text-align: right;\n",
       "    }\n",
       "</style>\n",
       "<table border=\"1\" class=\"dataframe\">\n",
       "  <thead>\n",
       "    <tr style=\"text-align: right;\">\n",
       "      <th></th>\n",
       "      <th>artwork_id</th>\n",
       "      <th>place_id</th>\n",
       "      <th>painting_name</th>\n",
       "      <th>place_name</th>\n",
       "    </tr>\n",
       "  </thead>\n",
       "  <tbody>\n",
       "    <tr>\n",
       "      <th>0</th>\n",
       "      <td>0.0</td>\n",
       "      <td>213.0</td>\n",
       "      <td>Cafe Terrace on the Place du Forum</td>\n",
       "      <td>Netherlands</td>\n",
       "    </tr>\n",
       "    <tr>\n",
       "      <th>1</th>\n",
       "      <td>1.0</td>\n",
       "      <td>213.0</td>\n",
       "      <td>Starry Night</td>\n",
       "      <td>Netherlands</td>\n",
       "    </tr>\n",
       "    <tr>\n",
       "      <th>2</th>\n",
       "      <td>2.0</td>\n",
       "      <td>213.0</td>\n",
       "      <td>A Digger</td>\n",
       "      <td>Netherlands</td>\n",
       "    </tr>\n",
       "    <tr>\n",
       "      <th>3</th>\n",
       "      <td>3.0</td>\n",
       "      <td>213.0</td>\n",
       "      <td>A Group of Cottages</td>\n",
       "      <td>Netherlands</td>\n",
       "    </tr>\n",
       "    <tr>\n",
       "      <th>4</th>\n",
       "      <td>4.0</td>\n",
       "      <td>213.0</td>\n",
       "      <td>A Pair of Shoes</td>\n",
       "      <td>Netherlands</td>\n",
       "    </tr>\n",
       "    <tr>\n",
       "      <th>...</th>\n",
       "      <td>...</td>\n",
       "      <td>...</td>\n",
       "      <td>...</td>\n",
       "      <td>...</td>\n",
       "    </tr>\n",
       "    <tr>\n",
       "      <th>6204</th>\n",
       "      <td>10515.0</td>\n",
       "      <td>217.0</td>\n",
       "      <td>Distribution of Herring and White Bread during...</td>\n",
       "      <td>Dutch Republic</td>\n",
       "    </tr>\n",
       "    <tr>\n",
       "      <th>6205</th>\n",
       "      <td>10516.0</td>\n",
       "      <td>217.0</td>\n",
       "      <td>The Artist Painting, Surrounded by his Family</td>\n",
       "      <td>Dutch Republic</td>\n",
       "    </tr>\n",
       "    <tr>\n",
       "      <th>6206</th>\n",
       "      <td>10517.0</td>\n",
       "      <td>217.0</td>\n",
       "      <td>Hercules seated at the foot of a tree in a lan...</td>\n",
       "      <td>Dutch Republic</td>\n",
       "    </tr>\n",
       "    <tr>\n",
       "      <th>6207</th>\n",
       "      <td>10518.0</td>\n",
       "      <td>217.0</td>\n",
       "      <td>St. Matthew Bringing Back To Life The Son Of T...</td>\n",
       "      <td>Dutch Republic</td>\n",
       "    </tr>\n",
       "    <tr>\n",
       "      <th>6208</th>\n",
       "      <td>10519.0</td>\n",
       "      <td>217.0</td>\n",
       "      <td>The Four Fathers Of The Church</td>\n",
       "      <td>Dutch Republic</td>\n",
       "    </tr>\n",
       "  </tbody>\n",
       "</table>\n",
       "<p>6209 rows × 4 columns</p>\n",
       "</div>"
      ],
      "text/plain": [
       "      artwork_id  place_id                                      painting_name  \\\n",
       "0            0.0     213.0                 Cafe Terrace on the Place du Forum   \n",
       "1            1.0     213.0                                       Starry Night   \n",
       "2            2.0     213.0                                           A Digger   \n",
       "3            3.0     213.0                                A Group of Cottages   \n",
       "4            4.0     213.0                                    A Pair of Shoes   \n",
       "...          ...       ...                                                ...   \n",
       "6204     10515.0     217.0  Distribution of Herring and White Bread during...   \n",
       "6205     10516.0     217.0      The Artist Painting, Surrounded by his Family   \n",
       "6206     10517.0     217.0  Hercules seated at the foot of a tree in a lan...   \n",
       "6207     10518.0     217.0  St. Matthew Bringing Back To Life The Son Of T...   \n",
       "6208     10519.0     217.0                     The Four Fathers Of The Church   \n",
       "\n",
       "          place_name  \n",
       "0        Netherlands  \n",
       "1        Netherlands  \n",
       "2        Netherlands  \n",
       "3        Netherlands  \n",
       "4        Netherlands  \n",
       "...              ...  \n",
       "6204  Dutch Republic  \n",
       "6205  Dutch Republic  \n",
       "6206  Dutch Republic  \n",
       "6207  Dutch Republic  \n",
       "6208  Dutch Republic  \n",
       "\n",
       "[6209 rows x 4 columns]"
      ]
     },
     "execution_count": 102,
     "metadata": {},
     "output_type": "execute_result"
    }
   ],
   "source": [
    "df = Artist[['id','birthplace','name']].dropna(subset=['birthplace'])\n",
    "df = pd.merge(df, Artwork, how='left', left_on = 'id', right_on = 'artist')\n",
    "df = df[['id_x','id_y','birthplace','name_x','name_y']]\n",
    "df.rename(columns={\"id_y\": \"artwork_id\", \"birthplace\": \"place_id\"\n",
    "                   , \"name_y\":\"painting_name\"}, inplace=True)\n",
    "df = pd.merge(df, Place, how='left', left_on = 'place_id', right_on = 'id')\n",
    "df.drop(['id','name_x','id_x'], axis=1, inplace=True)\n",
    "df.rename(columns={\"name\": \"place_name\"}, inplace=True)\n",
    "for i, row in df.iterrows():\n",
    "    if not pd.isna(row['parent']):\n",
    "        df.at[i,'place_name'] = Place.loc[Place['id']==row['parent']]['name'].item()\n",
    "        df.at[i,'place_id'] = Place.loc[Place['id']==row['parent']]['id'].item()\n",
    "df.drop(['parent'], axis=1, inplace=True)\n",
    "place_artwork = df\n",
    "place_artwork\n",
    "# place_artwork.to_csv('./place_artwork.csv')"
   ]
  },
  {
   "cell_type": "markdown",
   "metadata": {},
   "source": [
    "movement_artist_artwork"
   ]
  },
  {
   "cell_type": "code",
   "execution_count": 65,
   "metadata": {},
   "outputs": [],
   "source": [
    "df = pd.merge(Artist, Artwork, how='left', left_on = 'id', right_on = 'artist')\n",
    "df = df[['id_x','id_y','name_x','name_y']]\n",
    "df.rename(columns={\"id_x\": \"artist_id\", \"id_y\": \"artwork_id\",\n",
    "                  \"name_x\":\"artist_name\", \"name_y\":\"painting_name\"}, inplace=True)\n",
    "df = pd.merge(df, ArtistMovement, how='left', left_on = 'artist_id', right_on = 'artist_id')\n",
    "df = pd.merge(df, Movement, how='left', left_on = 'movement_id', right_on = 'id')\n",
    "df.drop(['description','id'], axis=1, inplace=True)\n",
    "movement_artist_artwork = df\n",
    "movement_artist_artwork\n",
    "movement_artist_artwork.to_csv('./movement_artist_artwork.csv')"
   ]
  },
  {
   "cell_type": "markdown",
   "metadata": {},
   "source": [
    "artwork_century"
   ]
  },
  {
   "cell_type": "code",
   "execution_count": 101,
   "metadata": {},
   "outputs": [],
   "source": [
    "df = artworks_date\n",
    "df['century'] = ''\n",
    "df['century'] = df['year'].apply(lambda year: (year // 100) + 1)\n",
    "df = df.loc[:, ['id_artwork', 'century']]\n",
    "df.rename(columns={\"id_artwork\": \"artwork_id\"}, inplace=True)\n",
    "artwork_century = df \n",
    "artwork_century.to_csv('./artwork_century.csv')"
   ]
  },
  {
   "cell_type": "code",
   "execution_count": null,
   "metadata": {},
   "outputs": [],
   "source": []
  }
 ],
 "metadata": {
  "kernelspec": {
   "display_name": "Python 3 (ipykernel)",
   "language": "python",
   "name": "python3"
  },
  "language_info": {
   "codemirror_mode": {
    "name": "ipython",
    "version": 3
   },
   "file_extension": ".py",
   "mimetype": "text/x-python",
   "name": "python",
   "nbconvert_exporter": "python",
   "pygments_lexer": "ipython3",
   "version": "3.10.6"
  },
  "vscode": {
   "interpreter": {
    "hash": "02e2d7ca0a70b00640d87c69d13c74971494e5463d67573890529749ab9dd4f5"
   }
  }
 },
 "nbformat": 4,
 "nbformat_minor": 2
}
