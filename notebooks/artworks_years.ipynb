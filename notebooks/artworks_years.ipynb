{
 "cells": [
  {
   "cell_type": "code",
   "execution_count": 4,
   "metadata": {},
   "outputs": [],
   "source": [
    "# !pip install folium\n",
    "# !pip install python-dotenv\n",
    "#import folium\n",
    "import numpy as np\n",
    "import pandas as pd\n",
    "import os\n",
    "dataset_dir='../data/'\n"
   ]
  },
  {
   "cell_type": "code",
   "execution_count": 5,
   "metadata": {
    "pycharm": {
     "name": "#%%\n"
    }
   },
   "outputs": [],
   "source": [
    "artists = pd.read_csv(dataset_dir+'Artist.csv')\n",
    "artworks = pd.read_csv(dataset_dir+'Artwork.csv')\n",
    "artworks_date=pd.merge(artworks,artists[['id','birthdate']], how='left', left_on=['artist'], right_on=['id'])"
   ]
  },
  {
   "cell_type": "code",
   "execution_count": 6,
   "metadata": {
    "pycharm": {
     "name": "#%%\n"
    }
   },
   "outputs": [],
   "source": [
    "def fto_datetime(date_string):\n",
    "    try:\n",
    "        year = date_string[0:4]\n",
    "        #month = int(date_string[5:7])\n",
    "        #day = int(date_string[8:10])\n",
    "        return int(year)\n",
    "    except:\n",
    "        return np.NaN\n",
    "\n",
    "artworks_date['birthdate'] = artworks_date['birthdate'].apply(lambda x: fto_datetime(x))"
   ]
  },
  {
   "cell_type": "code",
   "execution_count": 7,
   "metadata": {
    "pycharm": {
     "name": "#%%\n"
    }
   },
   "outputs": [],
   "source": [
    "def add_25years(date_int):\n",
    "    try:\n",
    "        x = date_int + 25\n",
    "        return int(x)\n",
    "    except:\n",
    "        return np.NaN\n",
    "\n",
    "artworks_date['good_year'] = artworks_date['birthdate'].apply(lambda x: add_25years(x))"
   ]
  },
  {
   "cell_type": "code",
   "execution_count": 8,
   "metadata": {
    "pycharm": {
     "name": "#%%\n"
    }
   },
   "outputs": [],
   "source": [
    "#delete the old year column and rename columns\n",
    "artworks_date.drop('year',axis=1,inplace=True)\n",
    "artworks_date.rename({'id_x': 'id_artwork', 'id_y':'id_artist', 'good_year': 'year' }, inplace=True, errors=\"raise\",axis=1)"
   ]
  },
  {
   "cell_type": "code",
   "execution_count": 9,
   "metadata": {
    "pycharm": {
     "name": "#%%\n"
    }
   },
   "outputs": [],
   "source": [
    "#artworks_date"
   ]
  },
  {
   "cell_type": "code",
   "execution_count": 11,
   "metadata": {
    "pycharm": {
     "name": "#%%\n"
    }
   },
   "outputs": [],
   "source": [
    "# saving the new dataframe with artworks years\n",
    "artworks_date.to_csv(dataset_dir+ 'artworks_date.csv')"
   ]
  },
  {
   "cell_type": "code",
   "execution_count": null,
   "metadata": {
    "pycharm": {
     "name": "#%%\n"
    }
   },
   "outputs": [],
   "source": []
  }
 ],
 "metadata": {
  "kernelspec": {
   "display_name": "Python 3 (ipykernel)",
   "language": "python",
   "name": "python3"
  },
  "language_info": {
   "codemirror_mode": {
    "name": "ipython",
    "version": 3
   },
   "file_extension": ".py",
   "mimetype": "text/x-python",
   "name": "python",
   "nbconvert_exporter": "python",
   "pygments_lexer": "ipython3",
   "version": "3.10.6"
  }
 },
 "nbformat": 4,
 "nbformat_minor": 1
}
