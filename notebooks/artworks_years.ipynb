{
 "cells": [
  {
   "cell_type": "code",
   "execution_count": 110,
   "metadata": {
    "collapsed": true
   },
   "outputs": [],
   "source": [
    "# !pip install folium\n",
    "# !pip install python-dotenv\n",
    "#import folium\n",
    "import numpy as np\n",
    "import pandas as pd\n",
    "import os\n",
    "dataset_dir='../FilesCSVFormat/'\n"
   ]
  },
  {
   "cell_type": "code",
   "execution_count": 111,
   "outputs": [],
   "source": [
    "artists = pd.read_csv(dataset_dir+'Artist.csv')\n",
    "artists_pictures = pd.read_csv(dataset_dir+'ArtistPicture.csv')\n",
    "artworks = pd.read_csv(dataset_dir+'Artwork.csv')\n",
    "artworks_date=pd.merge(artworks,artists[['id','name','birthdate','deathdate']], how='left', left_on=['artist'], right_on=['id'])"
   ],
   "metadata": {
    "collapsed": false,
    "pycharm": {
     "name": "#%%\n"
    }
   }
  },
  {
   "cell_type": "code",
   "execution_count": 112,
   "outputs": [
    {
     "data": {
      "text/plain": "      id                   name  \\\n0      0       Vincent Van Gogh   \n1      1  Pierre Auguste Renoir   \n2      2     Claude Oscar Monet   \n3      3        Fernando Botero   \n4      4       Jean-Léon Gérôme   \n..   ...                    ...   \n611  611          Carlo Cignani   \n612  612       Utagawa Toyohiro   \n613  613      Tobias van Haecht   \n614  614         Adam van Noort   \n615  615          Otto van Veen   \n\n                                                   url  \\\n0    http://wikigallery.org/wiki/artist36933/Vincen...   \n1    http://wikigallery.org/wiki/artist39254/Pierre...   \n2    http://wikigallery.org/wiki/artist39249/Claude...   \n3    http://wikigallery.org/wiki/artist37052/Fernan...   \n4    http://wikigallery.org/wiki/artist46453/Jean-L...   \n..                                                 ...   \n611  https://www.wikigallery.org/wiki/artist39141/C...   \n612  https://www.wikigallery.org/wiki/artist55120/U...   \n613  https://www.wikigallery.org/wiki/artist34380/T...   \n614  https://www.wikigallery.org/wiki/artist56390/A...   \n615  https://www.wikigallery.org/wiki/artist35826/O...   \n\n                                               summary  picture  birthplace  \\\n0    Vincent Willem van Gogh (Dutch: [ˈvɪnsɛnt ˈʋɪl...      0.0         0.0   \n1    Pierre-Auguste Renoir (French: [pjɛʁ oɡyst ʁən...      1.0         1.0   \n2    Oscar-Claude Monet (UK: , US: , French: [klod ...      2.0         2.0   \n3    Fernando Botero Angulo (born 19 April 1932) is...      3.0         3.0   \n4    Jean-Léon Gérôme (11 May 1824 – 10 January 190...      4.0         4.0   \n..                                                 ...      ...         ...   \n611  Carlo Cignani (15 May 1628 – 8 September 1719)...    611.0         NaN   \n612  Utagawa Toyohiro (歌川豊広, 歌川豐廣), birth name Okaj...      NaN         NaN   \n613  Willem van Haecht (1593 – 12 July 1637) was a ...      NaN         NaN   \n614  Adam van Noort (1561/62 – 1641) was a Flemish ...      NaN         NaN   \n615  Otto van Veen, also known by his Latinized nam...    615.0         5.0   \n\n     deathplace   birthdate   deathdate cause_of_death  \n0         342.0  1853-03-30  1890-07-29  Gunshot wound  \n1         343.0  1841-02-25  1919-12-03            NaN  \n2         344.0  1840-11-14  1926-12-05            NaN  \n3           NaN  1932-04-19         NaN            NaN  \n4           2.0  1824-05-11  1904-01-10            NaN  \n..          ...         ...         ...            ...  \n611         NaN  1628-05-15  1719-09-08            NaN  \n612         NaN         NaN         NaN            NaN  \n613         NaN         NaN         NaN            NaN  \n614         NaN         NaN         NaN            NaN  \n615        64.0         NaN  1629-05-06            NaN  \n\n[616 rows x 10 columns]",
      "text/html": "<div>\n<style scoped>\n    .dataframe tbody tr th:only-of-type {\n        vertical-align: middle;\n    }\n\n    .dataframe tbody tr th {\n        vertical-align: top;\n    }\n\n    .dataframe thead th {\n        text-align: right;\n    }\n</style>\n<table border=\"1\" class=\"dataframe\">\n  <thead>\n    <tr style=\"text-align: right;\">\n      <th></th>\n      <th>id</th>\n      <th>name</th>\n      <th>url</th>\n      <th>summary</th>\n      <th>picture</th>\n      <th>birthplace</th>\n      <th>deathplace</th>\n      <th>birthdate</th>\n      <th>deathdate</th>\n      <th>cause_of_death</th>\n    </tr>\n  </thead>\n  <tbody>\n    <tr>\n      <th>0</th>\n      <td>0</td>\n      <td>Vincent Van Gogh</td>\n      <td>http://wikigallery.org/wiki/artist36933/Vincen...</td>\n      <td>Vincent Willem van Gogh (Dutch: [ˈvɪnsɛnt ˈʋɪl...</td>\n      <td>0.0</td>\n      <td>0.0</td>\n      <td>342.0</td>\n      <td>1853-03-30</td>\n      <td>1890-07-29</td>\n      <td>Gunshot wound</td>\n    </tr>\n    <tr>\n      <th>1</th>\n      <td>1</td>\n      <td>Pierre Auguste Renoir</td>\n      <td>http://wikigallery.org/wiki/artist39254/Pierre...</td>\n      <td>Pierre-Auguste Renoir (French: [pjɛʁ oɡyst ʁən...</td>\n      <td>1.0</td>\n      <td>1.0</td>\n      <td>343.0</td>\n      <td>1841-02-25</td>\n      <td>1919-12-03</td>\n      <td>NaN</td>\n    </tr>\n    <tr>\n      <th>2</th>\n      <td>2</td>\n      <td>Claude Oscar Monet</td>\n      <td>http://wikigallery.org/wiki/artist39249/Claude...</td>\n      <td>Oscar-Claude Monet (UK: , US: , French: [klod ...</td>\n      <td>2.0</td>\n      <td>2.0</td>\n      <td>344.0</td>\n      <td>1840-11-14</td>\n      <td>1926-12-05</td>\n      <td>NaN</td>\n    </tr>\n    <tr>\n      <th>3</th>\n      <td>3</td>\n      <td>Fernando Botero</td>\n      <td>http://wikigallery.org/wiki/artist37052/Fernan...</td>\n      <td>Fernando Botero Angulo (born 19 April 1932) is...</td>\n      <td>3.0</td>\n      <td>3.0</td>\n      <td>NaN</td>\n      <td>1932-04-19</td>\n      <td>NaN</td>\n      <td>NaN</td>\n    </tr>\n    <tr>\n      <th>4</th>\n      <td>4</td>\n      <td>Jean-Léon Gérôme</td>\n      <td>http://wikigallery.org/wiki/artist46453/Jean-L...</td>\n      <td>Jean-Léon Gérôme (11 May 1824 – 10 January 190...</td>\n      <td>4.0</td>\n      <td>4.0</td>\n      <td>2.0</td>\n      <td>1824-05-11</td>\n      <td>1904-01-10</td>\n      <td>NaN</td>\n    </tr>\n    <tr>\n      <th>...</th>\n      <td>...</td>\n      <td>...</td>\n      <td>...</td>\n      <td>...</td>\n      <td>...</td>\n      <td>...</td>\n      <td>...</td>\n      <td>...</td>\n      <td>...</td>\n      <td>...</td>\n    </tr>\n    <tr>\n      <th>611</th>\n      <td>611</td>\n      <td>Carlo Cignani</td>\n      <td>https://www.wikigallery.org/wiki/artist39141/C...</td>\n      <td>Carlo Cignani (15 May 1628 – 8 September 1719)...</td>\n      <td>611.0</td>\n      <td>NaN</td>\n      <td>NaN</td>\n      <td>1628-05-15</td>\n      <td>1719-09-08</td>\n      <td>NaN</td>\n    </tr>\n    <tr>\n      <th>612</th>\n      <td>612</td>\n      <td>Utagawa Toyohiro</td>\n      <td>https://www.wikigallery.org/wiki/artist55120/U...</td>\n      <td>Utagawa Toyohiro (歌川豊広, 歌川豐廣), birth name Okaj...</td>\n      <td>NaN</td>\n      <td>NaN</td>\n      <td>NaN</td>\n      <td>NaN</td>\n      <td>NaN</td>\n      <td>NaN</td>\n    </tr>\n    <tr>\n      <th>613</th>\n      <td>613</td>\n      <td>Tobias van Haecht</td>\n      <td>https://www.wikigallery.org/wiki/artist34380/T...</td>\n      <td>Willem van Haecht (1593 – 12 July 1637) was a ...</td>\n      <td>NaN</td>\n      <td>NaN</td>\n      <td>NaN</td>\n      <td>NaN</td>\n      <td>NaN</td>\n      <td>NaN</td>\n    </tr>\n    <tr>\n      <th>614</th>\n      <td>614</td>\n      <td>Adam van Noort</td>\n      <td>https://www.wikigallery.org/wiki/artist56390/A...</td>\n      <td>Adam van Noort (1561/62 – 1641) was a Flemish ...</td>\n      <td>NaN</td>\n      <td>NaN</td>\n      <td>NaN</td>\n      <td>NaN</td>\n      <td>NaN</td>\n      <td>NaN</td>\n    </tr>\n    <tr>\n      <th>615</th>\n      <td>615</td>\n      <td>Otto van Veen</td>\n      <td>https://www.wikigallery.org/wiki/artist35826/O...</td>\n      <td>Otto van Veen, also known by his Latinized nam...</td>\n      <td>615.0</td>\n      <td>5.0</td>\n      <td>64.0</td>\n      <td>NaN</td>\n      <td>1629-05-06</td>\n      <td>NaN</td>\n    </tr>\n  </tbody>\n</table>\n<p>616 rows × 10 columns</p>\n</div>"
     },
     "execution_count": 112,
     "metadata": {},
     "output_type": "execute_result"
    }
   ],
   "source": [
    "artists"
   ],
   "metadata": {
    "collapsed": false,
    "pycharm": {
     "name": "#%%\n"
    }
   }
  },
  {
   "cell_type": "code",
   "execution_count": 99,
   "outputs": [],
   "source": [
    "\n",
    "#artists_pictures"
   ],
   "metadata": {
    "collapsed": false,
    "pycharm": {
     "name": "#%%\n"
    }
   }
  },
  {
   "cell_type": "code",
   "execution_count": 113,
   "outputs": [],
   "source": [
    "def fto_datetime(date_string):\n",
    "    try:\n",
    "        year = date_string[0:4]\n",
    "        #month = int(date_string[5:7])\n",
    "        #day = int(date_string[8:10])\n",
    "        return int(year)\n",
    "    except:\n",
    "        return np.NaN\n",
    "\n",
    "artworks_date['good_year'] = artworks_date['birthdate'].apply(lambda x: fto_datetime(x))"
   ],
   "metadata": {
    "collapsed": false,
    "pycharm": {
     "name": "#%%\n"
    }
   }
  },
  {
   "cell_type": "code",
   "execution_count": 114,
   "outputs": [],
   "source": [
    "def add_25years(date_int):\n",
    "    try:\n",
    "        x = date_int + 25\n",
    "        return int(x)\n",
    "    except:\n",
    "        return np.NaN\n",
    "\n",
    "artworks_date['good_year'] = artworks_date['good_year'].apply(lambda x: add_25years(x))"
   ],
   "metadata": {
    "collapsed": false,
    "pycharm": {
     "name": "#%%\n"
    }
   }
  },
  {
   "cell_type": "code",
   "execution_count": 115,
   "outputs": [
    {
     "data": {
      "text/plain": "        id_x                                             name_x  \\\n0          0                 Cafe Terrace on the Place du Forum   \n1          1                                       Starry Night   \n2          2                                           A Digger   \n3          3                                A Group of Cottages   \n4          4                                    A Pair of Shoes   \n...      ...                                                ...   \n10512  10515  Distribution of Herring and White Bread during...   \n10513  10516      The Artist Painting, Surrounded by his Family   \n10514  10517  Hercules seated at the foot of a tree in a lan...   \n10515  10518  St. Matthew Bringing Back To Life The Son Of T...   \n10516  10519                     The Four Fathers Of The Church   \n\n                                                     url  \\\n0      http://wikigallery.org/wiki/painting_133032/Vi...   \n1      http://wikigallery.org/wiki/painting_9698/Vinc...   \n2      http://wikigallery.org/wiki/painting_132953/Vi...   \n3      http://wikigallery.org/wiki/painting_132642/Vi...   \n4      http://wikigallery.org/wiki/painting_94630/Vin...   \n...                                                  ...   \n10512  http://wikigallery.org/wiki/painting_300071/Ot...   \n10513  http://wikigallery.org/wiki/painting_300070/Ot...   \n10514  http://wikigallery.org/wiki/painting_285809/Ot...   \n10515  http://wikigallery.org/wiki/painting_368500/Ot...   \n10516  http://wikigallery.org/wiki/painting_378600/Ot...   \n\n                                               image_url  artist  rating  \\\n0      https://kuleuven-datathon-2023.s3.eu-central-1...       0     8.0   \n1      https://kuleuven-datathon-2023.s3.eu-central-1...       0     9.0   \n2      https://kuleuven-datathon-2023.s3.eu-central-1...       0     7.0   \n3      https://kuleuven-datathon-2023.s3.eu-central-1...       0     6.0   \n4      https://kuleuven-datathon-2023.s3.eu-central-1...       0     8.0   \n...                                                  ...     ...     ...   \n10512  https://kuleuven-datathon-2023.s3.eu-central-1...     615     NaN   \n10513  https://kuleuven-datathon-2023.s3.eu-central-1...     615     NaN   \n10514  https://kuleuven-datathon-2023.s3.eu-central-1...     615     NaN   \n10515  https://kuleuven-datathon-2023.s3.eu-central-1...     615     NaN   \n10516  https://kuleuven-datathon-2023.s3.eu-central-1...     615     NaN   \n\n                                                 summary    year  medium  \\\n0      Café Terrace at Night is an 1888 oil painting ...  1888.0     0.0   \n1                                                    NaN     NaN     NaN   \n2                                                    NaN     NaN     NaN   \n3      Stoneywell is a National Trust property in Ulv...     NaN     NaN   \n4      Toms (stylized as TOMS) is a for-profit compan...     NaN     NaN   \n...                                                  ...     ...     ...   \n10512  The List of painters in the Web Gallery of Art...     NaN     NaN   \n10513  Charles IV of Spain and His Family is an oil-o...     NaN     0.0   \n10514  The Italian Renaissance garden was a new style...     NaN     NaN   \n10515  Ethiopia is one of the oldest countries in Afr...     NaN     NaN   \n10516  The Church Fathers, Early Church Fathers, Chri...     NaN     NaN   \n\n                    location  id_y            name_y   birthdate   deathdate  \\\n0      Kröller-Müller Museum     0  Vincent Van Gogh  1853-03-30  1890-07-29   \n1                        NaN     0  Vincent Van Gogh  1853-03-30  1890-07-29   \n2                        NaN     0  Vincent Van Gogh  1853-03-30  1890-07-29   \n3                        NaN     0  Vincent Van Gogh  1853-03-30  1890-07-29   \n4                        NaN     0  Vincent Van Gogh  1853-03-30  1890-07-29   \n...                      ...   ...               ...         ...         ...   \n10512                    NaN   615     Otto van Veen         NaN  1629-05-06   \n10513        Museo del Prado   615     Otto van Veen         NaN  1629-05-06   \n10514                    NaN   615     Otto van Veen         NaN  1629-05-06   \n10515                    NaN   615     Otto van Veen         NaN  1629-05-06   \n10516                    NaN   615     Otto van Veen         NaN  1629-05-06   \n\n       good_year  \n0         1878.0  \n1         1878.0  \n2         1878.0  \n3         1878.0  \n4         1878.0  \n...          ...  \n10512        NaN  \n10513        NaN  \n10514        NaN  \n10515        NaN  \n10516        NaN  \n\n[10517 rows x 15 columns]",
      "text/html": "<div>\n<style scoped>\n    .dataframe tbody tr th:only-of-type {\n        vertical-align: middle;\n    }\n\n    .dataframe tbody tr th {\n        vertical-align: top;\n    }\n\n    .dataframe thead th {\n        text-align: right;\n    }\n</style>\n<table border=\"1\" class=\"dataframe\">\n  <thead>\n    <tr style=\"text-align: right;\">\n      <th></th>\n      <th>id_x</th>\n      <th>name_x</th>\n      <th>url</th>\n      <th>image_url</th>\n      <th>artist</th>\n      <th>rating</th>\n      <th>summary</th>\n      <th>year</th>\n      <th>medium</th>\n      <th>location</th>\n      <th>id_y</th>\n      <th>name_y</th>\n      <th>birthdate</th>\n      <th>deathdate</th>\n      <th>good_year</th>\n    </tr>\n  </thead>\n  <tbody>\n    <tr>\n      <th>0</th>\n      <td>0</td>\n      <td>Cafe Terrace on the Place du Forum</td>\n      <td>http://wikigallery.org/wiki/painting_133032/Vi...</td>\n      <td>https://kuleuven-datathon-2023.s3.eu-central-1...</td>\n      <td>0</td>\n      <td>8.0</td>\n      <td>Café Terrace at Night is an 1888 oil painting ...</td>\n      <td>1888.0</td>\n      <td>0.0</td>\n      <td>Kröller-Müller Museum</td>\n      <td>0</td>\n      <td>Vincent Van Gogh</td>\n      <td>1853-03-30</td>\n      <td>1890-07-29</td>\n      <td>1878.0</td>\n    </tr>\n    <tr>\n      <th>1</th>\n      <td>1</td>\n      <td>Starry Night</td>\n      <td>http://wikigallery.org/wiki/painting_9698/Vinc...</td>\n      <td>https://kuleuven-datathon-2023.s3.eu-central-1...</td>\n      <td>0</td>\n      <td>9.0</td>\n      <td>NaN</td>\n      <td>NaN</td>\n      <td>NaN</td>\n      <td>NaN</td>\n      <td>0</td>\n      <td>Vincent Van Gogh</td>\n      <td>1853-03-30</td>\n      <td>1890-07-29</td>\n      <td>1878.0</td>\n    </tr>\n    <tr>\n      <th>2</th>\n      <td>2</td>\n      <td>A Digger</td>\n      <td>http://wikigallery.org/wiki/painting_132953/Vi...</td>\n      <td>https://kuleuven-datathon-2023.s3.eu-central-1...</td>\n      <td>0</td>\n      <td>7.0</td>\n      <td>NaN</td>\n      <td>NaN</td>\n      <td>NaN</td>\n      <td>NaN</td>\n      <td>0</td>\n      <td>Vincent Van Gogh</td>\n      <td>1853-03-30</td>\n      <td>1890-07-29</td>\n      <td>1878.0</td>\n    </tr>\n    <tr>\n      <th>3</th>\n      <td>3</td>\n      <td>A Group of Cottages</td>\n      <td>http://wikigallery.org/wiki/painting_132642/Vi...</td>\n      <td>https://kuleuven-datathon-2023.s3.eu-central-1...</td>\n      <td>0</td>\n      <td>6.0</td>\n      <td>Stoneywell is a National Trust property in Ulv...</td>\n      <td>NaN</td>\n      <td>NaN</td>\n      <td>NaN</td>\n      <td>0</td>\n      <td>Vincent Van Gogh</td>\n      <td>1853-03-30</td>\n      <td>1890-07-29</td>\n      <td>1878.0</td>\n    </tr>\n    <tr>\n      <th>4</th>\n      <td>4</td>\n      <td>A Pair of Shoes</td>\n      <td>http://wikigallery.org/wiki/painting_94630/Vin...</td>\n      <td>https://kuleuven-datathon-2023.s3.eu-central-1...</td>\n      <td>0</td>\n      <td>8.0</td>\n      <td>Toms (stylized as TOMS) is a for-profit compan...</td>\n      <td>NaN</td>\n      <td>NaN</td>\n      <td>NaN</td>\n      <td>0</td>\n      <td>Vincent Van Gogh</td>\n      <td>1853-03-30</td>\n      <td>1890-07-29</td>\n      <td>1878.0</td>\n    </tr>\n    <tr>\n      <th>...</th>\n      <td>...</td>\n      <td>...</td>\n      <td>...</td>\n      <td>...</td>\n      <td>...</td>\n      <td>...</td>\n      <td>...</td>\n      <td>...</td>\n      <td>...</td>\n      <td>...</td>\n      <td>...</td>\n      <td>...</td>\n      <td>...</td>\n      <td>...</td>\n      <td>...</td>\n    </tr>\n    <tr>\n      <th>10512</th>\n      <td>10515</td>\n      <td>Distribution of Herring and White Bread during...</td>\n      <td>http://wikigallery.org/wiki/painting_300071/Ot...</td>\n      <td>https://kuleuven-datathon-2023.s3.eu-central-1...</td>\n      <td>615</td>\n      <td>NaN</td>\n      <td>The List of painters in the Web Gallery of Art...</td>\n      <td>NaN</td>\n      <td>NaN</td>\n      <td>NaN</td>\n      <td>615</td>\n      <td>Otto van Veen</td>\n      <td>NaN</td>\n      <td>1629-05-06</td>\n      <td>NaN</td>\n    </tr>\n    <tr>\n      <th>10513</th>\n      <td>10516</td>\n      <td>The Artist Painting, Surrounded by his Family</td>\n      <td>http://wikigallery.org/wiki/painting_300070/Ot...</td>\n      <td>https://kuleuven-datathon-2023.s3.eu-central-1...</td>\n      <td>615</td>\n      <td>NaN</td>\n      <td>Charles IV of Spain and His Family is an oil-o...</td>\n      <td>NaN</td>\n      <td>0.0</td>\n      <td>Museo del Prado</td>\n      <td>615</td>\n      <td>Otto van Veen</td>\n      <td>NaN</td>\n      <td>1629-05-06</td>\n      <td>NaN</td>\n    </tr>\n    <tr>\n      <th>10514</th>\n      <td>10517</td>\n      <td>Hercules seated at the foot of a tree in a lan...</td>\n      <td>http://wikigallery.org/wiki/painting_285809/Ot...</td>\n      <td>https://kuleuven-datathon-2023.s3.eu-central-1...</td>\n      <td>615</td>\n      <td>NaN</td>\n      <td>The Italian Renaissance garden was a new style...</td>\n      <td>NaN</td>\n      <td>NaN</td>\n      <td>NaN</td>\n      <td>615</td>\n      <td>Otto van Veen</td>\n      <td>NaN</td>\n      <td>1629-05-06</td>\n      <td>NaN</td>\n    </tr>\n    <tr>\n      <th>10515</th>\n      <td>10518</td>\n      <td>St. Matthew Bringing Back To Life The Son Of T...</td>\n      <td>http://wikigallery.org/wiki/painting_368500/Ot...</td>\n      <td>https://kuleuven-datathon-2023.s3.eu-central-1...</td>\n      <td>615</td>\n      <td>NaN</td>\n      <td>Ethiopia is one of the oldest countries in Afr...</td>\n      <td>NaN</td>\n      <td>NaN</td>\n      <td>NaN</td>\n      <td>615</td>\n      <td>Otto van Veen</td>\n      <td>NaN</td>\n      <td>1629-05-06</td>\n      <td>NaN</td>\n    </tr>\n    <tr>\n      <th>10516</th>\n      <td>10519</td>\n      <td>The Four Fathers Of The Church</td>\n      <td>http://wikigallery.org/wiki/painting_378600/Ot...</td>\n      <td>https://kuleuven-datathon-2023.s3.eu-central-1...</td>\n      <td>615</td>\n      <td>NaN</td>\n      <td>The Church Fathers, Early Church Fathers, Chri...</td>\n      <td>NaN</td>\n      <td>NaN</td>\n      <td>NaN</td>\n      <td>615</td>\n      <td>Otto van Veen</td>\n      <td>NaN</td>\n      <td>1629-05-06</td>\n      <td>NaN</td>\n    </tr>\n  </tbody>\n</table>\n<p>10517 rows × 15 columns</p>\n</div>"
     },
     "execution_count": 115,
     "metadata": {},
     "output_type": "execute_result"
    }
   ],
   "source": [
    "artworks_date"
   ],
   "metadata": {
    "collapsed": false,
    "pycharm": {
     "name": "#%%\n"
    }
   }
  },
  {
   "cell_type": "code",
   "execution_count": 116,
   "outputs": [],
   "source": [
    "#delete the old year column and rename columns\n",
    "artworks_date.drop('year',axis=1,inplace=True)\n",
    "artworks_date.drop('artist',axis=1,inplace=True)\n",
    "artworks_date.drop('medium',axis=1,inplace=True)\n",
    "artworks_date.drop('location',axis=1,inplace=True)\n",
    "artworks_date.drop('rating',axis=1,inplace=True)\n",
    "artworks_date.rename({'id_x': 'artwork_id', 'id_y':'artist_id', 'good_year': 'year','name_y':'name','birthdate':'start_date','deathdate':'end_date' }, inplace=True, errors=\"raise\",axis=1)"
   ],
   "metadata": {
    "collapsed": false,
    "pycharm": {
     "name": "#%%\n"
    }
   }
  },
  {
   "cell_type": "code",
   "execution_count": 102,
   "outputs": [],
   "source": [],
   "metadata": {
    "collapsed": false,
    "pycharm": {
     "name": "#%%\n"
    }
   }
  },
  {
   "cell_type": "code",
   "execution_count": 117,
   "outputs": [
    {
     "data": {
      "text/plain": "       artwork_id                                             name_x  \\\n0               0                 Cafe Terrace on the Place du Forum   \n1               1                                       Starry Night   \n2               2                                           A Digger   \n3               3                                A Group of Cottages   \n4               4                                    A Pair of Shoes   \n...           ...                                                ...   \n10512       10515  Distribution of Herring and White Bread during...   \n10513       10516      The Artist Painting, Surrounded by his Family   \n10514       10517  Hercules seated at the foot of a tree in a lan...   \n10515       10518  St. Matthew Bringing Back To Life The Son Of T...   \n10516       10519                     The Four Fathers Of The Church   \n\n                                                     url  \\\n0      http://wikigallery.org/wiki/painting_133032/Vi...   \n1      http://wikigallery.org/wiki/painting_9698/Vinc...   \n2      http://wikigallery.org/wiki/painting_132953/Vi...   \n3      http://wikigallery.org/wiki/painting_132642/Vi...   \n4      http://wikigallery.org/wiki/painting_94630/Vin...   \n...                                                  ...   \n10512  http://wikigallery.org/wiki/painting_300071/Ot...   \n10513  http://wikigallery.org/wiki/painting_300070/Ot...   \n10514  http://wikigallery.org/wiki/painting_285809/Ot...   \n10515  http://wikigallery.org/wiki/painting_368500/Ot...   \n10516  http://wikigallery.org/wiki/painting_378600/Ot...   \n\n                                               image_url  \\\n0      https://kuleuven-datathon-2023.s3.eu-central-1...   \n1      https://kuleuven-datathon-2023.s3.eu-central-1...   \n2      https://kuleuven-datathon-2023.s3.eu-central-1...   \n3      https://kuleuven-datathon-2023.s3.eu-central-1...   \n4      https://kuleuven-datathon-2023.s3.eu-central-1...   \n...                                                  ...   \n10512  https://kuleuven-datathon-2023.s3.eu-central-1...   \n10513  https://kuleuven-datathon-2023.s3.eu-central-1...   \n10514  https://kuleuven-datathon-2023.s3.eu-central-1...   \n10515  https://kuleuven-datathon-2023.s3.eu-central-1...   \n10516  https://kuleuven-datathon-2023.s3.eu-central-1...   \n\n                                                 summary  artist_id  \\\n0      Café Terrace at Night is an 1888 oil painting ...          0   \n1                                                    NaN          0   \n2                                                    NaN          0   \n3      Stoneywell is a National Trust property in Ulv...          0   \n4      Toms (stylized as TOMS) is a for-profit compan...          0   \n...                                                  ...        ...   \n10512  The List of painters in the Web Gallery of Art...        615   \n10513  Charles IV of Spain and His Family is an oil-o...        615   \n10514  The Italian Renaissance garden was a new style...        615   \n10515  Ethiopia is one of the oldest countries in Afr...        615   \n10516  The Church Fathers, Early Church Fathers, Chri...        615   \n\n                   name  start_date    end_date    year  \n0      Vincent Van Gogh  1853-03-30  1890-07-29  1878.0  \n1      Vincent Van Gogh  1853-03-30  1890-07-29  1878.0  \n2      Vincent Van Gogh  1853-03-30  1890-07-29  1878.0  \n3      Vincent Van Gogh  1853-03-30  1890-07-29  1878.0  \n4      Vincent Van Gogh  1853-03-30  1890-07-29  1878.0  \n...                 ...         ...         ...     ...  \n10512     Otto van Veen         NaN  1629-05-06     NaN  \n10513     Otto van Veen         NaN  1629-05-06     NaN  \n10514     Otto van Veen         NaN  1629-05-06     NaN  \n10515     Otto van Veen         NaN  1629-05-06     NaN  \n10516     Otto van Veen         NaN  1629-05-06     NaN  \n\n[10517 rows x 10 columns]",
      "text/html": "<div>\n<style scoped>\n    .dataframe tbody tr th:only-of-type {\n        vertical-align: middle;\n    }\n\n    .dataframe tbody tr th {\n        vertical-align: top;\n    }\n\n    .dataframe thead th {\n        text-align: right;\n    }\n</style>\n<table border=\"1\" class=\"dataframe\">\n  <thead>\n    <tr style=\"text-align: right;\">\n      <th></th>\n      <th>artwork_id</th>\n      <th>name_x</th>\n      <th>url</th>\n      <th>image_url</th>\n      <th>summary</th>\n      <th>artist_id</th>\n      <th>name</th>\n      <th>start_date</th>\n      <th>end_date</th>\n      <th>year</th>\n    </tr>\n  </thead>\n  <tbody>\n    <tr>\n      <th>0</th>\n      <td>0</td>\n      <td>Cafe Terrace on the Place du Forum</td>\n      <td>http://wikigallery.org/wiki/painting_133032/Vi...</td>\n      <td>https://kuleuven-datathon-2023.s3.eu-central-1...</td>\n      <td>Café Terrace at Night is an 1888 oil painting ...</td>\n      <td>0</td>\n      <td>Vincent Van Gogh</td>\n      <td>1853-03-30</td>\n      <td>1890-07-29</td>\n      <td>1878.0</td>\n    </tr>\n    <tr>\n      <th>1</th>\n      <td>1</td>\n      <td>Starry Night</td>\n      <td>http://wikigallery.org/wiki/painting_9698/Vinc...</td>\n      <td>https://kuleuven-datathon-2023.s3.eu-central-1...</td>\n      <td>NaN</td>\n      <td>0</td>\n      <td>Vincent Van Gogh</td>\n      <td>1853-03-30</td>\n      <td>1890-07-29</td>\n      <td>1878.0</td>\n    </tr>\n    <tr>\n      <th>2</th>\n      <td>2</td>\n      <td>A Digger</td>\n      <td>http://wikigallery.org/wiki/painting_132953/Vi...</td>\n      <td>https://kuleuven-datathon-2023.s3.eu-central-1...</td>\n      <td>NaN</td>\n      <td>0</td>\n      <td>Vincent Van Gogh</td>\n      <td>1853-03-30</td>\n      <td>1890-07-29</td>\n      <td>1878.0</td>\n    </tr>\n    <tr>\n      <th>3</th>\n      <td>3</td>\n      <td>A Group of Cottages</td>\n      <td>http://wikigallery.org/wiki/painting_132642/Vi...</td>\n      <td>https://kuleuven-datathon-2023.s3.eu-central-1...</td>\n      <td>Stoneywell is a National Trust property in Ulv...</td>\n      <td>0</td>\n      <td>Vincent Van Gogh</td>\n      <td>1853-03-30</td>\n      <td>1890-07-29</td>\n      <td>1878.0</td>\n    </tr>\n    <tr>\n      <th>4</th>\n      <td>4</td>\n      <td>A Pair of Shoes</td>\n      <td>http://wikigallery.org/wiki/painting_94630/Vin...</td>\n      <td>https://kuleuven-datathon-2023.s3.eu-central-1...</td>\n      <td>Toms (stylized as TOMS) is a for-profit compan...</td>\n      <td>0</td>\n      <td>Vincent Van Gogh</td>\n      <td>1853-03-30</td>\n      <td>1890-07-29</td>\n      <td>1878.0</td>\n    </tr>\n    <tr>\n      <th>...</th>\n      <td>...</td>\n      <td>...</td>\n      <td>...</td>\n      <td>...</td>\n      <td>...</td>\n      <td>...</td>\n      <td>...</td>\n      <td>...</td>\n      <td>...</td>\n      <td>...</td>\n    </tr>\n    <tr>\n      <th>10512</th>\n      <td>10515</td>\n      <td>Distribution of Herring and White Bread during...</td>\n      <td>http://wikigallery.org/wiki/painting_300071/Ot...</td>\n      <td>https://kuleuven-datathon-2023.s3.eu-central-1...</td>\n      <td>The List of painters in the Web Gallery of Art...</td>\n      <td>615</td>\n      <td>Otto van Veen</td>\n      <td>NaN</td>\n      <td>1629-05-06</td>\n      <td>NaN</td>\n    </tr>\n    <tr>\n      <th>10513</th>\n      <td>10516</td>\n      <td>The Artist Painting, Surrounded by his Family</td>\n      <td>http://wikigallery.org/wiki/painting_300070/Ot...</td>\n      <td>https://kuleuven-datathon-2023.s3.eu-central-1...</td>\n      <td>Charles IV of Spain and His Family is an oil-o...</td>\n      <td>615</td>\n      <td>Otto van Veen</td>\n      <td>NaN</td>\n      <td>1629-05-06</td>\n      <td>NaN</td>\n    </tr>\n    <tr>\n      <th>10514</th>\n      <td>10517</td>\n      <td>Hercules seated at the foot of a tree in a lan...</td>\n      <td>http://wikigallery.org/wiki/painting_285809/Ot...</td>\n      <td>https://kuleuven-datathon-2023.s3.eu-central-1...</td>\n      <td>The Italian Renaissance garden was a new style...</td>\n      <td>615</td>\n      <td>Otto van Veen</td>\n      <td>NaN</td>\n      <td>1629-05-06</td>\n      <td>NaN</td>\n    </tr>\n    <tr>\n      <th>10515</th>\n      <td>10518</td>\n      <td>St. Matthew Bringing Back To Life The Son Of T...</td>\n      <td>http://wikigallery.org/wiki/painting_368500/Ot...</td>\n      <td>https://kuleuven-datathon-2023.s3.eu-central-1...</td>\n      <td>Ethiopia is one of the oldest countries in Afr...</td>\n      <td>615</td>\n      <td>Otto van Veen</td>\n      <td>NaN</td>\n      <td>1629-05-06</td>\n      <td>NaN</td>\n    </tr>\n    <tr>\n      <th>10516</th>\n      <td>10519</td>\n      <td>The Four Fathers Of The Church</td>\n      <td>http://wikigallery.org/wiki/painting_378600/Ot...</td>\n      <td>https://kuleuven-datathon-2023.s3.eu-central-1...</td>\n      <td>The Church Fathers, Early Church Fathers, Chri...</td>\n      <td>615</td>\n      <td>Otto van Veen</td>\n      <td>NaN</td>\n      <td>1629-05-06</td>\n      <td>NaN</td>\n    </tr>\n  </tbody>\n</table>\n<p>10517 rows × 10 columns</p>\n</div>"
     },
     "execution_count": 117,
     "metadata": {},
     "output_type": "execute_result"
    }
   ],
   "source": [
    "artworks_date"
   ],
   "metadata": {
    "collapsed": false,
    "pycharm": {
     "name": "#%%\n"
    }
   }
  },
  {
   "cell_type": "markdown",
   "source": [
    "## country subcategory"
   ],
   "metadata": {
    "collapsed": false,
    "pycharm": {
     "name": "#%% md\n"
    }
   }
  },
  {
   "cell_type": "code",
   "execution_count": 177,
   "outputs": [],
   "source": [
    "dataset_dir='/Users/paulinarocha/PycharmProjects/datachallenge2023/datathlon-GPT/FilesCSVFormat/stratos_files/'\n",
    "place_artwork = pd.read_csv(dataset_dir+'place_artwork.csv')"
   ],
   "metadata": {
    "collapsed": false,
    "pycharm": {
     "name": "#%%\n"
    }
   }
  },
  {
   "cell_type": "code",
   "execution_count": 178,
   "outputs": [
    {
     "data": {
      "text/plain": "      Unnamed: 0  artwork_id  place_id  \\\n0              0         0.0     213.0   \n1              1         1.0     213.0   \n2              2         2.0     213.0   \n3              3         3.0     213.0   \n4              4         4.0     213.0   \n...          ...         ...       ...   \n6204        6204     10515.0     217.0   \n6205        6205     10516.0     217.0   \n6206        6206     10517.0     217.0   \n6207        6207     10518.0     217.0   \n6208        6208     10519.0     217.0   \n\n                                          painting_name      place_name  \n0                    Cafe Terrace on the Place du Forum     Netherlands  \n1                                          Starry Night     Netherlands  \n2                                              A Digger     Netherlands  \n3                                   A Group of Cottages     Netherlands  \n4                                       A Pair of Shoes     Netherlands  \n...                                                 ...             ...  \n6204  Distribution of Herring and White Bread during...  Dutch Republic  \n6205      The Artist Painting, Surrounded by his Family  Dutch Republic  \n6206  Hercules seated at the foot of a tree in a lan...  Dutch Republic  \n6207  St. Matthew Bringing Back To Life The Son Of T...  Dutch Republic  \n6208                     The Four Fathers Of The Church  Dutch Republic  \n\n[6209 rows x 5 columns]",
      "text/html": "<div>\n<style scoped>\n    .dataframe tbody tr th:only-of-type {\n        vertical-align: middle;\n    }\n\n    .dataframe tbody tr th {\n        vertical-align: top;\n    }\n\n    .dataframe thead th {\n        text-align: right;\n    }\n</style>\n<table border=\"1\" class=\"dataframe\">\n  <thead>\n    <tr style=\"text-align: right;\">\n      <th></th>\n      <th>Unnamed: 0</th>\n      <th>artwork_id</th>\n      <th>place_id</th>\n      <th>painting_name</th>\n      <th>place_name</th>\n    </tr>\n  </thead>\n  <tbody>\n    <tr>\n      <th>0</th>\n      <td>0</td>\n      <td>0.0</td>\n      <td>213.0</td>\n      <td>Cafe Terrace on the Place du Forum</td>\n      <td>Netherlands</td>\n    </tr>\n    <tr>\n      <th>1</th>\n      <td>1</td>\n      <td>1.0</td>\n      <td>213.0</td>\n      <td>Starry Night</td>\n      <td>Netherlands</td>\n    </tr>\n    <tr>\n      <th>2</th>\n      <td>2</td>\n      <td>2.0</td>\n      <td>213.0</td>\n      <td>A Digger</td>\n      <td>Netherlands</td>\n    </tr>\n    <tr>\n      <th>3</th>\n      <td>3</td>\n      <td>3.0</td>\n      <td>213.0</td>\n      <td>A Group of Cottages</td>\n      <td>Netherlands</td>\n    </tr>\n    <tr>\n      <th>4</th>\n      <td>4</td>\n      <td>4.0</td>\n      <td>213.0</td>\n      <td>A Pair of Shoes</td>\n      <td>Netherlands</td>\n    </tr>\n    <tr>\n      <th>...</th>\n      <td>...</td>\n      <td>...</td>\n      <td>...</td>\n      <td>...</td>\n      <td>...</td>\n    </tr>\n    <tr>\n      <th>6204</th>\n      <td>6204</td>\n      <td>10515.0</td>\n      <td>217.0</td>\n      <td>Distribution of Herring and White Bread during...</td>\n      <td>Dutch Republic</td>\n    </tr>\n    <tr>\n      <th>6205</th>\n      <td>6205</td>\n      <td>10516.0</td>\n      <td>217.0</td>\n      <td>The Artist Painting, Surrounded by his Family</td>\n      <td>Dutch Republic</td>\n    </tr>\n    <tr>\n      <th>6206</th>\n      <td>6206</td>\n      <td>10517.0</td>\n      <td>217.0</td>\n      <td>Hercules seated at the foot of a tree in a lan...</td>\n      <td>Dutch Republic</td>\n    </tr>\n    <tr>\n      <th>6207</th>\n      <td>6207</td>\n      <td>10518.0</td>\n      <td>217.0</td>\n      <td>St. Matthew Bringing Back To Life The Son Of T...</td>\n      <td>Dutch Republic</td>\n    </tr>\n    <tr>\n      <th>6208</th>\n      <td>6208</td>\n      <td>10519.0</td>\n      <td>217.0</td>\n      <td>The Four Fathers Of The Church</td>\n      <td>Dutch Republic</td>\n    </tr>\n  </tbody>\n</table>\n<p>6209 rows × 5 columns</p>\n</div>"
     },
     "execution_count": 178,
     "metadata": {},
     "output_type": "execute_result"
    }
   ],
   "source": [
    "artworks_date\n",
    "place_artwork"
   ],
   "metadata": {
    "collapsed": false,
    "pycharm": {
     "name": "#%%\n"
    }
   }
  },
  {
   "cell_type": "code",
   "execution_count": 179,
   "outputs": [
    {
     "data": {
      "text/plain": "(6209, 6)"
     },
     "execution_count": 179,
     "metadata": {},
     "output_type": "execute_result"
    }
   ],
   "source": [
    "place_subcategory = pd.merge(place_artwork,artworks_date[['artwork_id','year']], how= 'left', on='artwork_id')\n",
    "place_subcategory.shape"
   ],
   "metadata": {
    "collapsed": false,
    "pycharm": {
     "name": "#%%\n"
    }
   }
  },
  {
   "cell_type": "code",
   "execution_count": 184,
   "outputs": [
    {
     "ename": "KeyError",
     "evalue": "'(year,min)'",
     "output_type": "error",
     "traceback": [
      "\u001B[0;31m---------------------------------------------------------------------------\u001B[0m",
      "\u001B[0;31mKeyError\u001B[0m                                  Traceback (most recent call last)",
      "Input \u001B[0;32mIn [184]\u001B[0m, in \u001B[0;36m<cell line: 2>\u001B[0;34m()\u001B[0m\n\u001B[1;32m      1\u001B[0m place_dates\u001B[38;5;241m=\u001B[39m place_subcategory\u001B[38;5;241m.\u001B[39mgroupby(\u001B[38;5;124m'\u001B[39m\u001B[38;5;124mplace_name\u001B[39m\u001B[38;5;124m'\u001B[39m)\u001B[38;5;241m.\u001B[39magg({\u001B[38;5;124m'\u001B[39m\u001B[38;5;124myear\u001B[39m\u001B[38;5;124m'\u001B[39m:[\u001B[38;5;124m'\u001B[39m\u001B[38;5;124mmin\u001B[39m\u001B[38;5;124m'\u001B[39m,\u001B[38;5;124m'\u001B[39m\u001B[38;5;124mmax\u001B[39m\u001B[38;5;124m'\u001B[39m]})\n\u001B[0;32m----> 2\u001B[0m \u001B[43mplace_dates\u001B[49m\u001B[38;5;241;43m.\u001B[39;49m\u001B[43msort_values\u001B[49m\u001B[43m(\u001B[49m\u001B[43m[\u001B[49m\u001B[38;5;124;43m'\u001B[39;49m\u001B[38;5;124;43m(year,min)\u001B[39;49m\u001B[38;5;124;43m'\u001B[39;49m\u001B[43m]\u001B[49m\u001B[43m)\u001B[49m\n",
      "File \u001B[0;32m/opt/homebrew/Caskroom/miniforge/base/envs/master-ai/lib/python3.8/site-packages/pandas/util/_decorators.py:331\u001B[0m, in \u001B[0;36mdeprecate_nonkeyword_arguments.<locals>.decorate.<locals>.wrapper\u001B[0;34m(*args, **kwargs)\u001B[0m\n\u001B[1;32m    325\u001B[0m \u001B[38;5;28;01mif\u001B[39;00m \u001B[38;5;28mlen\u001B[39m(args) \u001B[38;5;241m>\u001B[39m num_allow_args:\n\u001B[1;32m    326\u001B[0m     warnings\u001B[38;5;241m.\u001B[39mwarn(\n\u001B[1;32m    327\u001B[0m         msg\u001B[38;5;241m.\u001B[39mformat(arguments\u001B[38;5;241m=\u001B[39m_format_argument_list(allow_args)),\n\u001B[1;32m    328\u001B[0m         \u001B[38;5;167;01mFutureWarning\u001B[39;00m,\n\u001B[1;32m    329\u001B[0m         stacklevel\u001B[38;5;241m=\u001B[39mfind_stack_level(),\n\u001B[1;32m    330\u001B[0m     )\n\u001B[0;32m--> 331\u001B[0m \u001B[38;5;28;01mreturn\u001B[39;00m \u001B[43mfunc\u001B[49m\u001B[43m(\u001B[49m\u001B[38;5;241;43m*\u001B[39;49m\u001B[43margs\u001B[49m\u001B[43m,\u001B[49m\u001B[43m \u001B[49m\u001B[38;5;241;43m*\u001B[39;49m\u001B[38;5;241;43m*\u001B[39;49m\u001B[43mkwargs\u001B[49m\u001B[43m)\u001B[49m\n",
      "File \u001B[0;32m/opt/homebrew/Caskroom/miniforge/base/envs/master-ai/lib/python3.8/site-packages/pandas/core/frame.py:6912\u001B[0m, in \u001B[0;36mDataFrame.sort_values\u001B[0;34m(self, by, axis, ascending, inplace, kind, na_position, ignore_index, key)\u001B[0m\n\u001B[1;32m   6908\u001B[0m \u001B[38;5;28;01melif\u001B[39;00m \u001B[38;5;28mlen\u001B[39m(by):\n\u001B[1;32m   6909\u001B[0m     \u001B[38;5;66;03m# len(by) == 1\u001B[39;00m\n\u001B[1;32m   6911\u001B[0m     by \u001B[38;5;241m=\u001B[39m by[\u001B[38;5;241m0\u001B[39m]\n\u001B[0;32m-> 6912\u001B[0m     k \u001B[38;5;241m=\u001B[39m \u001B[38;5;28;43mself\u001B[39;49m\u001B[38;5;241;43m.\u001B[39;49m\u001B[43m_get_label_or_level_values\u001B[49m\u001B[43m(\u001B[49m\u001B[43mby\u001B[49m\u001B[43m,\u001B[49m\u001B[43m \u001B[49m\u001B[43maxis\u001B[49m\u001B[38;5;241;43m=\u001B[39;49m\u001B[43maxis\u001B[49m\u001B[43m)\u001B[49m\n\u001B[1;32m   6914\u001B[0m     \u001B[38;5;66;03m# need to rewrap column in Series to apply key function\u001B[39;00m\n\u001B[1;32m   6915\u001B[0m     \u001B[38;5;28;01mif\u001B[39;00m key \u001B[38;5;129;01mis\u001B[39;00m \u001B[38;5;129;01mnot\u001B[39;00m \u001B[38;5;28;01mNone\u001B[39;00m:\n\u001B[1;32m   6916\u001B[0m         \u001B[38;5;66;03m# error: Incompatible types in assignment (expression has type\u001B[39;00m\n\u001B[1;32m   6917\u001B[0m         \u001B[38;5;66;03m# \"Series\", variable has type \"ndarray\")\u001B[39;00m\n",
      "File \u001B[0;32m/opt/homebrew/Caskroom/miniforge/base/envs/master-ai/lib/python3.8/site-packages/pandas/core/generic.py:1850\u001B[0m, in \u001B[0;36mNDFrame._get_label_or_level_values\u001B[0;34m(self, key, axis)\u001B[0m\n\u001B[1;32m   1844\u001B[0m     values \u001B[38;5;241m=\u001B[39m (\n\u001B[1;32m   1845\u001B[0m         \u001B[38;5;28mself\u001B[39m\u001B[38;5;241m.\u001B[39maxes[axis]\n\u001B[1;32m   1846\u001B[0m         \u001B[38;5;241m.\u001B[39mget_level_values(key)  \u001B[38;5;66;03m# type: ignore[assignment]\u001B[39;00m\n\u001B[1;32m   1847\u001B[0m         \u001B[38;5;241m.\u001B[39m_values\n\u001B[1;32m   1848\u001B[0m     )\n\u001B[1;32m   1849\u001B[0m \u001B[38;5;28;01melse\u001B[39;00m:\n\u001B[0;32m-> 1850\u001B[0m     \u001B[38;5;28;01mraise\u001B[39;00m \u001B[38;5;167;01mKeyError\u001B[39;00m(key)\n\u001B[1;32m   1852\u001B[0m \u001B[38;5;66;03m# Check for duplicates\u001B[39;00m\n\u001B[1;32m   1853\u001B[0m \u001B[38;5;28;01mif\u001B[39;00m values\u001B[38;5;241m.\u001B[39mndim \u001B[38;5;241m>\u001B[39m \u001B[38;5;241m1\u001B[39m:\n",
      "\u001B[0;31mKeyError\u001B[0m: '(year,min)'"
     ]
    }
   ],
   "source": [
    "place_dates= place_subcategory.groupby('place_name').agg({'year':['min','max']})"
   ],
   "metadata": {
    "collapsed": false,
    "pycharm": {
     "name": "#%%\n"
    }
   }
  },
  {
   "cell_type": "code",
   "execution_count": 181,
   "outputs": [
    {
     "name": "stderr",
     "output_type": "stream",
     "text": [
      "/var/folders/sr/bvm__4ys3_gbq3c9bdfnwqf80000gn/T/ipykernel_2935/721518361.py:1: FutureWarning: merging between different levels is deprecated and will be removed in a future version. (1 levels on the left, 2 on the right)\n",
      "  place_subcategory = pd.merge(place_subcategory,place_dates, how= 'left', on='place_name')\n"
     ]
    }
   ],
   "source": [
    "place_subcategory = pd.merge(place_subcategory,place_dates, how= 'left', on='place_name')"
   ],
   "metadata": {
    "collapsed": false,
    "pycharm": {
     "name": "#%%\n"
    }
   }
  },
  {
   "cell_type": "code",
   "execution_count": 185,
   "outputs": [],
   "source": [
    "place_subcategory.drop_duplicates(subset=['place_name'], keep='first', inplace=True, ignore_index=True)"
   ],
   "metadata": {
    "collapsed": false,
    "pycharm": {
     "name": "#%%\n"
    }
   }
  },
  {
   "cell_type": "code",
   "execution_count": 190,
   "outputs": [
    {
     "data": {
      "text/plain": "     Unnamed: 0  artwork_id  place_id  \\\n0             0         0.0     213.0   \n1            25        25.0     214.0   \n2            75        75.0     215.0   \n3           100       100.0     216.0   \n4           125       150.0     217.0   \n..          ...         ...       ...   \n140        5943     10037.0     336.0   \n141        6064     10498.0     338.0   \n142        6089     10428.0     339.0   \n143        6161     10108.0     340.0   \n144        6186     10283.0     341.0   \n\n                                         painting_name         place_name  \\\n0                   Cafe Terrace on the Place du Forum        Netherlands   \n1                       Two Sisters Aka On The Terrace             France   \n2                                   Mona Lisa Monalisa           Colombia   \n3                                        Women Bathing        Haute-Saône   \n4    The Return of the Prodigal Son (detail -4) c. ...     Dutch Republic   \n..                                                 ...                ...   \n140                                Neptune and Amymone     Duchy of Savoy   \n141                                             Yvonne     Seine-et-Marne   \n142                       Princess Louisa Maria Stuart          France[1]   \n143                                        Crucifixion  Kingdom of Sicily   \n144                            Crossing of the Red Sea             Italy)   \n\n       year  (year, min)  (year, max)  \n0    1878.0       1641.0       1878.0  \n1    1866.0       1637.0       1972.0  \n2    1957.0       1957.0       1957.0  \n3    1849.0       1849.0       1849.0  \n4    1631.0       1631.0       1658.0  \n..      ...          ...          ...  \n140     NaN          NaN          NaN  \n141  1861.0       1861.0       1861.0  \n142     NaN          NaN          NaN  \n143     NaN          NaN          NaN  \n144     NaN          NaN          NaN  \n\n[145 rows x 8 columns]",
      "text/html": "<div>\n<style scoped>\n    .dataframe tbody tr th:only-of-type {\n        vertical-align: middle;\n    }\n\n    .dataframe tbody tr th {\n        vertical-align: top;\n    }\n\n    .dataframe thead th {\n        text-align: right;\n    }\n</style>\n<table border=\"1\" class=\"dataframe\">\n  <thead>\n    <tr style=\"text-align: right;\">\n      <th></th>\n      <th>Unnamed: 0</th>\n      <th>artwork_id</th>\n      <th>place_id</th>\n      <th>painting_name</th>\n      <th>place_name</th>\n      <th>year</th>\n      <th>(year, min)</th>\n      <th>(year, max)</th>\n    </tr>\n  </thead>\n  <tbody>\n    <tr>\n      <th>0</th>\n      <td>0</td>\n      <td>0.0</td>\n      <td>213.0</td>\n      <td>Cafe Terrace on the Place du Forum</td>\n      <td>Netherlands</td>\n      <td>1878.0</td>\n      <td>1641.0</td>\n      <td>1878.0</td>\n    </tr>\n    <tr>\n      <th>1</th>\n      <td>25</td>\n      <td>25.0</td>\n      <td>214.0</td>\n      <td>Two Sisters Aka On The Terrace</td>\n      <td>France</td>\n      <td>1866.0</td>\n      <td>1637.0</td>\n      <td>1972.0</td>\n    </tr>\n    <tr>\n      <th>2</th>\n      <td>75</td>\n      <td>75.0</td>\n      <td>215.0</td>\n      <td>Mona Lisa Monalisa</td>\n      <td>Colombia</td>\n      <td>1957.0</td>\n      <td>1957.0</td>\n      <td>1957.0</td>\n    </tr>\n    <tr>\n      <th>3</th>\n      <td>100</td>\n      <td>100.0</td>\n      <td>216.0</td>\n      <td>Women Bathing</td>\n      <td>Haute-Saône</td>\n      <td>1849.0</td>\n      <td>1849.0</td>\n      <td>1849.0</td>\n    </tr>\n    <tr>\n      <th>4</th>\n      <td>125</td>\n      <td>150.0</td>\n      <td>217.0</td>\n      <td>The Return of the Prodigal Son (detail -4) c. ...</td>\n      <td>Dutch Republic</td>\n      <td>1631.0</td>\n      <td>1631.0</td>\n      <td>1658.0</td>\n    </tr>\n    <tr>\n      <th>...</th>\n      <td>...</td>\n      <td>...</td>\n      <td>...</td>\n      <td>...</td>\n      <td>...</td>\n      <td>...</td>\n      <td>...</td>\n      <td>...</td>\n    </tr>\n    <tr>\n      <th>140</th>\n      <td>5943</td>\n      <td>10037.0</td>\n      <td>336.0</td>\n      <td>Neptune and Amymone</td>\n      <td>Duchy of Savoy</td>\n      <td>NaN</td>\n      <td>NaN</td>\n      <td>NaN</td>\n    </tr>\n    <tr>\n      <th>141</th>\n      <td>6064</td>\n      <td>10498.0</td>\n      <td>338.0</td>\n      <td>Yvonne</td>\n      <td>Seine-et-Marne</td>\n      <td>1861.0</td>\n      <td>1861.0</td>\n      <td>1861.0</td>\n    </tr>\n    <tr>\n      <th>142</th>\n      <td>6089</td>\n      <td>10428.0</td>\n      <td>339.0</td>\n      <td>Princess Louisa Maria Stuart</td>\n      <td>France[1]</td>\n      <td>NaN</td>\n      <td>NaN</td>\n      <td>NaN</td>\n    </tr>\n    <tr>\n      <th>143</th>\n      <td>6161</td>\n      <td>10108.0</td>\n      <td>340.0</td>\n      <td>Crucifixion</td>\n      <td>Kingdom of Sicily</td>\n      <td>NaN</td>\n      <td>NaN</td>\n      <td>NaN</td>\n    </tr>\n    <tr>\n      <th>144</th>\n      <td>6186</td>\n      <td>10283.0</td>\n      <td>341.0</td>\n      <td>Crossing of the Red Sea</td>\n      <td>Italy)</td>\n      <td>NaN</td>\n      <td>NaN</td>\n      <td>NaN</td>\n    </tr>\n  </tbody>\n</table>\n<p>145 rows × 8 columns</p>\n</div>"
     },
     "execution_count": 190,
     "metadata": {},
     "output_type": "execute_result"
    }
   ],
   "source": [
    "place_subcategory"
   ],
   "metadata": {
    "collapsed": false,
    "pycharm": {
     "name": "#%%\n"
    }
   }
  },
  {
   "cell_type": "code",
   "execution_count": 191,
   "outputs": [],
   "source": [
    "place_subcategory.rename({'place_name': 'name'}, axis=1, inplace=True)\n",
    "place_subcategory.drop(['artwork_id', 'Unnamed: 0', 'painting_name', 'artwork_id', 'year'], axis=1, inplace=True)\n",
    "#place_subcategory.rename({'(year, min)': 'start_date', '(year, max)': 'end_date'}, axis=1, inplace=True)"
   ],
   "metadata": {
    "collapsed": false,
    "pycharm": {
     "name": "#%%\n"
    }
   }
  },
  {
   "cell_type": "code",
   "execution_count": 193,
   "outputs": [],
   "source": [
    "place_subcategory['category_id'] = 3"
   ],
   "metadata": {
    "collapsed": false,
    "pycharm": {
     "name": "#%%\n"
    }
   }
  },
  {
   "cell_type": "code",
   "execution_count": 195,
   "outputs": [],
   "source": [
    "place_subcategory.to_csv('place_subcategory.csv')"
   ],
   "metadata": {
    "collapsed": false,
    "pycharm": {
     "name": "#%%\n"
    }
   }
  },
  {
   "cell_type": "markdown",
   "source": [
    "## movement subcategory"
   ],
   "metadata": {
    "collapsed": false,
    "pycharm": {
     "name": "#%% md\n"
    }
   }
  },
  {
   "cell_type": "code",
   "execution_count": 124,
   "outputs": [],
   "source": [
    "#movement_subcategory = artworks_date.copy()\n"
   ],
   "metadata": {
    "collapsed": false,
    "pycharm": {
     "name": "#%%\n"
    }
   }
  },
  {
   "cell_type": "code",
   "execution_count": 142,
   "outputs": [],
   "source": [
    "event_movements = pd.read_csv(dataset_dir+ 'events_movements.csv')"
   ],
   "metadata": {
    "collapsed": false,
    "pycharm": {
     "name": "#%%\n"
    }
   }
  },
  {
   "cell_type": "code",
   "execution_count": 143,
   "outputs": [],
   "source": [
    "#movement_subcategory\n",
    "movements = pd.read_csv(dataset_dir+'Movement.csv')\n",
    "movements\n",
    "movement_subcategory = pd.merge(event_movements,movements,how= 'left', left_on= 'Name', right_on='name')"
   ],
   "metadata": {
    "collapsed": false,
    "pycharm": {
     "name": "#%%\n"
    }
   }
  },
  {
   "cell_type": "code",
   "execution_count": 151,
   "outputs": [
    {
     "data": {
      "text/plain": "                          Name  start_date  end_date  \\\n0                      Baroque        1590      1760   \n1                Impressionism        1850      1895   \n2                  Renaissance        1420      1520   \n3                      Realism        1850      1925   \n4                  Romanticism        1790      1850   \n5           Post-Impressionism        1885      1910   \n6                    Symbolism        1890      1920   \n7                  Orientalism        1720      1900   \n8                Neoclassicism        1770      1840   \n9                Expressionism        1890      1914   \n10         Hudson River School        1825      1875   \n11  Pre-Raphaelite Brotherhood        1848      1900   \n12                 Art Nouveau        1890      1910   \n13                   Mannerism        1520      1600   \n14            Dutch Golden Age        1588      1672   \n15                    Luminism        1850      1870   \n16                    Tonalism        1880      1915   \n17                  Surrealism        1920      1930   \n18           Neo-Impressionism        1886      1906   \n19                   Animalier        1790      1880   \n20                      Gothic        1100      1500   \n\n                                              caption  movement_id  \\\n0   The progression of art celebrating the lives o...           25   \n1    Impressionist art closed the book on classica...           44   \n2   This era continued to focus on the individual ...           12   \n3   In contrast to the beautiful and deeply emotio...           27   \n4   You can see from the dates that this art era o...           15   \n5   They concentrated on subjective visions and sy...           43   \n6   Artists became preoccupied with the representa...            4   \n7   Orientalism is the imitation or depiction of a...           52   \n8   Neoclassicism took inspiration from classic Ro...           23   \n9   Expressionism originated in Germany and is int...           31   \n10  Movement embodied by a group of landscape pain...           16   \n11  The group sought a return to the abundant deta...            1   \n12  The Art Nouveau movement used soft, curved lin...           14   \n13  Relative over-exaggeration characterized the m...           19   \n14  Art took on independent directions, developing...           32   \n15  Characterized by effects of light in landscape...           30   \n16  Artistic style that emerged in the 1880s when ...            3   \n17  Surrealism is fundamentally psychoanalytical, ...           40   \n18  Movement given to the post-impressionist work ...           53   \n19  Artistic genre and school of artists who focus...           50   \n20  Christianity lay at the heart of the tensions ...           22   \n\n    category_id  \n0             4  \n1             4  \n2             4  \n3             4  \n4             4  \n5             4  \n6             4  \n7             4  \n8             4  \n9             4  \n10            4  \n11            4  \n12            4  \n13            4  \n14            4  \n15            4  \n16            4  \n17            4  \n18            4  \n19            4  \n20            4  ",
      "text/html": "<div>\n<style scoped>\n    .dataframe tbody tr th:only-of-type {\n        vertical-align: middle;\n    }\n\n    .dataframe tbody tr th {\n        vertical-align: top;\n    }\n\n    .dataframe thead th {\n        text-align: right;\n    }\n</style>\n<table border=\"1\" class=\"dataframe\">\n  <thead>\n    <tr style=\"text-align: right;\">\n      <th></th>\n      <th>Name</th>\n      <th>start_date</th>\n      <th>end_date</th>\n      <th>caption</th>\n      <th>movement_id</th>\n      <th>category_id</th>\n    </tr>\n  </thead>\n  <tbody>\n    <tr>\n      <th>0</th>\n      <td>Baroque</td>\n      <td>1590</td>\n      <td>1760</td>\n      <td>The progression of art celebrating the lives o...</td>\n      <td>25</td>\n      <td>4</td>\n    </tr>\n    <tr>\n      <th>1</th>\n      <td>Impressionism</td>\n      <td>1850</td>\n      <td>1895</td>\n      <td>Impressionist art closed the book on classica...</td>\n      <td>44</td>\n      <td>4</td>\n    </tr>\n    <tr>\n      <th>2</th>\n      <td>Renaissance</td>\n      <td>1420</td>\n      <td>1520</td>\n      <td>This era continued to focus on the individual ...</td>\n      <td>12</td>\n      <td>4</td>\n    </tr>\n    <tr>\n      <th>3</th>\n      <td>Realism</td>\n      <td>1850</td>\n      <td>1925</td>\n      <td>In contrast to the beautiful and deeply emotio...</td>\n      <td>27</td>\n      <td>4</td>\n    </tr>\n    <tr>\n      <th>4</th>\n      <td>Romanticism</td>\n      <td>1790</td>\n      <td>1850</td>\n      <td>You can see from the dates that this art era o...</td>\n      <td>15</td>\n      <td>4</td>\n    </tr>\n    <tr>\n      <th>5</th>\n      <td>Post-Impressionism</td>\n      <td>1885</td>\n      <td>1910</td>\n      <td>They concentrated on subjective visions and sy...</td>\n      <td>43</td>\n      <td>4</td>\n    </tr>\n    <tr>\n      <th>6</th>\n      <td>Symbolism</td>\n      <td>1890</td>\n      <td>1920</td>\n      <td>Artists became preoccupied with the representa...</td>\n      <td>4</td>\n      <td>4</td>\n    </tr>\n    <tr>\n      <th>7</th>\n      <td>Orientalism</td>\n      <td>1720</td>\n      <td>1900</td>\n      <td>Orientalism is the imitation or depiction of a...</td>\n      <td>52</td>\n      <td>4</td>\n    </tr>\n    <tr>\n      <th>8</th>\n      <td>Neoclassicism</td>\n      <td>1770</td>\n      <td>1840</td>\n      <td>Neoclassicism took inspiration from classic Ro...</td>\n      <td>23</td>\n      <td>4</td>\n    </tr>\n    <tr>\n      <th>9</th>\n      <td>Expressionism</td>\n      <td>1890</td>\n      <td>1914</td>\n      <td>Expressionism originated in Germany and is int...</td>\n      <td>31</td>\n      <td>4</td>\n    </tr>\n    <tr>\n      <th>10</th>\n      <td>Hudson River School</td>\n      <td>1825</td>\n      <td>1875</td>\n      <td>Movement embodied by a group of landscape pain...</td>\n      <td>16</td>\n      <td>4</td>\n    </tr>\n    <tr>\n      <th>11</th>\n      <td>Pre-Raphaelite Brotherhood</td>\n      <td>1848</td>\n      <td>1900</td>\n      <td>The group sought a return to the abundant deta...</td>\n      <td>1</td>\n      <td>4</td>\n    </tr>\n    <tr>\n      <th>12</th>\n      <td>Art Nouveau</td>\n      <td>1890</td>\n      <td>1910</td>\n      <td>The Art Nouveau movement used soft, curved lin...</td>\n      <td>14</td>\n      <td>4</td>\n    </tr>\n    <tr>\n      <th>13</th>\n      <td>Mannerism</td>\n      <td>1520</td>\n      <td>1600</td>\n      <td>Relative over-exaggeration characterized the m...</td>\n      <td>19</td>\n      <td>4</td>\n    </tr>\n    <tr>\n      <th>14</th>\n      <td>Dutch Golden Age</td>\n      <td>1588</td>\n      <td>1672</td>\n      <td>Art took on independent directions, developing...</td>\n      <td>32</td>\n      <td>4</td>\n    </tr>\n    <tr>\n      <th>15</th>\n      <td>Luminism</td>\n      <td>1850</td>\n      <td>1870</td>\n      <td>Characterized by effects of light in landscape...</td>\n      <td>30</td>\n      <td>4</td>\n    </tr>\n    <tr>\n      <th>16</th>\n      <td>Tonalism</td>\n      <td>1880</td>\n      <td>1915</td>\n      <td>Artistic style that emerged in the 1880s when ...</td>\n      <td>3</td>\n      <td>4</td>\n    </tr>\n    <tr>\n      <th>17</th>\n      <td>Surrealism</td>\n      <td>1920</td>\n      <td>1930</td>\n      <td>Surrealism is fundamentally psychoanalytical, ...</td>\n      <td>40</td>\n      <td>4</td>\n    </tr>\n    <tr>\n      <th>18</th>\n      <td>Neo-Impressionism</td>\n      <td>1886</td>\n      <td>1906</td>\n      <td>Movement given to the post-impressionist work ...</td>\n      <td>53</td>\n      <td>4</td>\n    </tr>\n    <tr>\n      <th>19</th>\n      <td>Animalier</td>\n      <td>1790</td>\n      <td>1880</td>\n      <td>Artistic genre and school of artists who focus...</td>\n      <td>50</td>\n      <td>4</td>\n    </tr>\n    <tr>\n      <th>20</th>\n      <td>Gothic</td>\n      <td>1100</td>\n      <td>1500</td>\n      <td>Christianity lay at the heart of the tensions ...</td>\n      <td>22</td>\n      <td>4</td>\n    </tr>\n  </tbody>\n</table>\n</div>"
     },
     "execution_count": 151,
     "metadata": {},
     "output_type": "execute_result"
    }
   ],
   "source": [
    "movement_subcategory"
   ],
   "metadata": {
    "collapsed": false,
    "pycharm": {
     "name": "#%%\n"
    }
   }
  },
  {
   "cell_type": "code",
   "execution_count": 145,
   "outputs": [],
   "source": [
    "movement_subcategory.rename({'Start': 'start_date','End': 'end_date', 'Description':'caption', 'id': 'movement_id' }, inplace=True, errors=\"raise\",axis=1)"
   ],
   "metadata": {
    "collapsed": false,
    "pycharm": {
     "name": "#%%\n"
    }
   }
  },
  {
   "cell_type": "code",
   "execution_count": 148,
   "outputs": [],
   "source": [
    "movement_subcategory.drop(['name','description'],axis =1, inplace=True)"
   ],
   "metadata": {
    "collapsed": false,
    "pycharm": {
     "name": "#%%\n"
    }
   }
  },
  {
   "cell_type": "code",
   "execution_count": 150,
   "outputs": [],
   "source": [
    "movement_subcategory['category_id'] = 4"
   ],
   "metadata": {
    "collapsed": false,
    "pycharm": {
     "name": "#%%\n"
    }
   }
  },
  {
   "cell_type": "code",
   "execution_count": 152,
   "outputs": [],
   "source": [
    "movement_subcategory.to_csv('movement_subcategory.csv')"
   ],
   "metadata": {
    "collapsed": false,
    "pycharm": {
     "name": "#%%\n"
    }
   }
  },
  {
   "cell_type": "markdown",
   "source": [
    "## artist subcategory"
   ],
   "metadata": {
    "collapsed": false,
    "pycharm": {
     "name": "#%% md\n"
    }
   }
  },
  {
   "cell_type": "code",
   "execution_count": 118,
   "outputs": [],
   "source": [
    "artist_subcategory= artworks_date.copy()"
   ],
   "metadata": {
    "collapsed": false,
    "pycharm": {
     "name": "#%%\n"
    }
   }
  },
  {
   "cell_type": "code",
   "execution_count": 119,
   "outputs": [],
   "source": [
    "artist_subcategory['category_id']= 1\n",
    "artist_subcategory=pd.merge(artist_subcategory,artists_pictures[['id','url']], how='left', left_on=['artist_id'], right_on=['id'])"
   ],
   "metadata": {
    "collapsed": false,
    "pycharm": {
     "name": "#%%\n"
    }
   }
  },
  {
   "cell_type": "code",
   "execution_count": 168,
   "outputs": [
    {
     "data": {
      "text/plain": "     artist_id                   name  start_date    end_date  category_id  \\\n0            0       Vincent Van Gogh  1853-03-30  1890-07-29            1   \n1            1  Pierre Auguste Renoir  1841-02-25  1919-12-03            1   \n2            2     Claude Oscar Monet  1840-11-14  1926-12-05            1   \n3            3        Fernando Botero  1932-04-19         NaN            1   \n4            4       Jean-Léon Gérôme  1824-05-11  1904-01-10            1   \n..         ...                    ...         ...         ...          ...   \n605        585   Pierre-Jacques Cazes         NaN         NaN            1   \n606        584       Simone Peterzano         NaN         NaN            1   \n607        591          Claude Gillot         NaN         NaN            1   \n608        603  Jules Joseph Lefebvre  1836-03-14  1911-02-24            1   \n609        615          Otto van Veen         NaN  1629-05-06            1   \n\n                                           picture_url  \n0    https://kuleuven-datathon-2023.s3.eu-central-1...  \n1    https://kuleuven-datathon-2023.s3.eu-central-1...  \n2    https://kuleuven-datathon-2023.s3.eu-central-1...  \n3    https://kuleuven-datathon-2023.s3.eu-central-1...  \n4    https://kuleuven-datathon-2023.s3.eu-central-1...  \n..                                                 ...  \n605                                                NaN  \n606  https://kuleuven-datathon-2023.s3.eu-central-1...  \n607                                                NaN  \n608  https://kuleuven-datathon-2023.s3.eu-central-1...  \n609  https://kuleuven-datathon-2023.s3.eu-central-1...  \n\n[610 rows x 6 columns]",
      "text/html": "<div>\n<style scoped>\n    .dataframe tbody tr th:only-of-type {\n        vertical-align: middle;\n    }\n\n    .dataframe tbody tr th {\n        vertical-align: top;\n    }\n\n    .dataframe thead th {\n        text-align: right;\n    }\n</style>\n<table border=\"1\" class=\"dataframe\">\n  <thead>\n    <tr style=\"text-align: right;\">\n      <th></th>\n      <th>artist_id</th>\n      <th>name</th>\n      <th>start_date</th>\n      <th>end_date</th>\n      <th>category_id</th>\n      <th>picture_url</th>\n    </tr>\n  </thead>\n  <tbody>\n    <tr>\n      <th>0</th>\n      <td>0</td>\n      <td>Vincent Van Gogh</td>\n      <td>1853-03-30</td>\n      <td>1890-07-29</td>\n      <td>1</td>\n      <td>https://kuleuven-datathon-2023.s3.eu-central-1...</td>\n    </tr>\n    <tr>\n      <th>1</th>\n      <td>1</td>\n      <td>Pierre Auguste Renoir</td>\n      <td>1841-02-25</td>\n      <td>1919-12-03</td>\n      <td>1</td>\n      <td>https://kuleuven-datathon-2023.s3.eu-central-1...</td>\n    </tr>\n    <tr>\n      <th>2</th>\n      <td>2</td>\n      <td>Claude Oscar Monet</td>\n      <td>1840-11-14</td>\n      <td>1926-12-05</td>\n      <td>1</td>\n      <td>https://kuleuven-datathon-2023.s3.eu-central-1...</td>\n    </tr>\n    <tr>\n      <th>3</th>\n      <td>3</td>\n      <td>Fernando Botero</td>\n      <td>1932-04-19</td>\n      <td>NaN</td>\n      <td>1</td>\n      <td>https://kuleuven-datathon-2023.s3.eu-central-1...</td>\n    </tr>\n    <tr>\n      <th>4</th>\n      <td>4</td>\n      <td>Jean-Léon Gérôme</td>\n      <td>1824-05-11</td>\n      <td>1904-01-10</td>\n      <td>1</td>\n      <td>https://kuleuven-datathon-2023.s3.eu-central-1...</td>\n    </tr>\n    <tr>\n      <th>...</th>\n      <td>...</td>\n      <td>...</td>\n      <td>...</td>\n      <td>...</td>\n      <td>...</td>\n      <td>...</td>\n    </tr>\n    <tr>\n      <th>605</th>\n      <td>585</td>\n      <td>Pierre-Jacques Cazes</td>\n      <td>NaN</td>\n      <td>NaN</td>\n      <td>1</td>\n      <td>NaN</td>\n    </tr>\n    <tr>\n      <th>606</th>\n      <td>584</td>\n      <td>Simone Peterzano</td>\n      <td>NaN</td>\n      <td>NaN</td>\n      <td>1</td>\n      <td>https://kuleuven-datathon-2023.s3.eu-central-1...</td>\n    </tr>\n    <tr>\n      <th>607</th>\n      <td>591</td>\n      <td>Claude Gillot</td>\n      <td>NaN</td>\n      <td>NaN</td>\n      <td>1</td>\n      <td>NaN</td>\n    </tr>\n    <tr>\n      <th>608</th>\n      <td>603</td>\n      <td>Jules Joseph Lefebvre</td>\n      <td>1836-03-14</td>\n      <td>1911-02-24</td>\n      <td>1</td>\n      <td>https://kuleuven-datathon-2023.s3.eu-central-1...</td>\n    </tr>\n    <tr>\n      <th>609</th>\n      <td>615</td>\n      <td>Otto van Veen</td>\n      <td>NaN</td>\n      <td>1629-05-06</td>\n      <td>1</td>\n      <td>https://kuleuven-datathon-2023.s3.eu-central-1...</td>\n    </tr>\n  </tbody>\n</table>\n<p>610 rows × 6 columns</p>\n</div>"
     },
     "execution_count": 168,
     "metadata": {},
     "output_type": "execute_result"
    }
   ],
   "source": [
    "artist_subcategory\n"
   ],
   "metadata": {
    "collapsed": false,
    "pycharm": {
     "name": "#%%\n"
    }
   }
  },
  {
   "cell_type": "code",
   "execution_count": 121,
   "outputs": [],
   "source": [
    "artist_subcategory.drop(['artwork_id','name_x', 'url_x','image_url','summary','year','id'],axis=1,inplace=True)\n",
    "artist_subcategory.rename({'url_y': 'picture_url' }, inplace=True, errors=\"raise\",axis=1)"
   ],
   "metadata": {
    "collapsed": false,
    "pycharm": {
     "name": "#%%\n"
    }
   }
  },
  {
   "cell_type": "code",
   "execution_count": 165,
   "outputs": [],
   "source": [
    "artist_subcategory\n",
    "artist_subcategory.drop_duplicates(subset=['name'], keep='first', inplace=True, ignore_index=True)"
   ],
   "metadata": {
    "collapsed": false,
    "pycharm": {
     "name": "#%%\n"
    }
   }
  },
  {
   "cell_type": "code",
   "execution_count": 171,
   "outputs": [],
   "source": [
    "# saving the new dataframe with artworks years\n",
    "artist_subcategory.to_csv('artist_subcategory2.csv')"
   ],
   "metadata": {
    "collapsed": false,
    "pycharm": {
     "name": "#%%\n"
    }
   }
  },
  {
   "cell_type": "markdown",
   "source": [
    "## Artwork"
   ],
   "metadata": {
    "collapsed": false,
    "pycharm": {
     "name": "#%% md\n"
    }
   }
  },
  {
   "cell_type": "code",
   "execution_count": 198,
   "outputs": [],
   "source": [
    "dataset_dir='/Users/paulinarocha/PycharmProjects/datachallenge2023/datathlon-GPT/FilesCSVFormat/stratos_files/'\n",
    "artwork_stratos = pd.read_csv(dataset_dir+'movement_artist_artwork_2.csv')\n",
    "#artwork_century = pd.read_csv(dataset_dir+'artwork_century.csv')"
   ],
   "metadata": {
    "collapsed": false,
    "pycharm": {
     "name": "#%%\n"
    }
   }
  },
  {
   "cell_type": "markdown",
   "source": [],
   "metadata": {
    "collapsed": false,
    "pycharm": {
     "name": "#%% md\n"
    }
   }
  },
  {
   "cell_type": "code",
   "execution_count": 199,
   "outputs": [
    {
     "data": {
      "text/plain": "       Unnamed: 0  artist_id  artwork_id       artist_name  \\\n0               0          0         0.0  Vincent Van Gogh   \n1               1          0         1.0  Vincent Van Gogh   \n2               2          0         2.0  Vincent Van Gogh   \n3               3          0         3.0  Vincent Van Gogh   \n4               4          0         4.0  Vincent Van Gogh   \n...           ...        ...         ...               ...   \n11929       11929        615     10515.0     Otto van Veen   \n11930       11930        615     10516.0     Otto van Veen   \n11931       11931        615     10517.0     Otto van Veen   \n11932       11932        615     10518.0     Otto van Veen   \n11933       11933        615     10519.0     Otto van Veen   \n\n                                           painting_name  movement_id  \\\n0                     Cafe Terrace on the Place du Forum         43.0   \n1                                           Starry Night         43.0   \n2                                               A Digger         43.0   \n3                                    A Group of Cottages         43.0   \n4                                        A Pair of Shoes         43.0   \n...                                                  ...          ...   \n11929  Distribution of Herring and White Bread during...          NaN   \n11930      The Artist Painting, Surrounded by his Family          NaN   \n11931  Hercules seated at the foot of a tree in a lan...          NaN   \n11932  St. Matthew Bringing Back To Life The Son Of T...          NaN   \n11933                     The Four Fathers Of The Church          NaN   \n\n                     name  \n0      Post-Impressionism  \n1      Post-Impressionism  \n2      Post-Impressionism  \n3      Post-Impressionism  \n4      Post-Impressionism  \n...                   ...  \n11929                 NaN  \n11930                 NaN  \n11931                 NaN  \n11932                 NaN  \n11933                 NaN  \n\n[11934 rows x 7 columns]",
      "text/html": "<div>\n<style scoped>\n    .dataframe tbody tr th:only-of-type {\n        vertical-align: middle;\n    }\n\n    .dataframe tbody tr th {\n        vertical-align: top;\n    }\n\n    .dataframe thead th {\n        text-align: right;\n    }\n</style>\n<table border=\"1\" class=\"dataframe\">\n  <thead>\n    <tr style=\"text-align: right;\">\n      <th></th>\n      <th>Unnamed: 0</th>\n      <th>artist_id</th>\n      <th>artwork_id</th>\n      <th>artist_name</th>\n      <th>painting_name</th>\n      <th>movement_id</th>\n      <th>name</th>\n    </tr>\n  </thead>\n  <tbody>\n    <tr>\n      <th>0</th>\n      <td>0</td>\n      <td>0</td>\n      <td>0.0</td>\n      <td>Vincent Van Gogh</td>\n      <td>Cafe Terrace on the Place du Forum</td>\n      <td>43.0</td>\n      <td>Post-Impressionism</td>\n    </tr>\n    <tr>\n      <th>1</th>\n      <td>1</td>\n      <td>0</td>\n      <td>1.0</td>\n      <td>Vincent Van Gogh</td>\n      <td>Starry Night</td>\n      <td>43.0</td>\n      <td>Post-Impressionism</td>\n    </tr>\n    <tr>\n      <th>2</th>\n      <td>2</td>\n      <td>0</td>\n      <td>2.0</td>\n      <td>Vincent Van Gogh</td>\n      <td>A Digger</td>\n      <td>43.0</td>\n      <td>Post-Impressionism</td>\n    </tr>\n    <tr>\n      <th>3</th>\n      <td>3</td>\n      <td>0</td>\n      <td>3.0</td>\n      <td>Vincent Van Gogh</td>\n      <td>A Group of Cottages</td>\n      <td>43.0</td>\n      <td>Post-Impressionism</td>\n    </tr>\n    <tr>\n      <th>4</th>\n      <td>4</td>\n      <td>0</td>\n      <td>4.0</td>\n      <td>Vincent Van Gogh</td>\n      <td>A Pair of Shoes</td>\n      <td>43.0</td>\n      <td>Post-Impressionism</td>\n    </tr>\n    <tr>\n      <th>...</th>\n      <td>...</td>\n      <td>...</td>\n      <td>...</td>\n      <td>...</td>\n      <td>...</td>\n      <td>...</td>\n      <td>...</td>\n    </tr>\n    <tr>\n      <th>11929</th>\n      <td>11929</td>\n      <td>615</td>\n      <td>10515.0</td>\n      <td>Otto van Veen</td>\n      <td>Distribution of Herring and White Bread during...</td>\n      <td>NaN</td>\n      <td>NaN</td>\n    </tr>\n    <tr>\n      <th>11930</th>\n      <td>11930</td>\n      <td>615</td>\n      <td>10516.0</td>\n      <td>Otto van Veen</td>\n      <td>The Artist Painting, Surrounded by his Family</td>\n      <td>NaN</td>\n      <td>NaN</td>\n    </tr>\n    <tr>\n      <th>11931</th>\n      <td>11931</td>\n      <td>615</td>\n      <td>10517.0</td>\n      <td>Otto van Veen</td>\n      <td>Hercules seated at the foot of a tree in a lan...</td>\n      <td>NaN</td>\n      <td>NaN</td>\n    </tr>\n    <tr>\n      <th>11932</th>\n      <td>11932</td>\n      <td>615</td>\n      <td>10518.0</td>\n      <td>Otto van Veen</td>\n      <td>St. Matthew Bringing Back To Life The Son Of T...</td>\n      <td>NaN</td>\n      <td>NaN</td>\n    </tr>\n    <tr>\n      <th>11933</th>\n      <td>11933</td>\n      <td>615</td>\n      <td>10519.0</td>\n      <td>Otto van Veen</td>\n      <td>The Four Fathers Of The Church</td>\n      <td>NaN</td>\n      <td>NaN</td>\n    </tr>\n  </tbody>\n</table>\n<p>11934 rows × 7 columns</p>\n</div>"
     },
     "execution_count": 199,
     "metadata": {},
     "output_type": "execute_result"
    }
   ],
   "source": [
    "artwork_stratos"
   ],
   "metadata": {
    "collapsed": false,
    "pycharm": {
     "name": "#%%\n"
    }
   }
  },
  {
   "cell_type": "code",
   "execution_count": 200,
   "outputs": [],
   "source": [
    "artworks_paulina = artworks_date.copy()"
   ],
   "metadata": {
    "collapsed": false,
    "pycharm": {
     "name": "#%%\n"
    }
   }
  },
  {
   "cell_type": "code",
   "execution_count": 202,
   "outputs": [],
   "source": [
    "artworks_paulina.drop(['url','start_date', 'end_date'], axis= 1, inplace=True)\n",
    "artworks_paulina.rename({'name': 'name_artist','name_x': 'name' }, axis= 1, inplace=True)"
   ],
   "metadata": {
    "collapsed": false,
    "pycharm": {
     "name": "#%%\n"
    }
   }
  },
  {
   "cell_type": "code",
   "execution_count": 204,
   "outputs": [],
   "source": [
    "artworks_paulina.rename({'image_url': 'url'}, axis= 1, inplace= True)"
   ],
   "metadata": {
    "collapsed": false,
    "pycharm": {
     "name": "#%%\n"
    }
   }
  },
  {
   "cell_type": "code",
   "execution_count": 205,
   "outputs": [
    {
     "data": {
      "text/plain": "       artwork_id                                               name  \\\n0               0                 Cafe Terrace on the Place du Forum   \n1               1                                       Starry Night   \n2               2                                           A Digger   \n3               3                                A Group of Cottages   \n4               4                                    A Pair of Shoes   \n...           ...                                                ...   \n10512       10515  Distribution of Herring and White Bread during...   \n10513       10516      The Artist Painting, Surrounded by his Family   \n10514       10517  Hercules seated at the foot of a tree in a lan...   \n10515       10518  St. Matthew Bringing Back To Life The Son Of T...   \n10516       10519                     The Four Fathers Of The Church   \n\n                                                     url  \\\n0      https://kuleuven-datathon-2023.s3.eu-central-1...   \n1      https://kuleuven-datathon-2023.s3.eu-central-1...   \n2      https://kuleuven-datathon-2023.s3.eu-central-1...   \n3      https://kuleuven-datathon-2023.s3.eu-central-1...   \n4      https://kuleuven-datathon-2023.s3.eu-central-1...   \n...                                                  ...   \n10512  https://kuleuven-datathon-2023.s3.eu-central-1...   \n10513  https://kuleuven-datathon-2023.s3.eu-central-1...   \n10514  https://kuleuven-datathon-2023.s3.eu-central-1...   \n10515  https://kuleuven-datathon-2023.s3.eu-central-1...   \n10516  https://kuleuven-datathon-2023.s3.eu-central-1...   \n\n                                                 summary  artist_id  \\\n0      Café Terrace at Night is an 1888 oil painting ...          0   \n1                                                    NaN          0   \n2                                                    NaN          0   \n3      Stoneywell is a National Trust property in Ulv...          0   \n4      Toms (stylized as TOMS) is a for-profit compan...          0   \n...                                                  ...        ...   \n10512  The List of painters in the Web Gallery of Art...        615   \n10513  Charles IV of Spain and His Family is an oil-o...        615   \n10514  The Italian Renaissance garden was a new style...        615   \n10515  Ethiopia is one of the oldest countries in Afr...        615   \n10516  The Church Fathers, Early Church Fathers, Chri...        615   \n\n            name_artist    year  \n0      Vincent Van Gogh  1878.0  \n1      Vincent Van Gogh  1878.0  \n2      Vincent Van Gogh  1878.0  \n3      Vincent Van Gogh  1878.0  \n4      Vincent Van Gogh  1878.0  \n...                 ...     ...  \n10512     Otto van Veen     NaN  \n10513     Otto van Veen     NaN  \n10514     Otto van Veen     NaN  \n10515     Otto van Veen     NaN  \n10516     Otto van Veen     NaN  \n\n[10517 rows x 7 columns]",
      "text/html": "<div>\n<style scoped>\n    .dataframe tbody tr th:only-of-type {\n        vertical-align: middle;\n    }\n\n    .dataframe tbody tr th {\n        vertical-align: top;\n    }\n\n    .dataframe thead th {\n        text-align: right;\n    }\n</style>\n<table border=\"1\" class=\"dataframe\">\n  <thead>\n    <tr style=\"text-align: right;\">\n      <th></th>\n      <th>artwork_id</th>\n      <th>name</th>\n      <th>url</th>\n      <th>summary</th>\n      <th>artist_id</th>\n      <th>name_artist</th>\n      <th>year</th>\n    </tr>\n  </thead>\n  <tbody>\n    <tr>\n      <th>0</th>\n      <td>0</td>\n      <td>Cafe Terrace on the Place du Forum</td>\n      <td>https://kuleuven-datathon-2023.s3.eu-central-1...</td>\n      <td>Café Terrace at Night is an 1888 oil painting ...</td>\n      <td>0</td>\n      <td>Vincent Van Gogh</td>\n      <td>1878.0</td>\n    </tr>\n    <tr>\n      <th>1</th>\n      <td>1</td>\n      <td>Starry Night</td>\n      <td>https://kuleuven-datathon-2023.s3.eu-central-1...</td>\n      <td>NaN</td>\n      <td>0</td>\n      <td>Vincent Van Gogh</td>\n      <td>1878.0</td>\n    </tr>\n    <tr>\n      <th>2</th>\n      <td>2</td>\n      <td>A Digger</td>\n      <td>https://kuleuven-datathon-2023.s3.eu-central-1...</td>\n      <td>NaN</td>\n      <td>0</td>\n      <td>Vincent Van Gogh</td>\n      <td>1878.0</td>\n    </tr>\n    <tr>\n      <th>3</th>\n      <td>3</td>\n      <td>A Group of Cottages</td>\n      <td>https://kuleuven-datathon-2023.s3.eu-central-1...</td>\n      <td>Stoneywell is a National Trust property in Ulv...</td>\n      <td>0</td>\n      <td>Vincent Van Gogh</td>\n      <td>1878.0</td>\n    </tr>\n    <tr>\n      <th>4</th>\n      <td>4</td>\n      <td>A Pair of Shoes</td>\n      <td>https://kuleuven-datathon-2023.s3.eu-central-1...</td>\n      <td>Toms (stylized as TOMS) is a for-profit compan...</td>\n      <td>0</td>\n      <td>Vincent Van Gogh</td>\n      <td>1878.0</td>\n    </tr>\n    <tr>\n      <th>...</th>\n      <td>...</td>\n      <td>...</td>\n      <td>...</td>\n      <td>...</td>\n      <td>...</td>\n      <td>...</td>\n      <td>...</td>\n    </tr>\n    <tr>\n      <th>10512</th>\n      <td>10515</td>\n      <td>Distribution of Herring and White Bread during...</td>\n      <td>https://kuleuven-datathon-2023.s3.eu-central-1...</td>\n      <td>The List of painters in the Web Gallery of Art...</td>\n      <td>615</td>\n      <td>Otto van Veen</td>\n      <td>NaN</td>\n    </tr>\n    <tr>\n      <th>10513</th>\n      <td>10516</td>\n      <td>The Artist Painting, Surrounded by his Family</td>\n      <td>https://kuleuven-datathon-2023.s3.eu-central-1...</td>\n      <td>Charles IV of Spain and His Family is an oil-o...</td>\n      <td>615</td>\n      <td>Otto van Veen</td>\n      <td>NaN</td>\n    </tr>\n    <tr>\n      <th>10514</th>\n      <td>10517</td>\n      <td>Hercules seated at the foot of a tree in a lan...</td>\n      <td>https://kuleuven-datathon-2023.s3.eu-central-1...</td>\n      <td>The Italian Renaissance garden was a new style...</td>\n      <td>615</td>\n      <td>Otto van Veen</td>\n      <td>NaN</td>\n    </tr>\n    <tr>\n      <th>10515</th>\n      <td>10518</td>\n      <td>St. Matthew Bringing Back To Life The Son Of T...</td>\n      <td>https://kuleuven-datathon-2023.s3.eu-central-1...</td>\n      <td>Ethiopia is one of the oldest countries in Afr...</td>\n      <td>615</td>\n      <td>Otto van Veen</td>\n      <td>NaN</td>\n    </tr>\n    <tr>\n      <th>10516</th>\n      <td>10519</td>\n      <td>The Four Fathers Of The Church</td>\n      <td>https://kuleuven-datathon-2023.s3.eu-central-1...</td>\n      <td>The Church Fathers, Early Church Fathers, Chri...</td>\n      <td>615</td>\n      <td>Otto van Veen</td>\n      <td>NaN</td>\n    </tr>\n  </tbody>\n</table>\n<p>10517 rows × 7 columns</p>\n</div>"
     },
     "execution_count": 205,
     "metadata": {},
     "output_type": "execute_result"
    }
   ],
   "source": [
    "artworks_paulina"
   ],
   "metadata": {
    "collapsed": false,
    "pycharm": {
     "name": "#%%\n"
    }
   }
  },
  {
   "cell_type": "code",
   "execution_count": 206,
   "outputs": [],
   "source": [
    "dataset_dir='/Users/paulinarocha/PycharmProjects/datachallenge2023/datathlon-GPT/FilesCSVFormat/stratos_files/'\n",
    "place_artwork = pd.read_csv(dataset_dir+'place_artwork.csv')"
   ],
   "metadata": {
    "collapsed": false,
    "pycharm": {
     "name": "#%%\n"
    }
   }
  },
  {
   "cell_type": "code",
   "execution_count": 208,
   "outputs": [],
   "source": [
    "artworks_paulina = pd.merge(artworks_paulina, place_artwork, how= 'left', on='artwork_id')\n",
    "#place_artwork"
   ],
   "metadata": {
    "collapsed": false,
    "pycharm": {
     "name": "#%%\n"
    }
   }
  },
  {
   "cell_type": "code",
   "execution_count": 210,
   "outputs": [],
   "source": [
    "artworks_paulina.drop(['Unnamed: 0','painting_name'], axis=1, inplace=True)"
   ],
   "metadata": {
    "collapsed": false,
    "pycharm": {
     "name": "#%%\n"
    }
   }
  },
  {
   "cell_type": "code",
   "execution_count": 212,
   "outputs": [],
   "source": [
    "artworks_paulina.rename({'place_name':'location'}, axis= True, inplace=True)"
   ],
   "metadata": {
    "collapsed": false,
    "pycharm": {
     "name": "#%%\n"
    }
   }
  },
  {
   "cell_type": "code",
   "execution_count": 213,
   "outputs": [
    {
     "data": {
      "text/plain": "       artwork_id                                               name  \\\n0               0                 Cafe Terrace on the Place du Forum   \n1               1                                       Starry Night   \n2               2                                           A Digger   \n3               3                                A Group of Cottages   \n4               4                                    A Pair of Shoes   \n...           ...                                                ...   \n10512       10515  Distribution of Herring and White Bread during...   \n10513       10516      The Artist Painting, Surrounded by his Family   \n10514       10517  Hercules seated at the foot of a tree in a lan...   \n10515       10518  St. Matthew Bringing Back To Life The Son Of T...   \n10516       10519                     The Four Fathers Of The Church   \n\n                                                     url  \\\n0      https://kuleuven-datathon-2023.s3.eu-central-1...   \n1      https://kuleuven-datathon-2023.s3.eu-central-1...   \n2      https://kuleuven-datathon-2023.s3.eu-central-1...   \n3      https://kuleuven-datathon-2023.s3.eu-central-1...   \n4      https://kuleuven-datathon-2023.s3.eu-central-1...   \n...                                                  ...   \n10512  https://kuleuven-datathon-2023.s3.eu-central-1...   \n10513  https://kuleuven-datathon-2023.s3.eu-central-1...   \n10514  https://kuleuven-datathon-2023.s3.eu-central-1...   \n10515  https://kuleuven-datathon-2023.s3.eu-central-1...   \n10516  https://kuleuven-datathon-2023.s3.eu-central-1...   \n\n                                                 summary  artist_id  \\\n0      Café Terrace at Night is an 1888 oil painting ...          0   \n1                                                    NaN          0   \n2                                                    NaN          0   \n3      Stoneywell is a National Trust property in Ulv...          0   \n4      Toms (stylized as TOMS) is a for-profit compan...          0   \n...                                                  ...        ...   \n10512  The List of painters in the Web Gallery of Art...        615   \n10513  Charles IV of Spain and His Family is an oil-o...        615   \n10514  The Italian Renaissance garden was a new style...        615   \n10515  Ethiopia is one of the oldest countries in Afr...        615   \n10516  The Church Fathers, Early Church Fathers, Chri...        615   \n\n            name_artist    year  place_id        location  \n0      Vincent Van Gogh  1878.0     213.0     Netherlands  \n1      Vincent Van Gogh  1878.0     213.0     Netherlands  \n2      Vincent Van Gogh  1878.0     213.0     Netherlands  \n3      Vincent Van Gogh  1878.0     213.0     Netherlands  \n4      Vincent Van Gogh  1878.0     213.0     Netherlands  \n...                 ...     ...       ...             ...  \n10512     Otto van Veen     NaN     217.0  Dutch Republic  \n10513     Otto van Veen     NaN     217.0  Dutch Republic  \n10514     Otto van Veen     NaN     217.0  Dutch Republic  \n10515     Otto van Veen     NaN     217.0  Dutch Republic  \n10516     Otto van Veen     NaN     217.0  Dutch Republic  \n\n[10517 rows x 9 columns]",
      "text/html": "<div>\n<style scoped>\n    .dataframe tbody tr th:only-of-type {\n        vertical-align: middle;\n    }\n\n    .dataframe tbody tr th {\n        vertical-align: top;\n    }\n\n    .dataframe thead th {\n        text-align: right;\n    }\n</style>\n<table border=\"1\" class=\"dataframe\">\n  <thead>\n    <tr style=\"text-align: right;\">\n      <th></th>\n      <th>artwork_id</th>\n      <th>name</th>\n      <th>url</th>\n      <th>summary</th>\n      <th>artist_id</th>\n      <th>name_artist</th>\n      <th>year</th>\n      <th>place_id</th>\n      <th>location</th>\n    </tr>\n  </thead>\n  <tbody>\n    <tr>\n      <th>0</th>\n      <td>0</td>\n      <td>Cafe Terrace on the Place du Forum</td>\n      <td>https://kuleuven-datathon-2023.s3.eu-central-1...</td>\n      <td>Café Terrace at Night is an 1888 oil painting ...</td>\n      <td>0</td>\n      <td>Vincent Van Gogh</td>\n      <td>1878.0</td>\n      <td>213.0</td>\n      <td>Netherlands</td>\n    </tr>\n    <tr>\n      <th>1</th>\n      <td>1</td>\n      <td>Starry Night</td>\n      <td>https://kuleuven-datathon-2023.s3.eu-central-1...</td>\n      <td>NaN</td>\n      <td>0</td>\n      <td>Vincent Van Gogh</td>\n      <td>1878.0</td>\n      <td>213.0</td>\n      <td>Netherlands</td>\n    </tr>\n    <tr>\n      <th>2</th>\n      <td>2</td>\n      <td>A Digger</td>\n      <td>https://kuleuven-datathon-2023.s3.eu-central-1...</td>\n      <td>NaN</td>\n      <td>0</td>\n      <td>Vincent Van Gogh</td>\n      <td>1878.0</td>\n      <td>213.0</td>\n      <td>Netherlands</td>\n    </tr>\n    <tr>\n      <th>3</th>\n      <td>3</td>\n      <td>A Group of Cottages</td>\n      <td>https://kuleuven-datathon-2023.s3.eu-central-1...</td>\n      <td>Stoneywell is a National Trust property in Ulv...</td>\n      <td>0</td>\n      <td>Vincent Van Gogh</td>\n      <td>1878.0</td>\n      <td>213.0</td>\n      <td>Netherlands</td>\n    </tr>\n    <tr>\n      <th>4</th>\n      <td>4</td>\n      <td>A Pair of Shoes</td>\n      <td>https://kuleuven-datathon-2023.s3.eu-central-1...</td>\n      <td>Toms (stylized as TOMS) is a for-profit compan...</td>\n      <td>0</td>\n      <td>Vincent Van Gogh</td>\n      <td>1878.0</td>\n      <td>213.0</td>\n      <td>Netherlands</td>\n    </tr>\n    <tr>\n      <th>...</th>\n      <td>...</td>\n      <td>...</td>\n      <td>...</td>\n      <td>...</td>\n      <td>...</td>\n      <td>...</td>\n      <td>...</td>\n      <td>...</td>\n      <td>...</td>\n    </tr>\n    <tr>\n      <th>10512</th>\n      <td>10515</td>\n      <td>Distribution of Herring and White Bread during...</td>\n      <td>https://kuleuven-datathon-2023.s3.eu-central-1...</td>\n      <td>The List of painters in the Web Gallery of Art...</td>\n      <td>615</td>\n      <td>Otto van Veen</td>\n      <td>NaN</td>\n      <td>217.0</td>\n      <td>Dutch Republic</td>\n    </tr>\n    <tr>\n      <th>10513</th>\n      <td>10516</td>\n      <td>The Artist Painting, Surrounded by his Family</td>\n      <td>https://kuleuven-datathon-2023.s3.eu-central-1...</td>\n      <td>Charles IV of Spain and His Family is an oil-o...</td>\n      <td>615</td>\n      <td>Otto van Veen</td>\n      <td>NaN</td>\n      <td>217.0</td>\n      <td>Dutch Republic</td>\n    </tr>\n    <tr>\n      <th>10514</th>\n      <td>10517</td>\n      <td>Hercules seated at the foot of a tree in a lan...</td>\n      <td>https://kuleuven-datathon-2023.s3.eu-central-1...</td>\n      <td>The Italian Renaissance garden was a new style...</td>\n      <td>615</td>\n      <td>Otto van Veen</td>\n      <td>NaN</td>\n      <td>217.0</td>\n      <td>Dutch Republic</td>\n    </tr>\n    <tr>\n      <th>10515</th>\n      <td>10518</td>\n      <td>St. Matthew Bringing Back To Life The Son Of T...</td>\n      <td>https://kuleuven-datathon-2023.s3.eu-central-1...</td>\n      <td>Ethiopia is one of the oldest countries in Afr...</td>\n      <td>615</td>\n      <td>Otto van Veen</td>\n      <td>NaN</td>\n      <td>217.0</td>\n      <td>Dutch Republic</td>\n    </tr>\n    <tr>\n      <th>10516</th>\n      <td>10519</td>\n      <td>The Four Fathers Of The Church</td>\n      <td>https://kuleuven-datathon-2023.s3.eu-central-1...</td>\n      <td>The Church Fathers, Early Church Fathers, Chri...</td>\n      <td>615</td>\n      <td>Otto van Veen</td>\n      <td>NaN</td>\n      <td>217.0</td>\n      <td>Dutch Republic</td>\n    </tr>\n  </tbody>\n</table>\n<p>10517 rows × 9 columns</p>\n</div>"
     },
     "execution_count": 213,
     "metadata": {},
     "output_type": "execute_result"
    }
   ],
   "source": [
    "artworks_paulina"
   ],
   "metadata": {
    "collapsed": false,
    "pycharm": {
     "name": "#%%\n"
    }
   }
  },
  {
   "cell_type": "code",
   "execution_count": 214,
   "outputs": [],
   "source": [
    "artworks_paulina.to_csv('Artworks.csv')"
   ],
   "metadata": {
    "collapsed": false,
    "pycharm": {
     "name": "#%%\n"
    }
   }
  },
  {
   "cell_type": "markdown",
   "source": [
    "## century"
   ],
   "metadata": {
    "collapsed": false,
    "pycharm": {
     "name": "#%% md\n"
    }
   }
  },
  {
   "cell_type": "code",
   "execution_count": 227,
   "outputs": [],
   "source": [
    "dataset_dir='/Users/paulinarocha/PycharmProjects/datachallenge2023/datathlon-GPT/FilesCSVFormat/stratos_files/'\n",
    "artwork_century = pd.read_csv(dataset_dir+'artwork_century.csv')"
   ],
   "metadata": {
    "collapsed": false,
    "pycharm": {
     "name": "#%%\n"
    }
   }
  },
  {
   "cell_type": "code",
   "execution_count": 228,
   "outputs": [
    {
     "data": {
      "text/plain": "       Unnamed: 0  artwork_id  century\n0               0           0     19.0\n1               1           1     19.0\n2               2           2     19.0\n3               3           3     19.0\n4               4           4     19.0\n...           ...         ...      ...\n10512       10512       10515      NaN\n10513       10513       10516      NaN\n10514       10514       10517      NaN\n10515       10515       10518      NaN\n10516       10516       10519      NaN\n\n[10517 rows x 3 columns]",
      "text/html": "<div>\n<style scoped>\n    .dataframe tbody tr th:only-of-type {\n        vertical-align: middle;\n    }\n\n    .dataframe tbody tr th {\n        vertical-align: top;\n    }\n\n    .dataframe thead th {\n        text-align: right;\n    }\n</style>\n<table border=\"1\" class=\"dataframe\">\n  <thead>\n    <tr style=\"text-align: right;\">\n      <th></th>\n      <th>Unnamed: 0</th>\n      <th>artwork_id</th>\n      <th>century</th>\n    </tr>\n  </thead>\n  <tbody>\n    <tr>\n      <th>0</th>\n      <td>0</td>\n      <td>0</td>\n      <td>19.0</td>\n    </tr>\n    <tr>\n      <th>1</th>\n      <td>1</td>\n      <td>1</td>\n      <td>19.0</td>\n    </tr>\n    <tr>\n      <th>2</th>\n      <td>2</td>\n      <td>2</td>\n      <td>19.0</td>\n    </tr>\n    <tr>\n      <th>3</th>\n      <td>3</td>\n      <td>3</td>\n      <td>19.0</td>\n    </tr>\n    <tr>\n      <th>4</th>\n      <td>4</td>\n      <td>4</td>\n      <td>19.0</td>\n    </tr>\n    <tr>\n      <th>...</th>\n      <td>...</td>\n      <td>...</td>\n      <td>...</td>\n    </tr>\n    <tr>\n      <th>10512</th>\n      <td>10512</td>\n      <td>10515</td>\n      <td>NaN</td>\n    </tr>\n    <tr>\n      <th>10513</th>\n      <td>10513</td>\n      <td>10516</td>\n      <td>NaN</td>\n    </tr>\n    <tr>\n      <th>10514</th>\n      <td>10514</td>\n      <td>10517</td>\n      <td>NaN</td>\n    </tr>\n    <tr>\n      <th>10515</th>\n      <td>10515</td>\n      <td>10518</td>\n      <td>NaN</td>\n    </tr>\n    <tr>\n      <th>10516</th>\n      <td>10516</td>\n      <td>10519</td>\n      <td>NaN</td>\n    </tr>\n  </tbody>\n</table>\n<p>10517 rows × 3 columns</p>\n</div>"
     },
     "execution_count": 228,
     "metadata": {},
     "output_type": "execute_result"
    }
   ],
   "source": [
    "#artwork_century.to_string(columns=['century'])\n",
    "artwork_century"
   ],
   "metadata": {
    "collapsed": false,
    "pycharm": {
     "name": "#%%\n"
    }
   }
  },
  {
   "cell_type": "code",
   "execution_count": 237,
   "outputs": [],
   "source": [
    "def start_century(century):\n",
    "    try:\n",
    "        if century != np.nan:\n",
    "            start =str(int((century-1)*100))\n",
    "            #year = date_string[0:4]\n",
    "            #month = int(date_string[5:7])\n",
    "            #day = int(date_string[8:10])\n",
    "            return start + '-00-00'\n",
    "        else:\n",
    "            return century\n",
    "\n",
    "    except:\n",
    "        return century\n",
    "\n",
    "artwork_century['start_date'] = artwork_century['century'].apply(lambda x: start_century(x))"
   ],
   "metadata": {
    "collapsed": false,
    "pycharm": {
     "name": "#%%\n"
    }
   }
  },
  {
   "cell_type": "code",
   "execution_count": 239,
   "outputs": [],
   "source": [
    "def end_century(century):\n",
    "    try:\n",
    "        if century != np.nan:\n",
    "            end =str(int((century)*100))\n",
    "            #year = date_string[0:4]\n",
    "            #month = int(date_string[5:7])\n",
    "            #day = int(date_string[8:10])\n",
    "            return end + '-00-00'\n",
    "        else:\n",
    "            return century\n",
    "\n",
    "    except:\n",
    "        return century\n",
    "\n",
    "artwork_century['end_date'] = artwork_century['century'].apply(lambda x: end_century(x))"
   ],
   "metadata": {
    "collapsed": false,
    "pycharm": {
     "name": "#%%\n"
    }
   }
  },
  {
   "cell_type": "code",
   "execution_count": 241,
   "outputs": [],
   "source": [
    "artwork_century['category_id'] = 2"
   ],
   "metadata": {
    "collapsed": false,
    "pycharm": {
     "name": "#%%\n"
    }
   }
  },
  {
   "cell_type": "code",
   "execution_count": 246,
   "outputs": [
    {
     "data": {
      "text/plain": "       Unnamed: 0  artwork_id  century  start_date    end_date  category_id\n0               0           0     19.0  1800-00-00  1900-00-00            2\n1               1           1     19.0  1800-00-00  1900-00-00            2\n2               2           2     19.0  1800-00-00  1900-00-00            2\n3               3           3     19.0  1800-00-00  1900-00-00            2\n4               4           4     19.0  1800-00-00  1900-00-00            2\n...           ...         ...      ...         ...         ...          ...\n10512       10512       10515      NaN         NaN         NaN            2\n10513       10513       10516      NaN         NaN         NaN            2\n10514       10514       10517      NaN         NaN         NaN            2\n10515       10515       10518      NaN         NaN         NaN            2\n10516       10516       10519      NaN         NaN         NaN            2\n\n[10517 rows x 6 columns]",
      "text/html": "<div>\n<style scoped>\n    .dataframe tbody tr th:only-of-type {\n        vertical-align: middle;\n    }\n\n    .dataframe tbody tr th {\n        vertical-align: top;\n    }\n\n    .dataframe thead th {\n        text-align: right;\n    }\n</style>\n<table border=\"1\" class=\"dataframe\">\n  <thead>\n    <tr style=\"text-align: right;\">\n      <th></th>\n      <th>Unnamed: 0</th>\n      <th>artwork_id</th>\n      <th>century</th>\n      <th>start_date</th>\n      <th>end_date</th>\n      <th>category_id</th>\n    </tr>\n  </thead>\n  <tbody>\n    <tr>\n      <th>0</th>\n      <td>0</td>\n      <td>0</td>\n      <td>19.0</td>\n      <td>1800-00-00</td>\n      <td>1900-00-00</td>\n      <td>2</td>\n    </tr>\n    <tr>\n      <th>1</th>\n      <td>1</td>\n      <td>1</td>\n      <td>19.0</td>\n      <td>1800-00-00</td>\n      <td>1900-00-00</td>\n      <td>2</td>\n    </tr>\n    <tr>\n      <th>2</th>\n      <td>2</td>\n      <td>2</td>\n      <td>19.0</td>\n      <td>1800-00-00</td>\n      <td>1900-00-00</td>\n      <td>2</td>\n    </tr>\n    <tr>\n      <th>3</th>\n      <td>3</td>\n      <td>3</td>\n      <td>19.0</td>\n      <td>1800-00-00</td>\n      <td>1900-00-00</td>\n      <td>2</td>\n    </tr>\n    <tr>\n      <th>4</th>\n      <td>4</td>\n      <td>4</td>\n      <td>19.0</td>\n      <td>1800-00-00</td>\n      <td>1900-00-00</td>\n      <td>2</td>\n    </tr>\n    <tr>\n      <th>...</th>\n      <td>...</td>\n      <td>...</td>\n      <td>...</td>\n      <td>...</td>\n      <td>...</td>\n      <td>...</td>\n    </tr>\n    <tr>\n      <th>10512</th>\n      <td>10512</td>\n      <td>10515</td>\n      <td>NaN</td>\n      <td>NaN</td>\n      <td>NaN</td>\n      <td>2</td>\n    </tr>\n    <tr>\n      <th>10513</th>\n      <td>10513</td>\n      <td>10516</td>\n      <td>NaN</td>\n      <td>NaN</td>\n      <td>NaN</td>\n      <td>2</td>\n    </tr>\n    <tr>\n      <th>10514</th>\n      <td>10514</td>\n      <td>10517</td>\n      <td>NaN</td>\n      <td>NaN</td>\n      <td>NaN</td>\n      <td>2</td>\n    </tr>\n    <tr>\n      <th>10515</th>\n      <td>10515</td>\n      <td>10518</td>\n      <td>NaN</td>\n      <td>NaN</td>\n      <td>NaN</td>\n      <td>2</td>\n    </tr>\n    <tr>\n      <th>10516</th>\n      <td>10516</td>\n      <td>10519</td>\n      <td>NaN</td>\n      <td>NaN</td>\n      <td>NaN</td>\n      <td>2</td>\n    </tr>\n  </tbody>\n</table>\n<p>10517 rows × 6 columns</p>\n</div>"
     },
     "execution_count": 246,
     "metadata": {},
     "output_type": "execute_result"
    }
   ],
   "source": [
    "artwork_century"
   ],
   "metadata": {
    "collapsed": false,
    "pycharm": {
     "name": "#%%\n"
    }
   }
  },
  {
   "cell_type": "code",
   "execution_count": 249,
   "outputs": [],
   "source": [
    "#artist_subcategory.drop_duplicates(subset=['century'], keep='first', inplace=True, ignore_index=True)"
   ],
   "metadata": {
    "collapsed": false,
    "pycharm": {
     "name": "#%%\n"
    }
   }
  },
  {
   "cell_type": "code",
   "execution_count": null,
   "outputs": [],
   "source": [],
   "metadata": {
    "collapsed": false,
    "pycharm": {
     "name": "#%%\n"
    }
   }
  }
 ],
 "metadata": {
  "kernelspec": {
   "display_name": "Python 3",
   "language": "python",
   "name": "python3"
  },
  "language_info": {
   "codemirror_mode": {
    "name": "ipython",
    "version": 2
   },
   "file_extension": ".py",
   "mimetype": "text/x-python",
   "name": "python",
   "nbconvert_exporter": "python",
   "pygments_lexer": "ipython2",
   "version": "2.7.6"
  }
 },
 "nbformat": 4,
 "nbformat_minor": 0
}