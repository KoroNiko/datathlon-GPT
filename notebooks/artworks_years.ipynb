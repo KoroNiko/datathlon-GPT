{
 "cells": [
  {
   "cell_type": "code",
   "execution_count": 20,
   "metadata": {
    "collapsed": true
   },
   "outputs": [],
   "source": [
    "# !pip install folium\n",
    "# !pip install python-dotenv\n",
    "#import folium\n",
    "import numpy as np\n",
    "import pandas as pd\n",
    "import os\n",
    "dataset_dir='../FilesCSVFormat/'\n"
   ]
  },
  {
   "cell_type": "code",
   "execution_count": 21,
   "outputs": [],
   "source": [
    "artists = pd.read_csv(dataset_dir+'Artist.csv')\n",
    "artworks = pd.read_csv(dataset_dir+'Artwork.csv')\n",
    "artworks_date=pd.merge(artworks,artists[['id','birthdate']], how='left', left_on=['artist'], right_on=['id'])"
   ],
   "metadata": {
    "collapsed": false,
    "pycharm": {
     "name": "#%%\n"
    }
   }
  },
  {
   "cell_type": "code",
   "execution_count": 22,
   "outputs": [],
   "source": [
    "def fto_datetime(date_string):\n",
    "    try:\n",
    "        year = date_string[0:4]\n",
    "        #month = int(date_string[5:7])\n",
    "        #day = int(date_string[8:10])\n",
    "        return int(year)\n",
    "    except:\n",
    "        return np.NaN\n",
    "\n",
    "artworks_date['birthdate'] = artworks_date['birthdate'].apply(lambda x: fto_datetime(x))"
   ],
   "metadata": {
    "collapsed": false,
    "pycharm": {
     "name": "#%%\n"
    }
   }
  },
  {
   "cell_type": "code",
   "execution_count": 23,
   "outputs": [],
   "source": [
    "def add_25years(date_int):\n",
    "    try:\n",
    "        x = date_int + 25\n",
    "        return int(x)\n",
    "    except:\n",
    "        return np.NaN\n",
    "\n",
    "artworks_date['good_year'] = artworks_date['birthdate'].apply(lambda x: add_25years(x))"
   ],
   "metadata": {
    "collapsed": false,
    "pycharm": {
     "name": "#%%\n"
    }
   }
  },
  {
   "cell_type": "code",
   "execution_count": 24,
   "outputs": [],
   "source": [
    "#delete the old year column and rename columns\n",
    "artworks_date.drop('year',axis=1,inplace=True)\n",
    "artworks_date.rename({'id_x': 'id_artwork', 'id_y':'id_artist', 'good_year': 'year' }, inplace=True, errors=\"raise\",axis=1)"
   ],
   "metadata": {
    "collapsed": false,
    "pycharm": {
     "name": "#%%\n"
    }
   }
  },
  {
   "cell_type": "code",
   "execution_count": 26,
   "outputs": [
    {
     "data": {
      "text/plain": "       id_artwork                                               name  \\\n0               0                 Cafe Terrace on the Place du Forum   \n1               1                                       Starry Night   \n2               2                                           A Digger   \n3               3                                A Group of Cottages   \n4               4                                    A Pair of Shoes   \n...           ...                                                ...   \n10512       10515  Distribution of Herring and White Bread during...   \n10513       10516      The Artist Painting, Surrounded by his Family   \n10514       10517  Hercules seated at the foot of a tree in a lan...   \n10515       10518  St. Matthew Bringing Back To Life The Son Of T...   \n10516       10519                     The Four Fathers Of The Church   \n\n                                                     url  \\\n0      http://wikigallery.org/wiki/painting_133032/Vi...   \n1      http://wikigallery.org/wiki/painting_9698/Vinc...   \n2      http://wikigallery.org/wiki/painting_132953/Vi...   \n3      http://wikigallery.org/wiki/painting_132642/Vi...   \n4      http://wikigallery.org/wiki/painting_94630/Vin...   \n...                                                  ...   \n10512  http://wikigallery.org/wiki/painting_300071/Ot...   \n10513  http://wikigallery.org/wiki/painting_300070/Ot...   \n10514  http://wikigallery.org/wiki/painting_285809/Ot...   \n10515  http://wikigallery.org/wiki/painting_368500/Ot...   \n10516  http://wikigallery.org/wiki/painting_378600/Ot...   \n\n                                               image_url  artist  rating  \\\n0      https://kuleuven-datathon-2023.s3.eu-central-1...       0     8.0   \n1      https://kuleuven-datathon-2023.s3.eu-central-1...       0     9.0   \n2      https://kuleuven-datathon-2023.s3.eu-central-1...       0     7.0   \n3      https://kuleuven-datathon-2023.s3.eu-central-1...       0     6.0   \n4      https://kuleuven-datathon-2023.s3.eu-central-1...       0     8.0   \n...                                                  ...     ...     ...   \n10512  https://kuleuven-datathon-2023.s3.eu-central-1...     615     NaN   \n10513  https://kuleuven-datathon-2023.s3.eu-central-1...     615     NaN   \n10514  https://kuleuven-datathon-2023.s3.eu-central-1...     615     NaN   \n10515  https://kuleuven-datathon-2023.s3.eu-central-1...     615     NaN   \n10516  https://kuleuven-datathon-2023.s3.eu-central-1...     615     NaN   \n\n                                                 summary  medium  \\\n0      Café Terrace at Night is an 1888 oil painting ...     0.0   \n1                                                    NaN     NaN   \n2                                                    NaN     NaN   \n3      Stoneywell is a National Trust property in Ulv...     NaN   \n4      Toms (stylized as TOMS) is a for-profit compan...     NaN   \n...                                                  ...     ...   \n10512  The List of painters in the Web Gallery of Art...     NaN   \n10513  Charles IV of Spain and His Family is an oil-o...     0.0   \n10514  The Italian Renaissance garden was a new style...     NaN   \n10515  Ethiopia is one of the oldest countries in Afr...     NaN   \n10516  The Church Fathers, Early Church Fathers, Chri...     NaN   \n\n                    location  id_artist  birthdate    year  \n0      Kröller-Müller Museum          0     1853.0  1878.0  \n1                        NaN          0     1853.0  1878.0  \n2                        NaN          0     1853.0  1878.0  \n3                        NaN          0     1853.0  1878.0  \n4                        NaN          0     1853.0  1878.0  \n...                      ...        ...        ...     ...  \n10512                    NaN        615        NaN     NaN  \n10513        Museo del Prado        615        NaN     NaN  \n10514                    NaN        615        NaN     NaN  \n10515                    NaN        615        NaN     NaN  \n10516                    NaN        615        NaN     NaN  \n\n[10517 rows x 12 columns]",
      "text/html": "<div>\n<style scoped>\n    .dataframe tbody tr th:only-of-type {\n        vertical-align: middle;\n    }\n\n    .dataframe tbody tr th {\n        vertical-align: top;\n    }\n\n    .dataframe thead th {\n        text-align: right;\n    }\n</style>\n<table border=\"1\" class=\"dataframe\">\n  <thead>\n    <tr style=\"text-align: right;\">\n      <th></th>\n      <th>id_artwork</th>\n      <th>name</th>\n      <th>url</th>\n      <th>image_url</th>\n      <th>artist</th>\n      <th>rating</th>\n      <th>summary</th>\n      <th>medium</th>\n      <th>location</th>\n      <th>id_artist</th>\n      <th>birthdate</th>\n      <th>year</th>\n    </tr>\n  </thead>\n  <tbody>\n    <tr>\n      <th>0</th>\n      <td>0</td>\n      <td>Cafe Terrace on the Place du Forum</td>\n      <td>http://wikigallery.org/wiki/painting_133032/Vi...</td>\n      <td>https://kuleuven-datathon-2023.s3.eu-central-1...</td>\n      <td>0</td>\n      <td>8.0</td>\n      <td>Café Terrace at Night is an 1888 oil painting ...</td>\n      <td>0.0</td>\n      <td>Kröller-Müller Museum</td>\n      <td>0</td>\n      <td>1853.0</td>\n      <td>1878.0</td>\n    </tr>\n    <tr>\n      <th>1</th>\n      <td>1</td>\n      <td>Starry Night</td>\n      <td>http://wikigallery.org/wiki/painting_9698/Vinc...</td>\n      <td>https://kuleuven-datathon-2023.s3.eu-central-1...</td>\n      <td>0</td>\n      <td>9.0</td>\n      <td>NaN</td>\n      <td>NaN</td>\n      <td>NaN</td>\n      <td>0</td>\n      <td>1853.0</td>\n      <td>1878.0</td>\n    </tr>\n    <tr>\n      <th>2</th>\n      <td>2</td>\n      <td>A Digger</td>\n      <td>http://wikigallery.org/wiki/painting_132953/Vi...</td>\n      <td>https://kuleuven-datathon-2023.s3.eu-central-1...</td>\n      <td>0</td>\n      <td>7.0</td>\n      <td>NaN</td>\n      <td>NaN</td>\n      <td>NaN</td>\n      <td>0</td>\n      <td>1853.0</td>\n      <td>1878.0</td>\n    </tr>\n    <tr>\n      <th>3</th>\n      <td>3</td>\n      <td>A Group of Cottages</td>\n      <td>http://wikigallery.org/wiki/painting_132642/Vi...</td>\n      <td>https://kuleuven-datathon-2023.s3.eu-central-1...</td>\n      <td>0</td>\n      <td>6.0</td>\n      <td>Stoneywell is a National Trust property in Ulv...</td>\n      <td>NaN</td>\n      <td>NaN</td>\n      <td>0</td>\n      <td>1853.0</td>\n      <td>1878.0</td>\n    </tr>\n    <tr>\n      <th>4</th>\n      <td>4</td>\n      <td>A Pair of Shoes</td>\n      <td>http://wikigallery.org/wiki/painting_94630/Vin...</td>\n      <td>https://kuleuven-datathon-2023.s3.eu-central-1...</td>\n      <td>0</td>\n      <td>8.0</td>\n      <td>Toms (stylized as TOMS) is a for-profit compan...</td>\n      <td>NaN</td>\n      <td>NaN</td>\n      <td>0</td>\n      <td>1853.0</td>\n      <td>1878.0</td>\n    </tr>\n    <tr>\n      <th>...</th>\n      <td>...</td>\n      <td>...</td>\n      <td>...</td>\n      <td>...</td>\n      <td>...</td>\n      <td>...</td>\n      <td>...</td>\n      <td>...</td>\n      <td>...</td>\n      <td>...</td>\n      <td>...</td>\n      <td>...</td>\n    </tr>\n    <tr>\n      <th>10512</th>\n      <td>10515</td>\n      <td>Distribution of Herring and White Bread during...</td>\n      <td>http://wikigallery.org/wiki/painting_300071/Ot...</td>\n      <td>https://kuleuven-datathon-2023.s3.eu-central-1...</td>\n      <td>615</td>\n      <td>NaN</td>\n      <td>The List of painters in the Web Gallery of Art...</td>\n      <td>NaN</td>\n      <td>NaN</td>\n      <td>615</td>\n      <td>NaN</td>\n      <td>NaN</td>\n    </tr>\n    <tr>\n      <th>10513</th>\n      <td>10516</td>\n      <td>The Artist Painting, Surrounded by his Family</td>\n      <td>http://wikigallery.org/wiki/painting_300070/Ot...</td>\n      <td>https://kuleuven-datathon-2023.s3.eu-central-1...</td>\n      <td>615</td>\n      <td>NaN</td>\n      <td>Charles IV of Spain and His Family is an oil-o...</td>\n      <td>0.0</td>\n      <td>Museo del Prado</td>\n      <td>615</td>\n      <td>NaN</td>\n      <td>NaN</td>\n    </tr>\n    <tr>\n      <th>10514</th>\n      <td>10517</td>\n      <td>Hercules seated at the foot of a tree in a lan...</td>\n      <td>http://wikigallery.org/wiki/painting_285809/Ot...</td>\n      <td>https://kuleuven-datathon-2023.s3.eu-central-1...</td>\n      <td>615</td>\n      <td>NaN</td>\n      <td>The Italian Renaissance garden was a new style...</td>\n      <td>NaN</td>\n      <td>NaN</td>\n      <td>615</td>\n      <td>NaN</td>\n      <td>NaN</td>\n    </tr>\n    <tr>\n      <th>10515</th>\n      <td>10518</td>\n      <td>St. Matthew Bringing Back To Life The Son Of T...</td>\n      <td>http://wikigallery.org/wiki/painting_368500/Ot...</td>\n      <td>https://kuleuven-datathon-2023.s3.eu-central-1...</td>\n      <td>615</td>\n      <td>NaN</td>\n      <td>Ethiopia is one of the oldest countries in Afr...</td>\n      <td>NaN</td>\n      <td>NaN</td>\n      <td>615</td>\n      <td>NaN</td>\n      <td>NaN</td>\n    </tr>\n    <tr>\n      <th>10516</th>\n      <td>10519</td>\n      <td>The Four Fathers Of The Church</td>\n      <td>http://wikigallery.org/wiki/painting_378600/Ot...</td>\n      <td>https://kuleuven-datathon-2023.s3.eu-central-1...</td>\n      <td>615</td>\n      <td>NaN</td>\n      <td>The Church Fathers, Early Church Fathers, Chri...</td>\n      <td>NaN</td>\n      <td>NaN</td>\n      <td>615</td>\n      <td>NaN</td>\n      <td>NaN</td>\n    </tr>\n  </tbody>\n</table>\n<p>10517 rows × 12 columns</p>\n</div>"
     },
     "execution_count": 26,
     "metadata": {},
     "output_type": "execute_result"
    }
   ],
   "source": [
    "#artworks_date"
   ],
   "metadata": {
    "collapsed": false,
    "pycharm": {
     "name": "#%%\n"
    }
   }
  },
  {
   "cell_type": "code",
   "execution_count": 22,
   "outputs": [
    {
     "data": {
      "text/plain": "       id_artwork                                               name  \\\n0               0                 Cafe Terrace on the Place du Forum   \n1               1                                       Starry Night   \n2               2                                           A Digger   \n3               3                                A Group of Cottages   \n4               4                                    A Pair of Shoes   \n...           ...                                                ...   \n10512       10515  Distribution of Herring and White Bread during...   \n10513       10516      The Artist Painting, Surrounded by his Family   \n10514       10517  Hercules seated at the foot of a tree in a lan...   \n10515       10518  St. Matthew Bringing Back To Life The Son Of T...   \n10516       10519                     The Four Fathers Of The Church   \n\n                                                     url  \\\n0      http://wikigallery.org/wiki/painting_133032/Vi...   \n1      http://wikigallery.org/wiki/painting_9698/Vinc...   \n2      http://wikigallery.org/wiki/painting_132953/Vi...   \n3      http://wikigallery.org/wiki/painting_132642/Vi...   \n4      http://wikigallery.org/wiki/painting_94630/Vin...   \n...                                                  ...   \n10512  http://wikigallery.org/wiki/painting_300071/Ot...   \n10513  http://wikigallery.org/wiki/painting_300070/Ot...   \n10514  http://wikigallery.org/wiki/painting_285809/Ot...   \n10515  http://wikigallery.org/wiki/painting_368500/Ot...   \n10516  http://wikigallery.org/wiki/painting_378600/Ot...   \n\n                                               image_url  artist  rating  \\\n0      https://kuleuven-datathon-2023.s3.eu-central-1...       0     8.0   \n1      https://kuleuven-datathon-2023.s3.eu-central-1...       0     9.0   \n2      https://kuleuven-datathon-2023.s3.eu-central-1...       0     7.0   \n3      https://kuleuven-datathon-2023.s3.eu-central-1...       0     6.0   \n4      https://kuleuven-datathon-2023.s3.eu-central-1...       0     8.0   \n...                                                  ...     ...     ...   \n10512  https://kuleuven-datathon-2023.s3.eu-central-1...     615     NaN   \n10513  https://kuleuven-datathon-2023.s3.eu-central-1...     615     NaN   \n10514  https://kuleuven-datathon-2023.s3.eu-central-1...     615     NaN   \n10515  https://kuleuven-datathon-2023.s3.eu-central-1...     615     NaN   \n10516  https://kuleuven-datathon-2023.s3.eu-central-1...     615     NaN   \n\n                                                 summary    year  medium  \\\n0      Café Terrace at Night is an 1888 oil painting ...  1888.0     0.0   \n1                                                    NaN     NaN     NaN   \n2                                                    NaN     NaN     NaN   \n3      Stoneywell is a National Trust property in Ulv...     NaN     NaN   \n4      Toms (stylized as TOMS) is a for-profit compan...     NaN     NaN   \n...                                                  ...     ...     ...   \n10512  The List of painters in the Web Gallery of Art...     NaN     NaN   \n10513  Charles IV of Spain and His Family is an oil-o...     NaN     0.0   \n10514  The Italian Renaissance garden was a new style...     NaN     NaN   \n10515  Ethiopia is one of the oldest countries in Afr...     NaN     NaN   \n10516  The Church Fathers, Early Church Fathers, Chri...     NaN     NaN   \n\n                    location  id_artist  birthdate  good_year  \n0      Kröller-Müller Museum          0     1853.0     1878.0  \n1                        NaN          0     1853.0     1878.0  \n2                        NaN          0     1853.0     1878.0  \n3                        NaN          0     1853.0     1878.0  \n4                        NaN          0     1853.0     1878.0  \n...                      ...        ...        ...        ...  \n10512                    NaN        615        NaN        NaN  \n10513        Museo del Prado        615        NaN        NaN  \n10514                    NaN        615        NaN        NaN  \n10515                    NaN        615        NaN        NaN  \n10516                    NaN        615        NaN        NaN  \n\n[10517 rows x 13 columns]",
      "text/html": "<div>\n<style scoped>\n    .dataframe tbody tr th:only-of-type {\n        vertical-align: middle;\n    }\n\n    .dataframe tbody tr th {\n        vertical-align: top;\n    }\n\n    .dataframe thead th {\n        text-align: right;\n    }\n</style>\n<table border=\"1\" class=\"dataframe\">\n  <thead>\n    <tr style=\"text-align: right;\">\n      <th></th>\n      <th>id_artwork</th>\n      <th>name</th>\n      <th>url</th>\n      <th>image_url</th>\n      <th>artist</th>\n      <th>rating</th>\n      <th>summary</th>\n      <th>year</th>\n      <th>medium</th>\n      <th>location</th>\n      <th>id_artist</th>\n      <th>birthdate</th>\n      <th>good_year</th>\n    </tr>\n  </thead>\n  <tbody>\n    <tr>\n      <th>0</th>\n      <td>0</td>\n      <td>Cafe Terrace on the Place du Forum</td>\n      <td>http://wikigallery.org/wiki/painting_133032/Vi...</td>\n      <td>https://kuleuven-datathon-2023.s3.eu-central-1...</td>\n      <td>0</td>\n      <td>8.0</td>\n      <td>Café Terrace at Night is an 1888 oil painting ...</td>\n      <td>1888.0</td>\n      <td>0.0</td>\n      <td>Kröller-Müller Museum</td>\n      <td>0</td>\n      <td>1853.0</td>\n      <td>1878.0</td>\n    </tr>\n    <tr>\n      <th>1</th>\n      <td>1</td>\n      <td>Starry Night</td>\n      <td>http://wikigallery.org/wiki/painting_9698/Vinc...</td>\n      <td>https://kuleuven-datathon-2023.s3.eu-central-1...</td>\n      <td>0</td>\n      <td>9.0</td>\n      <td>NaN</td>\n      <td>NaN</td>\n      <td>NaN</td>\n      <td>NaN</td>\n      <td>0</td>\n      <td>1853.0</td>\n      <td>1878.0</td>\n    </tr>\n    <tr>\n      <th>2</th>\n      <td>2</td>\n      <td>A Digger</td>\n      <td>http://wikigallery.org/wiki/painting_132953/Vi...</td>\n      <td>https://kuleuven-datathon-2023.s3.eu-central-1...</td>\n      <td>0</td>\n      <td>7.0</td>\n      <td>NaN</td>\n      <td>NaN</td>\n      <td>NaN</td>\n      <td>NaN</td>\n      <td>0</td>\n      <td>1853.0</td>\n      <td>1878.0</td>\n    </tr>\n    <tr>\n      <th>3</th>\n      <td>3</td>\n      <td>A Group of Cottages</td>\n      <td>http://wikigallery.org/wiki/painting_132642/Vi...</td>\n      <td>https://kuleuven-datathon-2023.s3.eu-central-1...</td>\n      <td>0</td>\n      <td>6.0</td>\n      <td>Stoneywell is a National Trust property in Ulv...</td>\n      <td>NaN</td>\n      <td>NaN</td>\n      <td>NaN</td>\n      <td>0</td>\n      <td>1853.0</td>\n      <td>1878.0</td>\n    </tr>\n    <tr>\n      <th>4</th>\n      <td>4</td>\n      <td>A Pair of Shoes</td>\n      <td>http://wikigallery.org/wiki/painting_94630/Vin...</td>\n      <td>https://kuleuven-datathon-2023.s3.eu-central-1...</td>\n      <td>0</td>\n      <td>8.0</td>\n      <td>Toms (stylized as TOMS) is a for-profit compan...</td>\n      <td>NaN</td>\n      <td>NaN</td>\n      <td>NaN</td>\n      <td>0</td>\n      <td>1853.0</td>\n      <td>1878.0</td>\n    </tr>\n    <tr>\n      <th>...</th>\n      <td>...</td>\n      <td>...</td>\n      <td>...</td>\n      <td>...</td>\n      <td>...</td>\n      <td>...</td>\n      <td>...</td>\n      <td>...</td>\n      <td>...</td>\n      <td>...</td>\n      <td>...</td>\n      <td>...</td>\n      <td>...</td>\n    </tr>\n    <tr>\n      <th>10512</th>\n      <td>10515</td>\n      <td>Distribution of Herring and White Bread during...</td>\n      <td>http://wikigallery.org/wiki/painting_300071/Ot...</td>\n      <td>https://kuleuven-datathon-2023.s3.eu-central-1...</td>\n      <td>615</td>\n      <td>NaN</td>\n      <td>The List of painters in the Web Gallery of Art...</td>\n      <td>NaN</td>\n      <td>NaN</td>\n      <td>NaN</td>\n      <td>615</td>\n      <td>NaN</td>\n      <td>NaN</td>\n    </tr>\n    <tr>\n      <th>10513</th>\n      <td>10516</td>\n      <td>The Artist Painting, Surrounded by his Family</td>\n      <td>http://wikigallery.org/wiki/painting_300070/Ot...</td>\n      <td>https://kuleuven-datathon-2023.s3.eu-central-1...</td>\n      <td>615</td>\n      <td>NaN</td>\n      <td>Charles IV of Spain and His Family is an oil-o...</td>\n      <td>NaN</td>\n      <td>0.0</td>\n      <td>Museo del Prado</td>\n      <td>615</td>\n      <td>NaN</td>\n      <td>NaN</td>\n    </tr>\n    <tr>\n      <th>10514</th>\n      <td>10517</td>\n      <td>Hercules seated at the foot of a tree in a lan...</td>\n      <td>http://wikigallery.org/wiki/painting_285809/Ot...</td>\n      <td>https://kuleuven-datathon-2023.s3.eu-central-1...</td>\n      <td>615</td>\n      <td>NaN</td>\n      <td>The Italian Renaissance garden was a new style...</td>\n      <td>NaN</td>\n      <td>NaN</td>\n      <td>NaN</td>\n      <td>615</td>\n      <td>NaN</td>\n      <td>NaN</td>\n    </tr>\n    <tr>\n      <th>10515</th>\n      <td>10518</td>\n      <td>St. Matthew Bringing Back To Life The Son Of T...</td>\n      <td>http://wikigallery.org/wiki/painting_368500/Ot...</td>\n      <td>https://kuleuven-datathon-2023.s3.eu-central-1...</td>\n      <td>615</td>\n      <td>NaN</td>\n      <td>Ethiopia is one of the oldest countries in Afr...</td>\n      <td>NaN</td>\n      <td>NaN</td>\n      <td>NaN</td>\n      <td>615</td>\n      <td>NaN</td>\n      <td>NaN</td>\n    </tr>\n    <tr>\n      <th>10516</th>\n      <td>10519</td>\n      <td>The Four Fathers Of The Church</td>\n      <td>http://wikigallery.org/wiki/painting_378600/Ot...</td>\n      <td>https://kuleuven-datathon-2023.s3.eu-central-1...</td>\n      <td>615</td>\n      <td>NaN</td>\n      <td>The Church Fathers, Early Church Fathers, Chri...</td>\n      <td>NaN</td>\n      <td>NaN</td>\n      <td>NaN</td>\n      <td>615</td>\n      <td>NaN</td>\n      <td>NaN</td>\n    </tr>\n  </tbody>\n</table>\n<p>10517 rows × 13 columns</p>\n</div>"
     },
     "execution_count": 22,
     "metadata": {},
     "output_type": "execute_result"
    }
   ],
   "source": [
    "# saving the new dataframe with artworks years\n",
    "#artworks_date.to_csv(dataset_dir+ 'artworks_date.csv')"
   ],
   "metadata": {
    "collapsed": false,
    "pycharm": {
     "name": "#%%\n"
    }
   }
  },
  {
   "cell_type": "code",
   "execution_count": null,
   "outputs": [],
   "source": [],
   "metadata": {
    "collapsed": false,
    "pycharm": {
     "name": "#%%\n"
    }
   }
  }
 ],
 "metadata": {
  "kernelspec": {
   "display_name": "Python 3",
   "language": "python",
   "name": "python3"
  },
  "language_info": {
   "codemirror_mode": {
    "name": "ipython",
    "version": 2
   },
   "file_extension": ".py",
   "mimetype": "text/x-python",
   "name": "python",
   "nbconvert_exporter": "python",
   "pygments_lexer": "ipython2",
   "version": "2.7.6"
  }
 },
 "nbformat": 4,
 "nbformat_minor": 0
}