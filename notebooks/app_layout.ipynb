{
 "cells": [
  {
   "cell_type": "code",
   "execution_count": null,
   "metadata": {},
   "outputs": [],
   "source": [
    "from dash import dcc\n",
    "from dash import html\n",
    "\n",
    "import json\n",
    "import matplotlib.pyplot as plt \n",
    "import numpy as np \n",
    "import pandas as pd\n",
    "import plotly.graph_objects as go\n",
    "import plotly.express as px\n",
    "\n",
    "from environment.settings import config\n",
    "from plotly.subplots import make_subplots\n",
    "\n",
    "geojson_dir = config['GEOJSON']"
   ]
  },
  {
   "cell_type": "code",
   "execution_count": 1,
   "metadata": {},
   "outputs": [],
   "source": [
    "# select * from category\n",
    "#   inner join subcategory on category.id = subcategory.category_id\n",
    "#   inner join ar\n",
    "# where category.name = 'Artist'\n",
    "#   and subcategory.name = 'Pablo Picasso'"
   ]
  },
  {
   "cell_type": "code",
   "execution_count": null,
   "metadata": {},
   "outputs": [],
   "source": [
    "fig = go.Figure(data=[], )\n",
    "fig.add_trace(go.Scatter(x=list(range(10)), y=list(range(10)), mode='markers', marker=dict(size=10, color='red')))"
   ]
  }
 ],
 "metadata": {
  "kernelspec": {
   "display_name": ".venv_datathlon",
   "language": "python",
   "name": "python3"
  },
  "language_info": {
   "codemirror_mode": {
    "name": "ipython",
    "version": 3
   },
   "file_extension": ".py",
   "mimetype": "text/x-python",
   "name": "python",
   "nbconvert_exporter": "python",
   "pygments_lexer": "ipython3",
   "version": "3.10.6"
  },
  "orig_nbformat": 4,
  "vscode": {
   "interpreter": {
    "hash": "02e2d7ca0a70b00640d87c69d13c74971494e5463d67573890529749ab9dd4f5"
   }
  }
 },
 "nbformat": 4,
 "nbformat_minor": 2
}
