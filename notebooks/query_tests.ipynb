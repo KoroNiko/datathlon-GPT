{
 "cells": [
  {
   "cell_type": "code",
   "execution_count": 1,
   "metadata": {},
   "outputs": [],
   "source": [
    "import ast\n",
    "import numpy as np\n",
    "import pandas as pd\n",
    "\n",
    "from environment.settings import config\n",
    "from numpy import matlib\n",
    "from sqlalchemy import select, text, and_, or_\n",
    "from sqlalchemy.sql import Select\n",
    "from utils import connections\n",
    "from utils import database\n",
    "\n",
    "database_dir = config['DATABASE_DIR']\n",
    "\n",
    "NUM_COLORS = 10"
   ]
  },
  {
   "cell_type": "code",
   "execution_count": 2,
   "metadata": {},
   "outputs": [
    {
     "ename": "NameError",
     "evalue": "name 'artworks' is not defined",
     "output_type": "error",
     "traceback": [
      "\u001b[0;31m---------------------------------------------------------------------------\u001b[0m",
      "\u001b[0;31mNameError\u001b[0m                                 Traceback (most recent call last)",
      "Cell \u001b[0;32mIn[2], line 2\u001b[0m\n\u001b[1;32m      1\u001b[0m query \u001b[39m=\u001b[39m select(database\u001b[39m.\u001b[39mColors)\\\n\u001b[0;32m----> 2\u001b[0m             \u001b[39m.\u001b[39mfilter(database\u001b[39m.\u001b[39mColors\u001b[39m.\u001b[39mid\u001b[39m.\u001b[39min_(artworks))\n\u001b[1;32m      4\u001b[0m \u001b[39mwith\u001b[39;00m connections\u001b[39m.\u001b[39msession_db() \u001b[39mas\u001b[39;00m con:\n\u001b[1;32m      5\u001b[0m     df_colors \u001b[39m=\u001b[39m pd\u001b[39m.\u001b[39mread_sql_query(sql\u001b[39m=\u001b[39mquery, con\u001b[39m=\u001b[39mcon\u001b[39m.\u001b[39mconnection())\n",
      "\u001b[0;31mNameError\u001b[0m: name 'artworks' is not defined"
     ]
    }
   ],
   "source": [
    "query = select(database.Colors)\\\n",
    "            .filter(database.Colors.id.in_(artworks))\n",
    "    \n",
    "with connections.session_db() as con:\n",
    "    df_colors = pd.read_sql_query(sql=query, con=con.connection())\n",
    "    df_colors.rgb_colors = df_colors.rgb_colors.apply(lambda x: ast.literal_eval(x))\n",
    "    "
   ]
  }
 ],
 "metadata": {
  "kernelspec": {
   "display_name": ".venv_datathlon",
   "language": "python",
   "name": "python3"
  },
  "language_info": {
   "codemirror_mode": {
    "name": "ipython",
    "version": 3
   },
   "file_extension": ".py",
   "mimetype": "text/x-python",
   "name": "python",
   "nbconvert_exporter": "python",
   "pygments_lexer": "ipython3",
   "version": "3.10.6"
  },
  "orig_nbformat": 4,
  "vscode": {
   "interpreter": {
    "hash": "02e2d7ca0a70b00640d87c69d13c74971494e5463d67573890529749ab9dd4f5"
   }
  }
 },
 "nbformat": 4,
 "nbformat_minor": 2
}
