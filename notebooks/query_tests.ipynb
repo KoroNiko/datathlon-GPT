{
 "cells": [
  {
   "cell_type": "code",
   "execution_count": 1,
   "metadata": {},
   "outputs": [],
   "source": [
    "import ast\n",
    "import numpy as np\n",
    "import pandas as pd\n",
    "\n",
    "from environment.settings import config\n",
    "from numpy import matlib\n",
    "from sqlalchemy import select, text, and_, or_\n",
    "from sqlalchemy.sql import Select\n",
    "from utils import connections\n",
    "from utils import database\n",
    "\n",
    "database_dir = config['DATABASE_DIR']\n",
    "\n",
    "NUM_COLORS = 10"
   ]
  },
  {
   "cell_type": "code",
   "execution_count": null,
   "metadata": {},
   "outputs": [],
   "source": [
    "subcategory = 1\n",
    "\n",
    "with connections.session_db() as con:\n",
    "    df = pd.read_sql_query(sql=select(database.Subcategory).where(database.Subcategory.id == subcategory), con=con.connection())\n",
    "    # start_date = df.start_date.iloc[0]\n",
    "    # end_date = df.end_date.iloc[0]\n",
    "    \n",
    "    # query = select(database.Events).where(and_(database.Events.start_date >= start_date, database.Events.end_date <= end_date))\n",
    "    # df_events = pd.read_sql_query(sql=query, con=con.connection())\n",
    "    # categories = sorted(pd.read_sql_query(sql=query, con=con.connection()).name.to_list())\n",
    "    \n",
    "    \n",
    "df"
   ]
  },
  {
   "cell_type": "code",
   "execution_count": null,
   "metadata": {},
   "outputs": [],
   "source": []
  },
  {
   "cell_type": "code",
   "execution_count": null,
   "metadata": {},
   "outputs": [],
   "source": [
    "pd.Timestamp('2020-01-01')\n",
    "# pd.Timestamp(year = 2020, month = 1, day = 1)"
   ]
  }
 ],
 "metadata": {
  "kernelspec": {
   "display_name": ".venv_datathlon",
   "language": "python",
   "name": "python3"
  },
  "language_info": {
   "codemirror_mode": {
    "name": "ipython",
    "version": 3
   },
   "file_extension": ".py",
   "mimetype": "text/x-python",
   "name": "python",
   "nbconvert_exporter": "python",
   "pygments_lexer": "ipython3",
   "version": "3.10.6"
  },
  "orig_nbformat": 4,
  "vscode": {
   "interpreter": {
    "hash": "02e2d7ca0a70b00640d87c69d13c74971494e5463d67573890529749ab9dd4f5"
   }
  }
 },
 "nbformat": 4,
 "nbformat_minor": 2
}
